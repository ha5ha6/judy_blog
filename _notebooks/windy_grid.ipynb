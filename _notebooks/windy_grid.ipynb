{
 "cells": [
  {
   "cell_type": "code",
   "execution_count": 7,
   "id": "3660ee70-9e98-46cb-9853-167df164d4a1",
   "metadata": {},
   "outputs": [
    {
     "name": "stdout",
     "output_type": "stream",
     "text": [
      "ep:0, stps:499, ret:-500\n",
      "ep:10, stps:106, ret:-106\n",
      "ep:20, stps:186, ret:-186\n",
      "ep:30, stps:129, ret:-129\n",
      "ep:40, stps:16, ret:-16\n",
      "ep:50, stps:42, ret:-42\n",
      "ep:60, stps:26, ret:-26\n",
      "ep:70, stps:46, ret:-46\n",
      "ep:80, stps:30, ret:-30\n",
      "ep:90, stps:40, ret:-40\n",
      "ep:100, stps:20, ret:-20\n",
      "ep:110, stps:19, ret:-19\n",
      "ep:120, stps:24, ret:-24\n",
      "ep:130, stps:14, ret:-14\n",
      "ep:140, stps:26, ret:-26\n",
      "ep:150, stps:14, ret:-14\n",
      "ep:160, stps:15, ret:-15\n",
      "ep:170, stps:23, ret:-23\n",
      "ep:180, stps:25, ret:-25\n",
      "ep:190, stps:15, ret:-15\n",
      "ep:200, stps:19, ret:-19\n",
      "ep:210, stps:31, ret:-31\n",
      "ep:220, stps:16, ret:-16\n",
      "ep:230, stps:17, ret:-17\n",
      "ep:240, stps:19, ret:-19\n",
      "ep:250, stps:31, ret:-31\n",
      "ep:260, stps:40, ret:-40\n",
      "ep:270, stps:19, ret:-19\n",
      "ep:280, stps:23, ret:-23\n",
      "ep:290, stps:26, ret:-26\n",
      "ep:300, stps:22, ret:-22\n",
      "ep:310, stps:30, ret:-30\n",
      "ep:320, stps:23, ret:-23\n",
      "ep:330, stps:21, ret:-21\n",
      "ep:340, stps:17, ret:-17\n",
      "ep:350, stps:26, ret:-26\n",
      "ep:360, stps:14, ret:-14\n",
      "ep:370, stps:15, ret:-15\n",
      "ep:380, stps:14, ret:-14\n",
      "ep:390, stps:15, ret:-15\n",
      "ep:400, stps:15, ret:-15\n",
      "ep:410, stps:25, ret:-25\n",
      "ep:420, stps:14, ret:-14\n",
      "ep:430, stps:17, ret:-17\n",
      "ep:440, stps:14, ret:-14\n",
      "ep:450, stps:16, ret:-16\n",
      "ep:460, stps:14, ret:-14\n",
      "ep:470, stps:14, ret:-14\n",
      "ep:480, stps:19, ret:-19\n",
      "ep:490, stps:14, ret:-14\n"
     ]
    }
   ],
   "source": [
    "import numpy as np\n",
    "import matplotlib.pyplot as plt\n",
    "import seaborn as sns\n",
    "\n",
    "n_cols=10\n",
    "n_rows=7\n",
    "\n",
    "actions=[0,1,2,3] #up,down,left,right\n",
    "n_a=len(actions)\n",
    "\n",
    "START=[3,0]\n",
    "GOAL=[3,7]\n",
    "WIND=[0,0,0,1,1,1,2,2,1,0]\n",
    "\n",
    "def step(s,a):\n",
    "    \n",
    "    row,col=s\n",
    "    \n",
    "    if a==0:\n",
    "        s_=[max(row-1-WIND[col],0),col]\n",
    "    elif a==1:\n",
    "        s_=[max(min(row+1-WIND[col],n_rows-1),0),col]\n",
    "    elif a==2:\n",
    "        s_=[max(row-WIND[col],0), max(col-1,0)]\n",
    "    else:\n",
    "        s_=[max(row-WIND[col],0), min(col+1, n_cols-1)]\n",
    "        \n",
    "    if s_==GOAL:\n",
    "        return s_,0,True\n",
    "    else:\n",
    "        return s_,-1,False\n",
    "    \n",
    "def e_greedy(eps,q):\n",
    "    \n",
    "    if (np.random.random()<=eps):\n",
    "        return np.random.choice(actions)\n",
    "    \n",
    "    else:\n",
    "        return np.argmax(q)\n",
    "    \n",
    "def run_sarsa(n_eps=500,n_stps=500,eps=0.1,lr=0.5):\n",
    "\n",
    "    Q=np.zeros((n_rows,n_cols,n_a))\n",
    "\n",
    "    r_all,stp_all,cnt_all=[],[],[]\n",
    "    stpCnt=0\n",
    "\n",
    "    for ep in range(n_eps):\n",
    "\n",
    "        r_sum,done=0,False\n",
    "        s=START    \n",
    "        a=e_greedy(eps,Q[s[0],s[1]]) \n",
    "\n",
    "        for stp in range(n_stps):\n",
    "\n",
    "            s_,r,done=step(s,a)\n",
    "            a_=e_greedy(eps,Q[s_[0],s_[1]])\n",
    "            delta=r+Q[s_[0],s_[1],a_]-Q[s[0],s[1],a]\n",
    "            Q[s[0],s[1],a]+=lr*delta\n",
    "\n",
    "            s=s_\n",
    "            a=a_\n",
    "            r_sum+=r\n",
    "            stpCnt+=1\n",
    "\n",
    "            if done:\n",
    "                break\n",
    "\n",
    "        r_all.append(r_sum)\n",
    "        stp_all.append(stp)\n",
    "        cnt_all.append(stpCnt)\n",
    "\n",
    "        if ep%10==0:\n",
    "            print(f'ep:{ep}, stps:{stp}, ret:{r_sum}')\n",
    "    \n",
    "    return Q,r_all,stp_all,cnt_all\n",
    "\n",
    "Q,r,stp,cnt=run_sarsa()"
   ]
  },
  {
   "cell_type": "code",
   "execution_count": 9,
   "id": "c6987960-cdd0-4936-b67e-3ff0d924af04",
   "metadata": {},
   "outputs": [
    {
     "data": {
      "text/plain": [
       "Text(7.3, 3.7, 'G')"
      ]
     },
     "execution_count": 9,
     "metadata": {},
     "output_type": "execute_result"
    },
    {
     "data": {
      "image/png": "[encoded data removed]",
      "text/plain": [
       "<Figure size 432x288 with 2 Axes>"
      ]
     },
     "metadata": {
      "needs_background": "light"
     },
     "output_type": "display_data"
    }
   ],
   "source": [
    "q_heat=np.zeros((n_rows,n_cols))\n",
    "\n",
    "for i in range(n_rows):\n",
    "    for j in range(n_cols):\n",
    "        q_heat[i,j]=np.max(Q[i,j])\n",
    "        \n",
    "sns.heatmap(q_heat,cmap='jet',annot=True)\n",
    "plt.annotate('S', (0.3,3.7),fontsize=20,color = \"w\")\n",
    "plt.annotate('G', (7.3,3.7),fontsize=20,color = \"w\")"
   ]
  },
  {
   "cell_type": "code",
   "execution_count": 10,
   "id": "8a4a5e25-d622-4e39-8350-0c40a61ac44e",
   "metadata": {},
   "outputs": [
    {
     "data": {
      "text/plain": [
       "array([[0., 0., 3., 3., 3., 3., 3., 3., 3., 1.],\n",
       "       [3., 3., 3., 3., 3., 3., 3., 3., 2., 1.],\n",
       "       [3., 3., 0., 3., 3., 3., 3., 0., 3., 1.],\n",
       "       [3., 3., 3., 3., 0., 3., 3., 0., 3., 1.],\n",
       "       [3., 1., 0., 3., 3., 3., 0., 1., 2., 2.],\n",
       "       [1., 1., 3., 3., 3., 0., 0., 1., 2., 0.],\n",
       "       [3., 3., 3., 3., 0., 0., 0., 0., 2., 2.]])"
      ]
     },
     "execution_count": 10,
     "metadata": {},
     "output_type": "execute_result"
    }
   ],
   "source": [
    "op_act=np.zeros((n_rows,n_cols))\n",
    "\n",
    "for i in range(n_rows):\n",
    "    for j in range(n_cols):\n",
    "        op_act[i,j]=np.argmax(Q[i,j])\n",
    "        \n",
    "op_act"
   ]
  },
  {
   "cell_type": "code",
   "execution_count": 11,
   "id": "c6dbeb34-d64c-49a5-9d67-b94f51fef6c1",
   "metadata": {},
   "outputs": [
    {
     "data": {
      "text/plain": [
       "Text(7.3, 3.3, 'G')"
      ]
     },
     "execution_count": 11,
     "metadata": {},
     "output_type": "execute_result"
    },
    {
     "data": {
      "image/png": "[encoded data removed]",
      "text/plain": [
       "<Figure size 432x432 with 1 Axes>"
      ]
     },
     "metadata": {
      "needs_background": "light"
     },
     "output_type": "display_data"
    }
   ],
   "source": [
    "nx=10\n",
    "ny=7\n",
    "\n",
    "scale=0.3\n",
    "fig=plt.figure(figsize=(6,6))\n",
    "ax=fig.add_subplot(1,1,1)\n",
    "ax.set_aspect('equal', adjustable='box')\n",
    "ax.set_xticks(np.arange(0,nx+1,1))\n",
    "ax.set_yticks(np.arange(0,ny+1,1))\n",
    "plt.grid()\n",
    "plt.ylim((0,ny))\n",
    "plt.xlim((0,nx))\n",
    "\n",
    "\n",
    "for i in range(n_rows):\n",
    "    for j in range(n_cols):\n",
    "        if op_act[i,j]==0:\n",
    "            plt.arrow(j+0.5,6.5-i,0,scale,width=0.1, head_width=0.2, head_length=0.1,fc='g', ec='g')\n",
    "        elif op_act[i,j]==1:\n",
    "            plt.arrow(j+0.5,6.5-i,0,-scale,width=0.1, head_width=0.2, head_length=0.1,fc='c', ec='c')\n",
    "        elif op_act[i,j]==2:\n",
    "            plt.arrow(j+0.5,6.5-i,-scale,0,width=0.1, head_width=0.2, head_length=0.1,fc='b', ec='b')\n",
    "        elif op_act[i,j]==3:\n",
    "            #print(i,j)\n",
    "            plt.arrow(j+0.5,6.5-i,scale,0,width=0.1, head_width=0.2, head_length=0.1,fc='r', ec='r')\n",
    "            \n",
    "plt.annotate('S', (0.3,3.3),fontsize=20)\n",
    "plt.annotate('G', (7.3,3.3),fontsize=20)"
   ]
  },
  {
   "cell_type": "code",
   "execution_count": 14,
   "id": "6ced74dc-907e-429a-a529-f35d2f4aeefa",
   "metadata": {},
   "outputs": [
    {
     "data": {
      "text/plain": [
       "Text(0, 0.5, 'episodes')"
      ]
     },
     "execution_count": 14,
     "metadata": {},
     "output_type": "execute_result"
    },
    {
     "data": {
      "image/png": "[encoded data removed]",
      "text/plain": [
       "<Figure size 432x288 with 1 Axes>"
      ]
     },
     "metadata": {
      "needs_background": "light"
     },
     "output_type": "display_data"
    }
   ],
   "source": [
    "plt.rcParams['font.size'] = '14'\n",
    "plt.plot(cnt,range(500),linewidth=3)\n",
    "plt.grid()\n",
    "plt.xlabel('Steps')\n",
    "plt.ylabel('episodes')"
   ]
  },
  {
   "cell_type": "code",
   "execution_count": null,
   "id": "ff9285d5-bc0b-4ee1-9c95-0bb55d056d43",
   "metadata": {},
   "outputs": [],
   "source": []
  },
  {
   "cell_type": "code",
   "execution_count": null,
   "id": "b3ed1a5d-25bf-45d9-9e8d-89f8c64930ef",
   "metadata": {},
   "outputs": [],
   "source": []
  },
  {
   "cell_type": "code",
   "execution_count": null,
   "id": "bfa8d5cc-4b56-4007-90a2-b6a26f1a4d2b",
   "metadata": {},
   "outputs": [],
   "source": []
  },
  {
   "cell_type": "code",
   "execution_count": null,
   "id": "0b423f81-b018-4462-85be-ca6f91ddd1c4",
   "metadata": {},
   "outputs": [],
   "source": []
  },
  {
   "cell_type": "code",
   "execution_count": null,
   "id": "d568f53d-bf19-48ff-86de-04531d8de81d",
   "metadata": {},
   "outputs": [],
   "source": []
  }
 ],
 "metadata": {
  "kernelspec": {
   "display_name": "Python 3 (ipykernel)",
   "language": "python",
   "name": "python3"
  },
  "language_info": {
   "codemirror_mode": {
    "name": "ipython",
    "version": 3
   },
   "file_extension": ".py",
   "mimetype": "text/x-python",
   "name": "python",
   "nbconvert_exporter": "python",
   "pygments_lexer": "ipython3",
   "version": "3.9.7"
  }
 },
 "nbformat": 4,
 "nbformat_minor": 5
}
