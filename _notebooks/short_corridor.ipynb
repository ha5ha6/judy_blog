{
 "cells": [
  {
   "cell_type": "code",
   "execution_count": 2,
   "id": "47a4c6d5-acae-4abb-bb39-d415ee70e78b",
   "metadata": {},
   "outputs": [
    {
     "data": {
      "text/plain": [
       "(0, -1, False)"
      ]
     },
     "execution_count": 2,
     "metadata": {},
     "output_type": "execute_result"
    }
   ],
   "source": [
    "import numpy as np\n",
    "import matplotlib.pyplot as plt\n",
    "\n",
    "STATES=[0,1,2,3]\n",
    "ACTIONS=[0,1] #left,right\n",
    "\n",
    "def step(s,a):\n",
    "    \n",
    "    if s==0 or s==2:\n",
    "        if a==1:\n",
    "            s_=s+1\n",
    "        else:\n",
    "            s_=max(0,s-1)\n",
    "    else: #s==1\n",
    "        if a==1:\n",
    "            s_=s-1\n",
    "        else:\n",
    "            s_=s+1\n",
    "            \n",
    "    if s_==3:\n",
    "        return s_,0,True\n",
    "    else:\n",
    "        return s_,-1,False\n",
    "            \n",
    "START=0\n",
    "\n",
    "s=START\n",
    "\n",
    "step(0,0)"
   ]
  },
  {
   "cell_type": "code",
   "execution_count": 3,
   "id": "627a3f42-97a7-4b87-96e0-e030216bed16",
   "metadata": {},
   "outputs": [
    {
     "data": {
      "text/plain": [
       "(1, -1, False)"
      ]
     },
     "execution_count": 3,
     "metadata": {},
     "output_type": "execute_result"
    }
   ],
   "source": [
    "step(0,1)"
   ]
  },
  {
   "cell_type": "code",
   "execution_count": 4,
   "id": "898562b8-cb76-4af1-b983-e33d85d4d253",
   "metadata": {},
   "outputs": [
    {
     "data": {
      "text/plain": [
       "(2, -1, False)"
      ]
     },
     "execution_count": 4,
     "metadata": {},
     "output_type": "execute_result"
    }
   ],
   "source": [
    "step(1,0)"
   ]
  },
  {
   "cell_type": "code",
   "execution_count": 5,
   "id": "46c119bb-6682-41dc-a335-c159aa88703a",
   "metadata": {},
   "outputs": [
    {
     "data": {
      "text/plain": [
       "(0, -1, False)"
      ]
     },
     "execution_count": 5,
     "metadata": {},
     "output_type": "execute_result"
    }
   ],
   "source": [
    "step(1,1)"
   ]
  },
  {
   "cell_type": "code",
   "execution_count": 6,
   "id": "a0700ddd-bc82-4a08-b28d-add38f5891ea",
   "metadata": {},
   "outputs": [
    {
     "data": {
      "text/plain": [
       "(1, -1, False)"
      ]
     },
     "execution_count": 6,
     "metadata": {},
     "output_type": "execute_result"
    }
   ],
   "source": [
    "step(2,0)"
   ]
  },
  {
   "cell_type": "code",
   "execution_count": 7,
   "id": "c39fc3a2-f245-44f8-9f4f-45be738551fb",
   "metadata": {},
   "outputs": [
    {
     "data": {
      "text/plain": [
       "(3, 0, True)"
      ]
     },
     "execution_count": 7,
     "metadata": {},
     "output_type": "execute_result"
    }
   ],
   "source": [
    "step(2,1)"
   ]
  },
  {
   "cell_type": "code",
   "execution_count": 9,
   "id": "5cdcc4e5-70d4-4bbb-9857-58a5c6ecbb4f",
   "metadata": {},
   "outputs": [],
   "source": [
    "def true_value(p):\n",
    "    \"\"\" True value of the first state\n",
    "    Args:\n",
    "        p (float): probability of the action 'right'.\n",
    "    Returns:\n",
    "        True value of the first state.\n",
    "        The expression is obtained by manually solving the easy linear system\n",
    "        of Bellman equations using known dynamics.\n",
    "    \"\"\"\n",
    "    return (2 * p - 4) / (p * (1 - p))"
   ]
  },
  {
   "cell_type": "code",
   "execution_count": 11,
   "id": "9206656a-d20f-4832-9475-cc05058ed938",
   "metadata": {},
   "outputs": [
    {
     "data": {
      "image/png": "[encoded data removed]",
      "text/plain": [
       "<Figure size 432x288 with 1 Axes>"
      ]
     },
     "metadata": {
      "needs_background": "light"
     },
     "output_type": "display_data"
    }
   ],
   "source": [
    "\n",
    "epsilon = 0.05\n",
    "fig, ax = plt.subplots(1, 1)\n",
    "\n",
    "# Plot a graph\n",
    "p = np.linspace(0.01, 0.99, 100)\n",
    "y = true_value(p)\n",
    "ax.plot(p, y, color='red')\n",
    "\n",
    "# Find a maximum point, can also be done analytically by taking a derivative\n",
    "imax = np.argmax(y)\n",
    "pmax = p[imax]\n",
    "ymax = y[imax]\n",
    "ax.plot(pmax, ymax, color='green', marker=\"*\", label=\"optimal point: f({0:.2f}) = {1:.2f}\".format(pmax, ymax))\n",
    "\n",
    "# Plot points of two epsilon-greedy policies\n",
    "ax.plot(epsilon, true_value(epsilon), color='magenta', marker=\"o\", label=\"epsilon-greedy left\")\n",
    "ax.plot(1 - epsilon, true_value(1 - epsilon), color='blue', marker=\"o\", label=\"epsilon-greedy right\")\n",
    "\n",
    "ax.set_ylabel(\"Value of the first state\")\n",
    "ax.set_xlabel(\"Probability of the action 'right'\")\n",
    "ax.set_title(\"Short corridor with switched actions\")\n",
    "ax.set_ylim(ymin=-105.0, ymax=5)\n",
    "ax.legend()\n",
    "ax.grid()"
   ]
  },
  {
   "cell_type": "code",
   "execution_count": null,
   "id": "25b50568-71f6-4978-9a2b-4b6ce15c0503",
   "metadata": {},
   "outputs": [],
   "source": []
  }
 ],
 "metadata": {
  "kernelspec": {
   "display_name": "Python 3 (ipykernel)",
   "language": "python",
   "name": "python3"
  },
  "language_info": {
   "codemirror_mode": {
    "name": "ipython",
    "version": 3
   },
   "file_extension": ".py",
   "mimetype": "text/x-python",
   "name": "python",
   "nbconvert_exporter": "python",
   "pygments_lexer": "ipython3",
   "version": "3.8.12"
  }
 },
 "nbformat": 4,
 "nbformat_minor": 5
}
