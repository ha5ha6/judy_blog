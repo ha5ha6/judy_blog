{
 "cells": [
  {
   "cell_type": "markdown",
   "id": "34c11e00-16ea-4add-a69e-d7d8ac9781a6",
   "metadata": {},
   "source": [
    "### information theory\n",
    "\n",
    "$p(x)$ - probability distribution\n",
    "\n",
    "$h(x)$ - 'degree of surprise'\n",
    "\n",
    "if two events are unrelated, we want:\n",
    "\n",
    "$p(x,y)=p(x)p(y)$\n",
    "\n",
    "$h(x,y)=h(x)+h(y)$\n",
    "\n",
    "therefore a proper formation of $h(x)$ can be\n",
    "\n",
    "$h(x)=-\\log_2 p(x)$\n",
    "\n",
    "$p(x) \\in [0,1]$, $-$ to make $h(x)$ positive"
   ]
  },
  {
   "cell_type": "code",
   "execution_count": 115,
   "id": "29d9d2bb-df73-440f-b96c-cdc48821f162",
   "metadata": {},
   "outputs": [
    {
     "name": "stderr",
     "output_type": "stream",
     "text": [
      "/var/folders/89/wkwstz_d4zq1pshpw71z9wb80000gp/T/ipykernel_53913/4020330595.py:2: RuntimeWarning:\n",
      "\n",
      "divide by zero encountered in log\n",
      "\n"
     ]
    },
    {
     "data": {
      "text/plain": [
       "[<matplotlib.lines.Line2D at 0x17a7c2a00>]"
      ]
     },
     "execution_count": 115,
     "metadata": {},
     "output_type": "execute_result"
    },
    {
     "data": {
      "image/png": "[encoded data removed]",
      "text/plain": [
       "<Figure size 432x288 with 1 Axes>"
      ]
     },
     "metadata": {
      "needs_background": "light"
     },
     "output_type": "display_data"
    }
   ],
   "source": [
    "px=np.linspace(0,1,num=100)\n",
    "plt.plot(px,-np.log(px))"
   ]
  },
  {
   "cell_type": "markdown",
   "id": "d9eb2868-4484-4805-8b72-0bafdef1d896",
   "metadata": {},
   "source": [
    "**entropy** of the random variable $x$: the expectation of $h(x)$\n",
    "\n",
    "$H(x)=-\\sum_x p(x)\\log_2 p(x)$\n",
    "\n",
    "\"the entropy is a lower bound on the number of bits needed to transmit the state of a random variable\"\n",
    "\n",
    "#### discrete entropy\n",
    "\n",
    "suppose we have $N$ states of a discrete random variable $X$, where $p(X=x_i)=p_i$, the entropy of $X$ is then\n",
    "\n",
    "$H[p]=-\\sum_i p(x_i)\\log p(x_i)$\n",
    "\n",
    "**sharply peaked $p(x_i)$ has low entropy, whereas those that spread more evenly across many values will have high entropy**\n",
    "\n",
    "**uniform distribution has high entropy**\n",
    "\n",
    "when $p(x_i)=1$ and all other $p(x_{!=i})=0$, $H[p]=0$, since $\\log 1=0$\n",
    "\n",
    "if we max the entropy using Lagrange multiplier:\n",
    "\n",
    "$\\tilde{H}=-\\sum_i p(x_i)\\log p(x_i)+\\lambda\\left[\\sum_i p(x_i)-1 \\right]$\n",
    "\n",
    "we will find $p(x_i)=1/M$ gives the max entropy, where $M$ is the total number of states $x_i$\n",
    "\n",
    "the corresponding value $H=\\log M$\n",
    "\n",
    "#### continuous entropy\n",
    "\n",
    "$H(\\textbf{x})=-\\int p(\\textbf{x})\\log p(\\textbf{x}) d\\textbf{x}$\n",
    "\n",
    "to find the max entropy for continuous entropy, we impose three constraints:\n",
    "\n",
    "$\\int_{-\\infty}^{\\infty} p(x)dx=1$\n",
    "\n",
    "$\\int_{-\\infty}^{\\infty} xp(x)dx=\\mu$\n",
    "\n",
    "$\\int_{-\\infty}^{\\infty} (x-\\mu)^2p(x)dx=\\sigma^2$\n",
    "\n",
    "the result will be a Gaussian\n",
    "\n",
    "$p(x)=\\frac{1}{(2\\pi\\sigma^2)^{1/1}}\\exp\\left[-\\frac{(x-\\mu)^2}{2\\sigma^2} \\right]$\n",
    "\n",
    "and \n",
    "\n",
    "$H(x)=1/2[1+\\log(2\\pi\\sigma^2)]$\n",
    "\n",
    "**entropy increases as the distribution becomes broader i.e. as $\\sigma^2$ increases**\n",
    "\n",
    "#### conditional entropy\n",
    "\n",
    "$H[\\textbf{y}|\\textbf{x}]=-\\iint p(\\textbf{y},\\textbf{x})\\log p(\\textbf{y}|\\textbf{x})d\\textbf{y}d\\textbf{x}$\n",
    "\n",
    "$H[\\textbf{x},\\textbf{y}]=H[\\textbf{y}|\\textbf{x}]+H[\\textbf{x}]$\n",
    "\n",
    "**the information needed to describe x and y is given by the sum of the information needed to describe x alone plus the additional information required to specify y given x**\n",
    "\n",
    "#### relative entropy / Kulback-Leibler divergence\n",
    "\n",
    "$p(\\textbf{x})$ - unknown \n",
    "\n",
    "$q(\\textbf{x})$ - to model $p(\\textbf{x})$\n",
    "\n",
    "**the additional amount of information required to specify the value of x as a result of using q(x) instead of p(x) is given by**\n",
    "\n",
    "$\n",
    "\\begin{align}\n",
    "KL(p||q) &= -\\int p(\\textbf{x})\\log q(\\textbf{x})d\\textbf{x}-\\left(-\\int p(\\textbf{x})\\log p(\\textbf{x})d\\textbf{x} \\right) \\\\\n",
    "&= -\\int p(\\textbf{x}) \\log \\left[\\frac{q(\\textbf{x})}{p(\\textbf{x})} \\right]d\\textbf{x}\n",
    "\\end{align}\n",
    "$\n",
    "\n",
    "#### properties of KL\n",
    "\n",
    "- **KL is not a symmetrical quantity**:\n",
    "\n",
    "$KL(p||q)\\neq KL(q||p)$\n",
    "\n",
    "- **$KL(p||q)\\geq 0$ with equality iff $p(\\textbf{x})=q(\\textbf{x})$**:\n",
    "\n",
    "apply **Jensen's inequality** to KL with the fact that $-\\log x$ is a convex function\n",
    "\n",
    "$KL(p||q)=-\\int p(\\textbf{x}) \\log \\left[\\frac{q(\\textbf{x})}{p(\\textbf{x})} \\right]d\\textbf{x} \\geq -\\log \\int p(\\textbf{x}) \\left[\\frac{q(\\textbf{x})}{p(\\textbf{x})} \\right]d\\textbf{x}=-\\log \\int q(\\textbf{x})d\\textbf{x}=0$\n",
    "\n",
    "since $q(\\textbf{x})$ is a probability, $\\int q(\\textbf{x})d\\textbf{x}=1$\n",
    "\n",
    "Jensen's inequality:\n",
    "\n",
    "$f\\left(\\int \\textbf{x}p(\\textbf{x})d\\textbf{x} \\right) \\leq \\int f(\\textbf{x})p(\\textbf{x})d\\textbf{x}$\n",
    "\n",
    "in this case:\n",
    "\n",
    "$\\textbf{x}=\\frac{q(\\textbf{x})}{p(\\textbf{x})}$, $f(\\textbf{x})=\\log (\\textbf{x})$\n",
    "\n",
    "$\\log \\left(\\int \\frac{q(\\textbf{x})}{p(\\textbf{x})}p(\\textbf{x})d\\textbf{x} \\right) \\leq \\int \\log \\frac{q(\\textbf{x})}{p(\\textbf{x})} p(\\textbf{x})d\\textbf{x}$\n",
    "\n",
    "**we can also interpret the KL divergence as a measure of the dissimilarity of the two distributions p(x) and q(x)**\n",
    "\n"
   ]
  },
  {
   "cell_type": "markdown",
   "id": "ceb93a14-392d-4e09-ad83-4bf9c5e84f7a",
   "metadata": {},
   "source": [
    "#### minimizing the KL\n",
    "\n",
    "suppose data is generated from $p(\\textbf{x})$ that we wish to model\n",
    "\n",
    "the approximator $q(\\textbf{x}|\\boldsymbol{\\theta})$ is parameterized by $\\boldsymbol{\\theta}$\n",
    "\n",
    "we can minimize $KL(p(\\textbf{x})||q(\\textbf{x}|\\boldsymbol{\\theta}))$ to obain $\\boldsymbol{\\theta}$\n",
    "\n",
    "but as usual we don't know $p(\\textbf{x})$, we can only observe a finite set of $\\{x_i \\}_{i=1}^N \\sim p(\\textbf{x})$ \n",
    "\n",
    "by using sampling trick (1.35 prml):\n",
    "\n",
    "$\\mathbb{E}[f]\\approxeq 1/N \\sum_{n=1}^N f(x_n)$\n",
    "\n",
    "$KL(p||q) = \\sum p(x) \\log \\frac{p(x)}{q(x)} =\\mathbb{E} \\left[\\log \\frac{p(x)}{q(x)}\\right]  \\approxeq \\sum_{n=1}^N [-\\log q(x_n|\\boldsymbol{\\theta})+\\log p(x_n)]$\n",
    "\n",
    "**minimizing KL <=> MLE**\n",
    "\n",
    "#### mutual information between x and y\n",
    "\n",
    "consider two sets of variables $\\textbf{x}$ and $\\textbf{y}$\n",
    "\n",
    "$p(\\textbf{x},\\textbf{y})$ - the joint distribution\n",
    "\n",
    "$p(\\textbf{x},\\textbf{y})=p(\\textbf{x})p(\\textbf{y})$ - if two variables are independent\n",
    "\n",
    "we can measure whether they are close to being independent by measuring the $KL(p(\\textbf{x},\\textbf{y})||p(\\textbf{x})p(\\textbf{y}))$\n",
    "\n",
    "$\n",
    "\\begin{align}\n",
    "I[\\textbf{x},\\textbf{y}] &\\triangleq KL(p(\\textbf{x},\\textbf{y})||p(\\textbf{x})p(\\textbf{y})) \\\\\n",
    "&= -\\iint p(\\textbf{x},\\textbf{y})\\log \\left[\\frac{p(\\textbf{x})p(\\textbf{y})}{p(\\textbf{x},\\textbf{y})} \\right] d\\textbf{x} d\\textbf{y}\n",
    "\\end{align}\n",
    "$\n",
    "\n",
    "we can see that $I[\\textbf{x},\\textbf{y}]\\geq 0$ with equality iff $\\textbf{x}$ and $\\textbf{y}$ are independent\n",
    "\n",
    "with the sum and product rules of probability\n",
    "\n",
    "$I[\\textbf{x},\\textbf{y}]=H[\\textbf{x}]-H[\\textbf{x}|\\textbf{y}]=H[\\textbf{y}]-H[\\textbf{y}|\\textbf{x}]$\n",
    "\n",
    "**we can view the mutual information as the reduction in the uncertainty about x by virtue of being told the value of y**\n",
    "\n",
    "from Bayesian perspective, we can view p(x) as the prior for x and p(x|y) as the posterior\n",
    "\n",
    "**the mutual information therefore represents the reduction in uncertainty about x as a consequence of the new observation y**"
   ]
  },
  {
   "cell_type": "markdown",
   "id": "d3bd0d72-dd75-4733-bf5d-42279d9eb5e5",
   "metadata": {},
   "source": [
    "### convex function\n",
    "\n",
    "**def**: a function is said to be convex if it has the property that every chord lies on or above the function \n",
    "\n",
    "any value of $x$ in the interval $x \\in [a,b]$ can be written in the form \n",
    "\n",
    "$\\lambda a+(1-\\lambda)b$, where $0\\leq\\lambda \\leq1$\n",
    "\n",
    "the corresponding point on the chord is:\n",
    "\n",
    "$\\lambda f(a)+(1-\\lambda)f(b)$\n",
    "\n",
    "the corresponding value:\n",
    "\n",
    "$f(\\lambda a+(1-\\lambda)b) \\leq \\lambda f(a)+(1-\\lambda)f(b)$\n",
    "\n",
    "**strictly convex** if the equality is satisfied only for $\\lambda=0,1$\n",
    "\n",
    "#### Jensen's inequality\n",
    "\n",
    "$f\\left(\\sum_{i=1} \\lambda_i x_i \\right) \\leq \\sum_{i=1} \\lambda_i f\\left(x_i \\right)$\n",
    "\n",
    "where $\\lambda_i \\geq 0$ and $\\sum_i \\lambda_i=1$ for any set of points $x_i$\n",
    "\n",
    "if we interpret $\\lambda_i$ as $p(x_i)$ in discrete case:\n",
    "\n",
    "$f(\\mathbb{E}[x]) \\leq \\mathbb{E}[f(x)]$\n",
    "\n",
    "for continuous case:\n",
    "\n",
    "$f\\left(\\int \\textbf{x}p(\\textbf{x})d\\textbf{x} \\right) \\leq \\int f(\\textbf{x})p(\\textbf{x})d\\textbf{x}$"
   ]
  },
  {
   "cell_type": "code",
   "execution_count": 116,
   "id": "69ae969c-99c0-4c4d-9b12-0364312a9001",
   "metadata": {},
   "outputs": [
    {
     "data": {
      "text/plain": [
       "<matplotlib.legend.Legend at 0x17a828730>"
      ]
     },
     "execution_count": 116,
     "metadata": {},
     "output_type": "execute_result"
    },
    {
     "data": {
      "image/png": "[encoded data removed]",
      "text/plain": [
       "<Figure size 576x432 with 1 Axes>"
      ]
     },
     "metadata": {
      "needs_background": "light"
     },
     "output_type": "display_data"
    }
   ],
   "source": [
    "x=np.linspace(-1,1,num=100)\n",
    "plt.figure(figsize=(8,6))\n",
    "plt.plot(x,x**2,'c',linewidth=4,label='$f(\\lambda a+(1-\\lambda)b)$')\n",
    "a=-0.55\n",
    "b=0.8\n",
    "\n",
    "lmd=np.linspace(0,1,num=100)\n",
    "#lmd*a+(1-lmd)*b\n",
    "plt.plot(lmd*a+(1-lmd)*b,lmd*a**2+(1-lmd)*b**2,'orange',linewidth=4, label='$\\lambda f(a)+(1-\\lambda)f(b)$')\n",
    "plt.axvline(x=a,color='r',linestyle='--')\n",
    "plt.axvline(x=b,color='g',linestyle='--')\n",
    "plt.plot(a,a**2,'ro',markersize=14,label='a=-0.55')\n",
    "plt.plot(b,b**2,'go',markersize=14,label='b=0.8')\n",
    "plt.grid()\n",
    "plt.legend(fontsize=15)"
   ]
  },
  {
   "cell_type": "code",
   "execution_count": 118,
   "id": "296233c6-476d-422c-a4e1-6f46b3195913",
   "metadata": {},
   "outputs": [
    {
     "name": "stderr",
     "output_type": "stream",
     "text": [
      "/var/folders/89/wkwstz_d4zq1pshpw71z9wb80000gp/T/ipykernel_53913/2673030498.py:2: RuntimeWarning:\n",
      "\n",
      "invalid value encountered in log\n",
      "\n"
     ]
    },
    {
     "data": {
      "text/plain": [
       "[<matplotlib.lines.Line2D at 0x17a9320d0>]"
      ]
     },
     "execution_count": 118,
     "metadata": {},
     "output_type": "execute_result"
    },
    {
     "data": {
      "image/png": "[encoded data removed]",
      "text/plain": [
       "<Figure size 432x288 with 1 Axes>"
      ]
     },
     "metadata": {
      "needs_background": "light"
     },
     "output_type": "display_data"
    }
   ],
   "source": [
    "### another convex function\n",
    "plt.plot(x,x*np.log(x))"
   ]
  },
  {
   "cell_type": "code",
   "execution_count": null,
   "id": "8c69986e-c070-4ef4-bf1c-109e6352ab71",
   "metadata": {},
   "outputs": [],
   "source": []
  },
  {
   "cell_type": "code",
   "execution_count": null,
   "id": "c3817d9f-6156-4814-8f05-4b3ea9f491e4",
   "metadata": {},
   "outputs": [],
   "source": []
  },
  {
   "cell_type": "code",
   "execution_count": null,
   "id": "d26518c4-680d-4efb-a2ba-cf7c5434b07f",
   "metadata": {},
   "outputs": [],
   "source": []
  },
  {
   "cell_type": "code",
   "execution_count": null,
   "id": "f0eb6ec1-88a4-4ee9-84c3-4cb5e6ac1f5d",
   "metadata": {},
   "outputs": [],
   "source": []
  },
  {
   "cell_type": "code",
   "execution_count": null,
   "id": "ee36c9d2-c0d3-4756-ae42-bc2cbd4d7990",
   "metadata": {},
   "outputs": [],
   "source": []
  },
  {
   "cell_type": "code",
   "execution_count": null,
   "id": "1b06c6f0-2bc3-4152-84c7-0a1857bcb8b9",
   "metadata": {},
   "outputs": [],
   "source": []
  },
  {
   "cell_type": "code",
   "execution_count": null,
   "id": "415f72ec-27f9-4e0a-824d-51843288b1d1",
   "metadata": {},
   "outputs": [],
   "source": []
  },
  {
   "cell_type": "code",
   "execution_count": null,
   "id": "46718300-8c33-44e3-b28b-9f98d6d8150f",
   "metadata": {},
   "outputs": [],
   "source": []
  },
  {
   "cell_type": "markdown",
   "id": "0b1f3241-ce4b-42f9-88dc-4a27d5e0dd07",
   "metadata": {},
   "source": [
    "continue prml Chapter2 distributions \n",
    "\n",
    "### Multinomial Variables\n",
    "\n",
    "$K=6$ states with $x_3=1$:\n",
    "\n",
    "$\\textbf{x}=(0,0,1,0,0,0)^T$\n",
    "\n",
    "note such vectors satisfy $\\sum_{k=1}^K x_k=1$\n",
    "\n",
    "therefore\n",
    "\n",
    "$p(\\textbf{x}|\\boldsymbol{\\mu})=\\prod_{k=1}^K \\mu_k^{x_k}$, where $\\boldsymbol{\\mu}=(\\mu_1,...,\\mu_k)^T$\n",
    "\n",
    "note $\\mu_k \\geq 0$ and $\\sum_k \\mu_k=1$\n",
    "\n",
    "it's a probability since\n",
    "\n",
    "$\\sum_{\\textbf{x}}p(\\textbf{x}|\\boldsymbol{\\mu})=\\sum_{k=1}^K \\mu_k=1$\n",
    "\n",
    "and \n",
    "\n",
    "$\\mathbb{E}[\\textbf{x}|\\boldsymbol{\\mu}]=\\sum_{\\textbf{x}}p(\\textbf{x}|\\boldsymbol{\\mu})\\textbf{x}=(\\mu_1,...,\\mu_k)^T=\\boldsymbol{\\mu}$\n",
    "\n",
    "consider a dataset $\\mathcal{D}$ of $N$ independent observations $\\textbf{x}_n$\n",
    "\n",
    "the likelihood function:\n",
    "\n",
    "$\n",
    "\\begin{align}\n",
    "p(\\mathcal{D}|\\boldsymbol{\\mu}) &=\\prod_{n=1}^N \\prod_{k=1}^K \\mu_k^{x_{nk}} \\\\\n",
    "&= \\prod_{k=1}^K \\mu_k^{\\sum_n x_{nk}} \\\\\n",
    "&= \\prod_{k=1}^K \\mu_k^{m_k}\n",
    "\\end{align}\n",
    "$\n",
    "\n",
    "to find MLE solution, we take $\\log p(\\mathcal{D}|\\boldsymbol{\\mu})$ w.r.t $\\mu_k$ s.t. $\\sum_k \\mu_k=1$ using Lagrange multiplier $\\lambda$ and maximizing:\n",
    "\n",
    "$\\sum_{k=1}^K m_k \\log \\mu_k + \\lambda \\left(\\sum_{k=1}^K \\mu_k -1 \\right)$\n",
    "\n",
    "$\\nabla_{\\mu_k} \\left[\\sum_{k=1}^K m_k \\log \\mu_k + \\lambda \\left(\\sum_{k=1}^K \\mu_k -1 \\right)\\right] =0$\n",
    "\n",
    "=> $\\mu_k=-m_k / \\lambda$\n",
    "\n",
    "since $\\sum_k \\mu_k=1$\n",
    "\n",
    "=> $\\lambda=-N$\n",
    "\n",
    "=> $\\mu_k^{MLE}=\\frac{m_k}{N}$\n",
    "\n",
    "note $m_k=\\sum_n x_{nk}=x_{1k}+x_{2k}+x_{3k}...$ 1,2,3 represents data point 1,2,3\n",
    "\n",
    "$m_k$ represents the number of observations of $x_k=1$\n",
    "\n",
    "### Multinomial distribution\n",
    "\n",
    "consider the joint distribution of the quantities $m_1,...,m_k$ conditioned on $\\boldsymbol{\\mu}$\n",
    "\n",
    "**Multinomial distribution** is defined by\n",
    "\n",
    "$Mult(m_1,m_2,...,m_K|\\boldsymbol{\\mu},N)=C_{N}^{m_1m_2...m_K}\\prod_{k=1}^K \\mu_k^{m_k}$\n",
    "\n",
    "$C_{N}^{m_1m_2...m_K}=\\frac{N!}{m_1!m_2!...m_K!}$\n",
    "\n",
    "$m_k$ - any repeatation of a specific outcome you are looking for\n",
    "\n"
   ]
  },
  {
   "cell_type": "markdown",
   "id": "c671b46c-8458-4613-90d8-b3e39692af75",
   "metadata": {},
   "source": [
    "### example of dice\n",
    "\n",
    "repeat rolling a dice 1,2,3,4,5,6\n",
    "\n",
    "**roll a die 5 times, what's the probability of two 3s and three 4s (order insensitive)?**\n",
    "\n",
    "$\\frac{5!}{2!3!}$ - number of ways to get two 3s and three 4s\n",
    "\n",
    "$p(33444|\\text{dice probability})=\\frac{5!}{2!3!} (1/6)^2(1/6)^3=0.001$\n",
    "\n",
    "$p(43434|\\text{dice probability})=\\frac{5!}{2!3!} (1/6)^2(1/6)^3=0.001$"
   ]
  },
  {
   "cell_type": "code",
   "execution_count": 21,
   "id": "37b0e549-1d1d-4364-9e56-2130a62277a4",
   "metadata": {},
   "outputs": [
    {
     "data": {
      "text/plain": [
       "array([3, 4, 0, 3, 3, 7])"
      ]
     },
     "execution_count": 21,
     "metadata": {},
     "output_type": "execute_result"
    }
   ],
   "source": [
    "### one example can be dice\n",
    "\n",
    "import numpy as np\n",
    "import matplotlib.pyplot as plt\n",
    "\n",
    "np.random.seed(1)\n",
    "#throw a dice 20 times\n",
    "x=np.random.multinomial(n=20,pvals=[1/6]*6)\n",
    "\n",
    "x\n",
    "\n",
    "#three times 1, four times 2, zero times 3, three times 4, three times 5, seven times 6"
   ]
  },
  {
   "cell_type": "code",
   "execution_count": 22,
   "id": "eac696ba-706e-411f-9a0c-41e7c2ab8c0e",
   "metadata": {},
   "outputs": [
    {
     "data": {
      "text/plain": [
       "array([10, 12, 14, 15, 17, 32])"
      ]
     },
     "execution_count": 22,
     "metadata": {},
     "output_type": "execute_result"
    }
   ],
   "source": [
    "np.random.multinomial(100, [1/7.]*5 + [2/7.])"
   ]
  },
  {
   "cell_type": "code",
   "execution_count": 31,
   "id": "a6af1649-050a-47f3-a497-17395fba2f3a",
   "metadata": {},
   "outputs": [
    {
     "data": {
      "text/plain": [
       "<BarContainer object of 6 artists>"
      ]
     },
     "execution_count": 31,
     "metadata": {},
     "output_type": "execute_result"
    },
    {
     "data": {
      "image/png": "[encoded data removed]",
      "text/plain": [
       "<Figure size 432x288 with 1 Axes>"
      ]
     },
     "metadata": {
      "needs_background": "light"
     },
     "output_type": "display_data"
    }
   ],
   "source": [
    "data = np.random.multinomial(10000, [1/7.]*5 + [2/7.])\n",
    "plt.bar(range(1,7), data)"
   ]
  },
  {
   "cell_type": "code",
   "execution_count": 32,
   "id": "2664a466-bb5f-4702-a5f2-4e27fb678019",
   "metadata": {},
   "outputs": [
    {
     "data": {
      "text/plain": [
       "<BarContainer object of 6 artists>"
      ]
     },
     "execution_count": 32,
     "metadata": {},
     "output_type": "execute_result"
    },
    {
     "data": {
      "image/png": "[encoded data removed]",
      "text/plain": [
       "<Figure size 432x288 with 1 Axes>"
      ]
     },
     "metadata": {
      "needs_background": "light"
     },
     "output_type": "display_data"
    }
   ],
   "source": [
    "data = np.random.multinomial(100, [1/7.]*5 + [2/7.],size=100)\n",
    "plt.bar(range(1,7), data.sum(axis=0))"
   ]
  },
  {
   "cell_type": "markdown",
   "id": "7cd162bd-4c68-4bba-b00d-36a7d5dd6347",
   "metadata": {},
   "source": [
    "http://www.gentosha-academy.com/serial/okamoto-4/\n",
    "\n",
    "### categorical distribution\n",
    "\n",
    "$p(x=k)=p_k$\n",
    "\n",
    "$\\sum_k^K p_k=1$"
   ]
  },
  {
   "cell_type": "code",
   "execution_count": 37,
   "id": "e4641da0-c989-4e30-9071-3861e2d204c9",
   "metadata": {},
   "outputs": [
    {
     "data": {
      "text/plain": [
       "array([1, 1, 1, 2, 3, 3, 2, 4, 2, 3])"
      ]
     },
     "execution_count": 37,
     "metadata": {},
     "output_type": "execute_result"
    }
   ],
   "source": [
    "v = np.random.choice([1,2,3,4,5,6], p = [1/6]*6, size = 10)\n",
    "v"
   ]
  },
  {
   "cell_type": "code",
   "execution_count": 39,
   "id": "10a2c412-830f-49fa-82a4-d70c904dcb9f",
   "metadata": {},
   "outputs": [
    {
     "data": {
      "text/plain": [
       "array(['A', 'A', 'A', 'A', 'A', 'A', 'A', 'A', 'A', 'B'], dtype='<U1')"
      ]
     },
     "execution_count": 39,
     "metadata": {},
     "output_type": "execute_result"
    }
   ],
   "source": [
    "v = np.random.choice(['A', 'B'], p = [2/3, 1/3], size = 10)\n",
    "v"
   ]
  },
  {
   "cell_type": "code",
   "execution_count": 41,
   "id": "e5a548d8-7962-4473-8157-166b09e88c6f",
   "metadata": {},
   "outputs": [
    {
     "data": {
      "text/plain": [
       "(array([1632., 1684., 1692., 1646., 1681., 1665.]),\n",
       " array([0.5, 1.5, 2.5, 3.5, 4.5, 5.5, 6.5]),\n",
       " <BarContainer object of 6 artists>)"
      ]
     },
     "execution_count": 41,
     "metadata": {},
     "output_type": "execute_result"
    },
    {
     "data": {
      "image/png": "[encoded data removed]",
      "text/plain": [
       "<Figure size 432x288 with 1 Axes>"
      ]
     },
     "metadata": {
      "needs_background": "light"
     },
     "output_type": "display_data"
    }
   ],
   "source": [
    "data = np.random.choice([1,2,3,4,5,6], p = [1/6]*6, size = 10000)\n",
    "idx = [1,2,3,4,5,6]\n",
    "plt.hist(data, bins = [0.5 + v for v in range(7)])"
   ]
  },
  {
   "cell_type": "markdown",
   "id": "18d45f38-8141-400d-9087-fe7e34796681",
   "metadata": {},
   "source": [
    "### Dirichlet distribution\n",
    "\n",
    "conjugate prior for $\\mu_k$ of multinomial distribution\n",
    "\n",
    "$p(\\boldsymbol{\\mu}|\\boldsymbol{\\alpha}) \\propto \\prod_{k=1}^K \\mu_k^{\\alpha_k -1}$\n",
    "\n",
    "where $0 \\leq \\mu_k \\leq 1$ and $\\sum_k \\mu_k=1$\n",
    "\n",
    "$\\boldsymbol{\\alpha}=(\\alpha_1,...,\\alpha_K)^T$ - parameters of the distribution\n",
    "\n",
    "the normalized form is **Dirichlet distribution**:\n",
    "\n",
    "$Dir(\\boldsymbol{\\mu}|\\boldsymbol{\\alpha})=\\frac{\\Gamma(\\alpha_0)}{\\Gamma(\\alpha_1)...\\Gamma(\\alpha_K)}\\prod_{k=1}^K \\mu_k^{\\alpha_k -1}$\n",
    "\n",
    "where $\\alpha_0=\\sum_{k=1}^{K} \\alpha_k$\n",
    "\n",
    "**the Dirichlet distribution over three variables $\\mu_1,\\mu_2,\\mu_3$** is confined to a **simplex** as a consequence of the constraints $0\\leq \\mu_k \\leq 1$ and $\\sum_k \\mu_k=1$ \n",
    "\n",
    "**simplex**: a bounded linear manifold\n",
    "\n",
    "https://plotly.com/python/ternary-plots/\n",
    "\n",
    "the **posterior** for the parameters $\\mu_k$:\n",
    "\n",
    "$\n",
    "\\begin{align}\n",
    "p(\\boldsymbol{\\mu}|\\mathcal{D},\\boldsymbol{\\alpha}) &\\propto p(\\mathcal{D}|\\boldsymbol{\\mu})p(\\boldsymbol{\\mu}|\\boldsymbol{\\alpha}) \\\\\n",
    "&\\propto  Mult(m_1,m_2,...,m_K|\\boldsymbol{\\mu},N)Dir(\\boldsymbol{\\mu}|\\boldsymbol{\\alpha})\\\\\n",
    "&= \\prod_{k=1}^K \\mu_k^{\\alpha_k+m_k-1} \\\\\n",
    "&\\rightarrow Dir(\\boldsymbol{\\mu}|\\mathcal{D},\\boldsymbol{\\alpha}+\\textbf{m}) \\\\\n",
    "&\\rightarrow \\frac{\\Gamma(\\alpha_0+N)}{\\Gamma(\\alpha_1+m_1)...\\Gamma(\\alpha_K+m_k)}\\prod_{k=1}^K \\mu_k^{\\alpha_k+m_k-1}\n",
    "\\end{align}\n",
    "$\n",
    "\n",
    "where\n",
    "\n",
    "$p(\\mathcal{D}|\\boldsymbol{\\mu})=Mult(m_1,m_2,...,m_K|\\boldsymbol{\\mu},N)$ - likelihood\n",
    "\n",
    "$p(\\boldsymbol{\\mu}|\\boldsymbol{\\alpha})=Dir(\\boldsymbol{\\mu}|\\boldsymbol{\\alpha})$ - prior\n",
    "\n",
    "where $\\textbf{m}=(m_1,...,m_K)^T$\n",
    "\n",
    "$\\alpha_k$ can be interpreted as an effective number of observations of $x_k=1$"
   ]
  },
  {
   "cell_type": "code",
   "execution_count": 43,
   "id": "d12662ec-2f69-469c-8783-08a8dfe6b1cb",
   "metadata": {},
   "outputs": [
    {
     "name": "stdout",
     "output_type": "stream",
     "text": [
      "Collecting plotly\n",
      "  Downloading plotly-5.8.0-py2.py3-none-any.whl (15.2 MB)\n",
      "     |████████████████████████████████| 15.2 MB 3.0 MB/s            \n",
      "\u001b[?25hCollecting tenacity>=6.2.0\n",
      "  Using cached tenacity-8.0.1-py3-none-any.whl (24 kB)\n",
      "Installing collected packages: tenacity, plotly\n",
      "Successfully installed plotly-5.8.0 tenacity-8.0.1\n"
     ]
    }
   ],
   "source": [
    "!pip install plotly"
   ]
  },
  {
   "cell_type": "code",
   "execution_count": 51,
   "id": "b869ba14-3283-4b91-ade4-7ca687a20fff",
   "metadata": {},
   "outputs": [
    {
     "data": {
      "application/vnd.plotly.v1+json": {
       "config": {
        "plotlyServerURL": "https://plot.ly"
       },
       "data": [
        {
         "a": [
          3024,
          2675,
          2532,
          2514,
          3044,
          2316,
          2543,
          3330,
          2852,
          1656,
          2873,
          2815,
          2788,
          3234,
          2431,
          2081,
          3959,
          2822,
          1641,
          1908,
          3578,
          2438,
          3291,
          2849,
          1894,
          2282,
          2271,
          1220,
          2039,
          2782,
          1402,
          1076,
          1172,
          1286,
          1232,
          1578,
          1636,
          3262,
          2648,
          1266,
          1157,
          1908,
          3717,
          2943,
          998,
          1068,
          690,
          326,
          3454,
          3139,
          2675,
          2338,
          1435,
          1051,
          423,
          592,
          419,
          489
         ],
         "b": [
          2481,
          2525,
          3348,
          1734,
          1770,
          1455,
          3252,
          5456,
          4734,
          5737,
          2979,
          1827,
          2331,
          2670,
          3673,
          3612,
          4308,
          4104,
          3931,
          5387,
          2432,
          2566,
          3347,
          2476,
          1451,
          1906,
          1347,
          3668,
          2878,
          2201,
          2420,
          2184,
          1589,
          2526,
          1873,
          1644,
          1548,
          1773,
          2040,
          1165,
          1193,
          1325,
          4201,
          3536,
          631,
          595,
          518,
          332,
          3694,
          2746,
          1546,
          3509,
          6591,
          6229,
          996,
          540,
          446,
          491
         ],
         "c": [
          1829,
          1163,
          2770,
          4782,
          5933,
          3599,
          2521,
          1760,
          1879,
          958,
          3430,
          6408,
          5748,
          4962,
          3155,
          1554,
          1320,
          1459,
          882,
          1184,
          3368,
          2092,
          2562,
          2631,
          754,
          2169,
          2827,
          984,
          2666,
          5819,
          1793,
          691,
          708,
          851,
          1182,
          1950,
          1503,
          2653,
          1437,
          832,
          653,
          1205,
          1642,
          1330,
          258,
          226,
          224,
          131,
          2589,
          3250,
          3679,
          2178,
          1085,
          780,
          643,
          833,
          465,
          698
         ],
         "hovertemplate": "Joly=%{a}<br>Coderre=%{b}<br>Bergeron=%{c}<extra></extra>",
         "legendgroup": "",
         "marker": {
          "color": "#636efa",
          "symbol": "circle"
         },
         "mode": "markers",
         "name": "",
         "showlegend": false,
         "subplot": "ternary",
         "type": "scatterternary"
        }
       ],
       "layout": {
        "autosize": true,
        "legend": {
         "tracegroupgap": 0
        },
        "margin": {
         "t": 60
        },
        "template": {
         "data": {
          "bar": [
           {
            "error_x": {
             "color": "#2a3f5f"
            },
            "error_y": {
             "color": "#2a3f5f"
            },
            "marker": {
             "line": {
              "color": "#E5ECF6",
              "width": 0.5
             },
             "pattern": {
              "fillmode": "overlay",
              "size": 10,
              "solidity": 0.2
             }
            },
            "type": "bar"
           }
          ],
          "barpolar": [
           {
            "marker": {
             "line": {
              "color": "#E5ECF6",
              "width": 0.5
             },
             "pattern": {
              "fillmode": "overlay",
              "size": 10,
              "solidity": 0.2
             }
            },
            "type": "barpolar"
           }
          ],
          "carpet": [
           {
            "aaxis": {
             "endlinecolor": "#2a3f5f",
             "gridcolor": "white",
             "linecolor": "white",
             "minorgridcolor": "white",
             "startlinecolor": "#2a3f5f"
            },
            "baxis": {
             "endlinecolor": "#2a3f5f",
             "gridcolor": "white",
             "linecolor": "white",
             "minorgridcolor": "white",
             "startlinecolor": "#2a3f5f"
            },
            "type": "carpet"
           }
          ],
          "choropleth": [
           {
            "colorbar": {
             "outlinewidth": 0,
             "ticks": ""
            },
            "type": "choropleth"
           }
          ],
          "contour": [
           {
            "colorbar": {
             "outlinewidth": 0,
             "ticks": ""
            },
            "colorscale": [
             [
              0,
              "#0d0887"
             ],
             [
              0.1111111111111111,
              "#46039f"
             ],
             [
              0.2222222222222222,
              "#7201a8"
             ],
             [
              0.3333333333333333,
              "#9c179e"
             ],
             [
              0.4444444444444444,
              "#bd3786"
             ],
             [
              0.5555555555555556,
              "#d8576b"
             ],
             [
              0.6666666666666666,
              "#ed7953"
             ],
             [
              0.7777777777777778,
              "#fb9f3a"
             ],
             [
              0.8888888888888888,
              "#fdca26"
             ],
             [
              1,
              "#f0f921"
             ]
            ],
            "type": "contour"
           }
          ],
          "contourcarpet": [
           {
            "colorbar": {
             "outlinewidth": 0,
             "ticks": ""
            },
            "type": "contourcarpet"
           }
          ],
          "heatmap": [
           {
            "colorbar": {
             "outlinewidth": 0,
             "ticks": ""
            },
            "colorscale": [
             [
              0,
              "#0d0887"
             ],
             [
              0.1111111111111111,
              "#46039f"
             ],
             [
              0.2222222222222222,
              "#7201a8"
             ],
             [
              0.3333333333333333,
              "#9c179e"
             ],
             [
              0.4444444444444444,
              "#bd3786"
             ],
             [
              0.5555555555555556,
              "#d8576b"
             ],
             [
              0.6666666666666666,
              "#ed7953"
             ],
             [
              0.7777777777777778,
              "#fb9f3a"
             ],
             [
              0.8888888888888888,
              "#fdca26"
             ],
             [
              1,
              "#f0f921"
             ]
            ],
            "type": "heatmap"
           }
          ],
          "heatmapgl": [
           {
            "colorbar": {
             "outlinewidth": 0,
             "ticks": ""
            },
            "colorscale": [
             [
              0,
              "#0d0887"
             ],
             [
              0.1111111111111111,
              "#46039f"
             ],
             [
              0.2222222222222222,
              "#7201a8"
             ],
             [
              0.3333333333333333,
              "#9c179e"
             ],
             [
              0.4444444444444444,
              "#bd3786"
             ],
             [
              0.5555555555555556,
              "#d8576b"
             ],
             [
              0.6666666666666666,
              "#ed7953"
             ],
             [
              0.7777777777777778,
              "#fb9f3a"
             ],
             [
              0.8888888888888888,
              "#fdca26"
             ],
             [
              1,
              "#f0f921"
             ]
            ],
            "type": "heatmapgl"
           }
          ],
          "histogram": [
           {
            "marker": {
             "pattern": {
              "fillmode": "overlay",
              "size": 10,
              "solidity": 0.2
             }
            },
            "type": "histogram"
           }
          ],
          "histogram2d": [
           {
            "colorbar": {
             "outlinewidth": 0,
             "ticks": ""
            },
            "colorscale": [
             [
              0,
              "#0d0887"
             ],
             [
              0.1111111111111111,
              "#46039f"
             ],
             [
              0.2222222222222222,
              "#7201a8"
             ],
             [
              0.3333333333333333,
              "#9c179e"
             ],
             [
              0.4444444444444444,
              "#bd3786"
             ],
             [
              0.5555555555555556,
              "#d8576b"
             ],
             [
              0.6666666666666666,
              "#ed7953"
             ],
             [
              0.7777777777777778,
              "#fb9f3a"
             ],
             [
              0.8888888888888888,
              "#fdca26"
             ],
             [
              1,
              "#f0f921"
             ]
            ],
            "type": "histogram2d"
           }
          ],
          "histogram2dcontour": [
           {
            "colorbar": {
             "outlinewidth": 0,
             "ticks": ""
            },
            "colorscale": [
             [
              0,
              "#0d0887"
             ],
             [
              0.1111111111111111,
              "#46039f"
             ],
             [
              0.2222222222222222,
              "#7201a8"
             ],
             [
              0.3333333333333333,
              "#9c179e"
             ],
             [
              0.4444444444444444,
              "#bd3786"
             ],
             [
              0.5555555555555556,
              "#d8576b"
             ],
             [
              0.6666666666666666,
              "#ed7953"
             ],
             [
              0.7777777777777778,
              "#fb9f3a"
             ],
             [
              0.8888888888888888,
              "#fdca26"
             ],
             [
              1,
              "#f0f921"
             ]
            ],
            "type": "histogram2dcontour"
           }
          ],
          "mesh3d": [
           {
            "colorbar": {
             "outlinewidth": 0,
             "ticks": ""
            },
            "type": "mesh3d"
           }
          ],
          "parcoords": [
           {
            "line": {
             "colorbar": {
              "outlinewidth": 0,
              "ticks": ""
             }
            },
            "type": "parcoords"
           }
          ],
          "pie": [
           {
            "automargin": true,
            "type": "pie"
           }
          ],
          "scatter": [
           {
            "fillpattern": {
             "fillmode": "overlay",
             "size": 10,
             "solidity": 0.2
            },
            "type": "scatter"
           }
          ],
          "scatter3d": [
           {
            "line": {
             "colorbar": {
              "outlinewidth": 0,
              "ticks": ""
             }
            },
            "marker": {
             "colorbar": {
              "outlinewidth": 0,
              "ticks": ""
             }
            },
            "type": "scatter3d"
           }
          ],
          "scattercarpet": [
           {
            "marker": {
             "colorbar": {
              "outlinewidth": 0,
              "ticks": ""
             }
            },
            "type": "scattercarpet"
           }
          ],
          "scattergeo": [
           {
            "marker": {
             "colorbar": {
              "outlinewidth": 0,
              "ticks": ""
             }
            },
            "type": "scattergeo"
           }
          ],
          "scattergl": [
           {
            "marker": {
             "colorbar": {
              "outlinewidth": 0,
              "ticks": ""
             }
            },
            "type": "scattergl"
           }
          ],
          "scattermapbox": [
           {
            "marker": {
             "colorbar": {
              "outlinewidth": 0,
              "ticks": ""
             }
            },
            "type": "scattermapbox"
           }
          ],
          "scatterpolar": [
           {
            "marker": {
             "colorbar": {
              "outlinewidth": 0,
              "ticks": ""
             }
            },
            "type": "scatterpolar"
           }
          ],
          "scatterpolargl": [
           {
            "marker": {
             "colorbar": {
              "outlinewidth": 0,
              "ticks": ""
             }
            },
            "type": "scatterpolargl"
           }
          ],
          "scatterternary": [
           {
            "marker": {
             "colorbar": {
              "outlinewidth": 0,
              "ticks": ""
             }
            },
            "type": "scatterternary"
           }
          ],
          "surface": [
           {
            "colorbar": {
             "outlinewidth": 0,
             "ticks": ""
            },
            "colorscale": [
             [
              0,
              "#0d0887"
             ],
             [
              0.1111111111111111,
              "#46039f"
             ],
             [
              0.2222222222222222,
              "#7201a8"
             ],
             [
              0.3333333333333333,
              "#9c179e"
             ],
             [
              0.4444444444444444,
              "#bd3786"
             ],
             [
              0.5555555555555556,
              "#d8576b"
             ],
             [
              0.6666666666666666,
              "#ed7953"
             ],
             [
              0.7777777777777778,
              "#fb9f3a"
             ],
             [
              0.8888888888888888,
              "#fdca26"
             ],
             [
              1,
              "#f0f921"
             ]
            ],
            "type": "surface"
           }
          ],
          "table": [
           {
            "cells": {
             "fill": {
              "color": "#EBF0F8"
             },
             "line": {
              "color": "white"
             }
            },
            "header": {
             "fill": {
              "color": "#C8D4E3"
             },
             "line": {
              "color": "white"
             }
            },
            "type": "table"
           }
          ]
         },
         "layout": {
          "annotationdefaults": {
           "arrowcolor": "#2a3f5f",
           "arrowhead": 0,
           "arrowwidth": 1
          },
          "autotypenumbers": "strict",
          "coloraxis": {
           "colorbar": {
            "outlinewidth": 0,
            "ticks": ""
           }
          },
          "colorscale": {
           "diverging": [
            [
             0,
             "#8e0152"
            ],
            [
             0.1,
             "#c51b7d"
            ],
            [
             0.2,
             "#de77ae"
            ],
            [
             0.3,
             "#f1b6da"
            ],
            [
             0.4,
             "#fde0ef"
            ],
            [
             0.5,
             "#f7f7f7"
            ],
            [
             0.6,
             "#e6f5d0"
            ],
            [
             0.7,
             "#b8e186"
            ],
            [
             0.8,
             "#7fbc41"
            ],
            [
             0.9,
             "#4d9221"
            ],
            [
             1,
             "#276419"
            ]
           ],
           "sequential": [
            [
             0,
             "#0d0887"
            ],
            [
             0.1111111111111111,
             "#46039f"
            ],
            [
             0.2222222222222222,
             "#7201a8"
            ],
            [
             0.3333333333333333,
             "#9c179e"
            ],
            [
             0.4444444444444444,
             "#bd3786"
            ],
            [
             0.5555555555555556,
             "#d8576b"
            ],
            [
             0.6666666666666666,
             "#ed7953"
            ],
            [
             0.7777777777777778,
             "#fb9f3a"
            ],
            [
             0.8888888888888888,
             "#fdca26"
            ],
            [
             1,
             "#f0f921"
            ]
           ],
           "sequentialminus": [
            [
             0,
             "#0d0887"
            ],
            [
             0.1111111111111111,
             "#46039f"
            ],
            [
             0.2222222222222222,
             "#7201a8"
            ],
            [
             0.3333333333333333,
             "#9c179e"
            ],
            [
             0.4444444444444444,
             "#bd3786"
            ],
            [
             0.5555555555555556,
             "#d8576b"
            ],
            [
             0.6666666666666666,
             "#ed7953"
            ],
            [
             0.7777777777777778,
             "#fb9f3a"
            ],
            [
             0.8888888888888888,
             "#fdca26"
            ],
            [
             1,
             "#f0f921"
            ]
           ]
          },
          "colorway": [
           "#636efa",
           "#EF553B",
           "#00cc96",
           "#ab63fa",
           "#FFA15A",
           "#19d3f3",
           "#FF6692",
           "#B6E880",
           "#FF97FF",
           "#FECB52"
          ],
          "font": {
           "color": "#2a3f5f"
          },
          "geo": {
           "bgcolor": "white",
           "lakecolor": "white",
           "landcolor": "#E5ECF6",
           "showlakes": true,
           "showland": true,
           "subunitcolor": "white"
          },
          "hoverlabel": {
           "align": "left"
          },
          "hovermode": "closest",
          "mapbox": {
           "style": "light"
          },
          "paper_bgcolor": "white",
          "plot_bgcolor": "#E5ECF6",
          "polar": {
           "angularaxis": {
            "gridcolor": "white",
            "linecolor": "white",
            "ticks": ""
           },
           "bgcolor": "#E5ECF6",
           "radialaxis": {
            "gridcolor": "white",
            "linecolor": "white",
            "ticks": ""
           }
          },
          "scene": {
           "xaxis": {
            "backgroundcolor": "#E5ECF6",
            "gridcolor": "white",
            "gridwidth": 2,
            "linecolor": "white",
            "showbackground": true,
            "ticks": "",
            "zerolinecolor": "white"
           },
           "yaxis": {
            "backgroundcolor": "#E5ECF6",
            "gridcolor": "white",
            "gridwidth": 2,
            "linecolor": "white",
            "showbackground": true,
            "ticks": "",
            "zerolinecolor": "white"
           },
           "zaxis": {
            "backgroundcolor": "#E5ECF6",
            "gridcolor": "white",
            "gridwidth": 2,
            "linecolor": "white",
            "showbackground": true,
            "ticks": "",
            "zerolinecolor": "white"
           }
          },
          "shapedefaults": {
           "line": {
            "color": "#2a3f5f"
           }
          },
          "ternary": {
           "aaxis": {
            "gridcolor": "white",
            "linecolor": "white",
            "ticks": ""
           },
           "baxis": {
            "gridcolor": "white",
            "linecolor": "white",
            "ticks": ""
           },
           "bgcolor": "#E5ECF6",
           "caxis": {
            "gridcolor": "white",
            "linecolor": "white",
            "ticks": ""
           }
          },
          "title": {
           "x": 0.05
          },
          "xaxis": {
           "automargin": true,
           "gridcolor": "white",
           "linecolor": "white",
           "ticks": "",
           "title": {
            "standoff": 15
           },
           "zerolinecolor": "white",
           "zerolinewidth": 2
          },
          "yaxis": {
           "automargin": true,
           "gridcolor": "white",
           "linecolor": "white",
           "ticks": "",
           "title": {
            "standoff": 15
           },
           "zerolinecolor": "white",
           "zerolinewidth": 2
          }
         }
        },
        "ternary": {
         "aaxis": {
          "title": {
           "text": "Joly"
          }
         },
         "baxis": {
          "title": {
           "text": "Coderre"
          }
         },
         "caxis": {
          "title": {
           "text": "Bergeron"
          }
         },
         "domain": {
          "x": [
           0,
           1
          ],
          "y": [
           0,
           1
          ]
         }
        }
       }
      },
      "image/png": "[encoded data removed]",
      "text/html": [
       "<div>                            <div id=\"1261be34-18b7-4a15-b726-a2fa9789c309\" class=\"plotly-graph-div\" style=\"height:525px; width:100%;\"></div>            <script type=\"text/javascript\">                require([\"plotly\"], function(Plotly) {                    window.PLOTLYENV=window.PLOTLYENV || {};                                    if (document.getElementById(\"1261be34-18b7-4a15-b726-a2fa9789c309\")) {                    Plotly.newPlot(                        \"1261be34-18b7-4a15-b726-a2fa9789c309\",                        [{\"a\":[3024,2675,2532,2514,3044,2316,2543,3330,2852,1656,2873,2815,2788,3234,2431,2081,3959,2822,1641,1908,3578,2438,3291,2849,1894,2282,2271,1220,2039,2782,1402,1076,1172,1286,1232,1578,1636,3262,2648,1266,1157,1908,3717,2943,998,1068,690,326,3454,3139,2675,2338,1435,1051,423,592,419,489],\"b\":[2481,2525,3348,1734,1770,1455,3252,5456,4734,5737,2979,1827,2331,2670,3673,3612,4308,4104,3931,5387,2432,2566,3347,2476,1451,1906,1347,3668,2878,2201,2420,2184,1589,2526,1873,1644,1548,1773,2040,1165,1193,1325,4201,3536,631,595,518,332,3694,2746,1546,3509,6591,6229,996,540,446,491],\"c\":[1829,1163,2770,4782,5933,3599,2521,1760,1879,958,3430,6408,5748,4962,3155,1554,1320,1459,882,1184,3368,2092,2562,2631,754,2169,2827,984,2666,5819,1793,691,708,851,1182,1950,1503,2653,1437,832,653,1205,1642,1330,258,226,224,131,2589,3250,3679,2178,1085,780,643,833,465,698],\"hovertemplate\":\"Joly=%{a}<br>Coderre=%{b}<br>Bergeron=%{c}<extra></extra>\",\"legendgroup\":\"\",\"marker\":{\"color\":\"#636efa\",\"symbol\":\"circle\"},\"mode\":\"markers\",\"name\":\"\",\"showlegend\":false,\"subplot\":\"ternary\",\"type\":\"scatterternary\"}],                        {\"template\":{\"data\":{\"histogram2dcontour\":[{\"type\":\"histogram2dcontour\",\"colorbar\":{\"outlinewidth\":0,\"ticks\":\"\"},\"colorscale\":[[0.0,\"#0d0887\"],[0.1111111111111111,\"#46039f\"],[0.2222222222222222,\"#7201a8\"],[0.3333333333333333,\"#9c179e\"],[0.4444444444444444,\"#bd3786\"],[0.5555555555555556,\"#d8576b\"],[0.6666666666666666,\"#ed7953\"],[0.7777777777777778,\"#fb9f3a\"],[0.8888888888888888,\"#fdca26\"],[1.0,\"#f0f921\"]]}],\"choropleth\":[{\"type\":\"choropleth\",\"colorbar\":{\"outlinewidth\":0,\"ticks\":\"\"}}],\"histogram2d\":[{\"type\":\"histogram2d\",\"colorbar\":{\"outlinewidth\":0,\"ticks\":\"\"},\"colorscale\":[[0.0,\"#0d0887\"],[0.1111111111111111,\"#46039f\"],[0.2222222222222222,\"#7201a8\"],[0.3333333333333333,\"#9c179e\"],[0.4444444444444444,\"#bd3786\"],[0.5555555555555556,\"#d8576b\"],[0.6666666666666666,\"#ed7953\"],[0.7777777777777778,\"#fb9f3a\"],[0.8888888888888888,\"#fdca26\"],[1.0,\"#f0f921\"]]}],\"heatmap\":[{\"type\":\"heatmap\",\"colorbar\":{\"outlinewidth\":0,\"ticks\":\"\"},\"colorscale\":[[0.0,\"#0d0887\"],[0.1111111111111111,\"#46039f\"],[0.2222222222222222,\"#7201a8\"],[0.3333333333333333,\"#9c179e\"],[0.4444444444444444,\"#bd3786\"],[0.5555555555555556,\"#d8576b\"],[0.6666666666666666,\"#ed7953\"],[0.7777777777777778,\"#fb9f3a\"],[0.8888888888888888,\"#fdca26\"],[1.0,\"#f0f921\"]]}],\"heatmapgl\":[{\"type\":\"heatmapgl\",\"colorbar\":{\"outlinewidth\":0,\"ticks\":\"\"},\"colorscale\":[[0.0,\"#0d0887\"],[0.1111111111111111,\"#46039f\"],[0.2222222222222222,\"#7201a8\"],[0.3333333333333333,\"#9c179e\"],[0.4444444444444444,\"#bd3786\"],[0.5555555555555556,\"#d8576b\"],[0.6666666666666666,\"#ed7953\"],[0.7777777777777778,\"#fb9f3a\"],[0.8888888888888888,\"#fdca26\"],[1.0,\"#f0f921\"]]}],\"contourcarpet\":[{\"type\":\"contourcarpet\",\"colorbar\":{\"outlinewidth\":0,\"ticks\":\"\"}}],\"contour\":[{\"type\":\"contour\",\"colorbar\":{\"outlinewidth\":0,\"ticks\":\"\"},\"colorscale\":[[0.0,\"#0d0887\"],[0.1111111111111111,\"#46039f\"],[0.2222222222222222,\"#7201a8\"],[0.3333333333333333,\"#9c179e\"],[0.4444444444444444,\"#bd3786\"],[0.5555555555555556,\"#d8576b\"],[0.6666666666666666,\"#ed7953\"],[0.7777777777777778,\"#fb9f3a\"],[0.8888888888888888,\"#fdca26\"],[1.0,\"#f0f921\"]]}],\"surface\":[{\"type\":\"surface\",\"colorbar\":{\"outlinewidth\":0,\"ticks\":\"\"},\"colorscale\":[[0.0,\"#0d0887\"],[0.1111111111111111,\"#46039f\"],[0.2222222222222222,\"#7201a8\"],[0.3333333333333333,\"#9c179e\"],[0.4444444444444444,\"#bd3786\"],[0.5555555555555556,\"#d8576b\"],[0.6666666666666666,\"#ed7953\"],[0.7777777777777778,\"#fb9f3a\"],[0.8888888888888888,\"#fdca26\"],[1.0,\"#f0f921\"]]}],\"mesh3d\":[{\"type\":\"mesh3d\",\"colorbar\":{\"outlinewidth\":0,\"ticks\":\"\"}}],\"scatter\":[{\"fillpattern\":{\"fillmode\":\"overlay\",\"size\":10,\"solidity\":0.2},\"type\":\"scatter\"}],\"parcoords\":[{\"type\":\"parcoords\",\"line\":{\"colorbar\":{\"outlinewidth\":0,\"ticks\":\"\"}}}],\"scatterpolargl\":[{\"type\":\"scatterpolargl\",\"marker\":{\"colorbar\":{\"outlinewidth\":0,\"ticks\":\"\"}}}],\"bar\":[{\"error_x\":{\"color\":\"#2a3f5f\"},\"error_y\":{\"color\":\"#2a3f5f\"},\"marker\":{\"line\":{\"color\":\"#E5ECF6\",\"width\":0.5},\"pattern\":{\"fillmode\":\"overlay\",\"size\":10,\"solidity\":0.2}},\"type\":\"bar\"}],\"scattergeo\":[{\"type\":\"scattergeo\",\"marker\":{\"colorbar\":{\"outlinewidth\":0,\"ticks\":\"\"}}}],\"scatterpolar\":[{\"type\":\"scatterpolar\",\"marker\":{\"colorbar\":{\"outlinewidth\":0,\"ticks\":\"\"}}}],\"histogram\":[{\"marker\":{\"pattern\":{\"fillmode\":\"overlay\",\"size\":10,\"solidity\":0.2}},\"type\":\"histogram\"}],\"scattergl\":[{\"type\":\"scattergl\",\"marker\":{\"colorbar\":{\"outlinewidth\":0,\"ticks\":\"\"}}}],\"scatter3d\":[{\"type\":\"scatter3d\",\"line\":{\"colorbar\":{\"outlinewidth\":0,\"ticks\":\"\"}},\"marker\":{\"colorbar\":{\"outlinewidth\":0,\"ticks\":\"\"}}}],\"scattermapbox\":[{\"type\":\"scattermapbox\",\"marker\":{\"colorbar\":{\"outlinewidth\":0,\"ticks\":\"\"}}}],\"scatterternary\":[{\"type\":\"scatterternary\",\"marker\":{\"colorbar\":{\"outlinewidth\":0,\"ticks\":\"\"}}}],\"scattercarpet\":[{\"type\":\"scattercarpet\",\"marker\":{\"colorbar\":{\"outlinewidth\":0,\"ticks\":\"\"}}}],\"carpet\":[{\"aaxis\":{\"endlinecolor\":\"#2a3f5f\",\"gridcolor\":\"white\",\"linecolor\":\"white\",\"minorgridcolor\":\"white\",\"startlinecolor\":\"#2a3f5f\"},\"baxis\":{\"endlinecolor\":\"#2a3f5f\",\"gridcolor\":\"white\",\"linecolor\":\"white\",\"minorgridcolor\":\"white\",\"startlinecolor\":\"#2a3f5f\"},\"type\":\"carpet\"}],\"table\":[{\"cells\":{\"fill\":{\"color\":\"#EBF0F8\"},\"line\":{\"color\":\"white\"}},\"header\":{\"fill\":{\"color\":\"#C8D4E3\"},\"line\":{\"color\":\"white\"}},\"type\":\"table\"}],\"barpolar\":[{\"marker\":{\"line\":{\"color\":\"#E5ECF6\",\"width\":0.5},\"pattern\":{\"fillmode\":\"overlay\",\"size\":10,\"solidity\":0.2}},\"type\":\"barpolar\"}],\"pie\":[{\"automargin\":true,\"type\":\"pie\"}]},\"layout\":{\"autotypenumbers\":\"strict\",\"colorway\":[\"#636efa\",\"#EF553B\",\"#00cc96\",\"#ab63fa\",\"#FFA15A\",\"#19d3f3\",\"#FF6692\",\"#B6E880\",\"#FF97FF\",\"#FECB52\"],\"font\":{\"color\":\"#2a3f5f\"},\"hovermode\":\"closest\",\"hoverlabel\":{\"align\":\"left\"},\"paper_bgcolor\":\"white\",\"plot_bgcolor\":\"#E5ECF6\",\"polar\":{\"bgcolor\":\"#E5ECF6\",\"angularaxis\":{\"gridcolor\":\"white\",\"linecolor\":\"white\",\"ticks\":\"\"},\"radialaxis\":{\"gridcolor\":\"white\",\"linecolor\":\"white\",\"ticks\":\"\"}},\"ternary\":{\"bgcolor\":\"#E5ECF6\",\"aaxis\":{\"gridcolor\":\"white\",\"linecolor\":\"white\",\"ticks\":\"\"},\"baxis\":{\"gridcolor\":\"white\",\"linecolor\":\"white\",\"ticks\":\"\"},\"caxis\":{\"gridcolor\":\"white\",\"linecolor\":\"white\",\"ticks\":\"\"}},\"coloraxis\":{\"colorbar\":{\"outlinewidth\":0,\"ticks\":\"\"}},\"colorscale\":{\"sequential\":[[0.0,\"#0d0887\"],[0.1111111111111111,\"#46039f\"],[0.2222222222222222,\"#7201a8\"],[0.3333333333333333,\"#9c179e\"],[0.4444444444444444,\"#bd3786\"],[0.5555555555555556,\"#d8576b\"],[0.6666666666666666,\"#ed7953\"],[0.7777777777777778,\"#fb9f3a\"],[0.8888888888888888,\"#fdca26\"],[1.0,\"#f0f921\"]],\"sequentialminus\":[[0.0,\"#0d0887\"],[0.1111111111111111,\"#46039f\"],[0.2222222222222222,\"#7201a8\"],[0.3333333333333333,\"#9c179e\"],[0.4444444444444444,\"#bd3786\"],[0.5555555555555556,\"#d8576b\"],[0.6666666666666666,\"#ed7953\"],[0.7777777777777778,\"#fb9f3a\"],[0.8888888888888888,\"#fdca26\"],[1.0,\"#f0f921\"]],\"diverging\":[[0,\"#8e0152\"],[0.1,\"#c51b7d\"],[0.2,\"#de77ae\"],[0.3,\"#f1b6da\"],[0.4,\"#fde0ef\"],[0.5,\"#f7f7f7\"],[0.6,\"#e6f5d0\"],[0.7,\"#b8e186\"],[0.8,\"#7fbc41\"],[0.9,\"#4d9221\"],[1,\"#276419\"]]},\"xaxis\":{\"gridcolor\":\"white\",\"linecolor\":\"white\",\"ticks\":\"\",\"title\":{\"standoff\":15},\"zerolinecolor\":\"white\",\"automargin\":true,\"zerolinewidth\":2},\"yaxis\":{\"gridcolor\":\"white\",\"linecolor\":\"white\",\"ticks\":\"\",\"title\":{\"standoff\":15},\"zerolinecolor\":\"white\",\"automargin\":true,\"zerolinewidth\":2},\"scene\":{\"xaxis\":{\"backgroundcolor\":\"#E5ECF6\",\"gridcolor\":\"white\",\"linecolor\":\"white\",\"showbackground\":true,\"ticks\":\"\",\"zerolinecolor\":\"white\",\"gridwidth\":2},\"yaxis\":{\"backgroundcolor\":\"#E5ECF6\",\"gridcolor\":\"white\",\"linecolor\":\"white\",\"showbackground\":true,\"ticks\":\"\",\"zerolinecolor\":\"white\",\"gridwidth\":2},\"zaxis\":{\"backgroundcolor\":\"#E5ECF6\",\"gridcolor\":\"white\",\"linecolor\":\"white\",\"showbackground\":true,\"ticks\":\"\",\"zerolinecolor\":\"white\",\"gridwidth\":2}},\"shapedefaults\":{\"line\":{\"color\":\"#2a3f5f\"}},\"annotationdefaults\":{\"arrowcolor\":\"#2a3f5f\",\"arrowhead\":0,\"arrowwidth\":1},\"geo\":{\"bgcolor\":\"white\",\"landcolor\":\"#E5ECF6\",\"subunitcolor\":\"white\",\"showland\":true,\"showlakes\":true,\"lakecolor\":\"white\"},\"title\":{\"x\":0.05},\"mapbox\":{\"style\":\"light\"}}},\"ternary\":{\"domain\":{\"x\":[0.0,1.0],\"y\":[0.0,1.0]},\"aaxis\":{\"title\":{\"text\":\"Joly\"}},\"baxis\":{\"title\":{\"text\":\"Coderre\"}},\"caxis\":{\"title\":{\"text\":\"Bergeron\"}}},\"legend\":{\"tracegroupgap\":0},\"margin\":{\"t\":60}},                        {\"responsive\": true}                    ).then(function(){\n",
       "                            \n",
       "var gd = document.getElementById('1261be34-18b7-4a15-b726-a2fa9789c309');\n",
       "var x = new MutationObserver(function (mutations, observer) {{\n",
       "        var display = window.getComputedStyle(gd).display;\n",
       "        if (!display || display === 'none') {{\n",
       "            console.log([gd, 'removed!']);\n",
       "            Plotly.purge(gd);\n",
       "            observer.disconnect();\n",
       "        }}\n",
       "}});\n",
       "\n",
       "// Listen for the removal of the full notebook cells\n",
       "var notebookContainer = gd.closest('#notebook-container');\n",
       "if (notebookContainer) {{\n",
       "    x.observe(notebookContainer, {childList: true});\n",
       "}}\n",
       "\n",
       "// Listen for the clearing of the current output cell\n",
       "var outputEl = gd.closest('.output');\n",
       "if (outputEl) {{\n",
       "    x.observe(outputEl, {childList: true});\n",
       "}}\n",
       "\n",
       "                        })                };                });            </script>        </div>"
      ]
     },
     "metadata": {},
     "output_type": "display_data"
    }
   ],
   "source": [
    "import plotly.express as px\n",
    "import pandas as pd\n",
    "\n",
    "df = px.data.election()\n",
    "fig = px.scatter_ternary(df, a=\"Joly\", b=\"Coderre\", c=\"Bergeron\")\n",
    "fig.show()"
   ]
  },
  {
   "cell_type": "code",
   "execution_count": 49,
   "id": "b2da0ec9-bea1-4a72-b7f6-fffc63b45dde",
   "metadata": {},
   "outputs": [
    {
     "data": {
      "text/html": [
       "<div>\n",
       "<style scoped>\n",
       "    .dataframe tbody tr th:only-of-type {\n",
       "        vertical-align: middle;\n",
       "    }\n",
       "\n",
       "    .dataframe tbody tr th {\n",
       "        vertical-align: top;\n",
       "    }\n",
       "\n",
       "    .dataframe thead th {\n",
       "        text-align: right;\n",
       "    }\n",
       "</style>\n",
       "<table border=\"1\" class=\"dataframe\">\n",
       "  <thead>\n",
       "    <tr style=\"text-align: right;\">\n",
       "      <th></th>\n",
       "      <th>district</th>\n",
       "      <th>Coderre</th>\n",
       "      <th>Bergeron</th>\n",
       "      <th>Joly</th>\n",
       "      <th>total</th>\n",
       "      <th>winner</th>\n",
       "      <th>result</th>\n",
       "      <th>district_id</th>\n",
       "    </tr>\n",
       "  </thead>\n",
       "  <tbody>\n",
       "    <tr>\n",
       "      <th>0</th>\n",
       "      <td>101-Bois-de-Liesse</td>\n",
       "      <td>2481</td>\n",
       "      <td>1829</td>\n",
       "      <td>3024</td>\n",
       "      <td>7334</td>\n",
       "      <td>Joly</td>\n",
       "      <td>plurality</td>\n",
       "      <td>101</td>\n",
       "    </tr>\n",
       "    <tr>\n",
       "      <th>1</th>\n",
       "      <td>102-Cap-Saint-Jacques</td>\n",
       "      <td>2525</td>\n",
       "      <td>1163</td>\n",
       "      <td>2675</td>\n",
       "      <td>6363</td>\n",
       "      <td>Joly</td>\n",
       "      <td>plurality</td>\n",
       "      <td>102</td>\n",
       "    </tr>\n",
       "    <tr>\n",
       "      <th>2</th>\n",
       "      <td>11-Sault-au-Récollet</td>\n",
       "      <td>3348</td>\n",
       "      <td>2770</td>\n",
       "      <td>2532</td>\n",
       "      <td>8650</td>\n",
       "      <td>Coderre</td>\n",
       "      <td>plurality</td>\n",
       "      <td>11</td>\n",
       "    </tr>\n",
       "    <tr>\n",
       "      <th>3</th>\n",
       "      <td>111-Mile-End</td>\n",
       "      <td>1734</td>\n",
       "      <td>4782</td>\n",
       "      <td>2514</td>\n",
       "      <td>9030</td>\n",
       "      <td>Bergeron</td>\n",
       "      <td>majority</td>\n",
       "      <td>111</td>\n",
       "    </tr>\n",
       "    <tr>\n",
       "      <th>4</th>\n",
       "      <td>112-DeLorimier</td>\n",
       "      <td>1770</td>\n",
       "      <td>5933</td>\n",
       "      <td>3044</td>\n",
       "      <td>10747</td>\n",
       "      <td>Bergeron</td>\n",
       "      <td>majority</td>\n",
       "      <td>112</td>\n",
       "    </tr>\n",
       "  </tbody>\n",
       "</table>\n",
       "</div>"
      ],
      "text/plain": [
       "                district  Coderre  Bergeron  Joly  total    winner     result  \\\n",
       "0     101-Bois-de-Liesse     2481      1829  3024   7334      Joly  plurality   \n",
       "1  102-Cap-Saint-Jacques     2525      1163  2675   6363      Joly  plurality   \n",
       "2   11-Sault-au-Récollet     3348      2770  2532   8650   Coderre  plurality   \n",
       "3           111-Mile-End     1734      4782  2514   9030  Bergeron   majority   \n",
       "4         112-DeLorimier     1770      5933  3044  10747  Bergeron   majority   \n",
       "\n",
       "   district_id  \n",
       "0          101  \n",
       "1          102  \n",
       "2           11  \n",
       "3          111  \n",
       "4          112  "
      ]
     },
     "execution_count": 49,
     "metadata": {},
     "output_type": "execute_result"
    }
   ],
   "source": [
    "df.head()"
   ]
  },
  {
   "cell_type": "code",
   "execution_count": 64,
   "id": "f9d2618b-1c1b-4174-a839-2203be1ae11c",
   "metadata": {},
   "outputs": [],
   "source": [
    "simplex=pd.DataFrame()\n",
    "\n",
    "simplex['mu_1']=np.random.rand(100)/3\n",
    "simplex['mu_2']=np.random.rand(100)/3\n",
    "simplex['mu_3']=1-simplex['mu_1']-simplex['mu_2']"
   ]
  },
  {
   "cell_type": "code",
   "execution_count": 65,
   "id": "53ce504b-e54a-4cc6-a443-24b7558e3568",
   "metadata": {},
   "outputs": [
    {
     "data": {
      "text/html": [
       "<div>\n",
       "<style scoped>\n",
       "    .dataframe tbody tr th:only-of-type {\n",
       "        vertical-align: middle;\n",
       "    }\n",
       "\n",
       "    .dataframe tbody tr th {\n",
       "        vertical-align: top;\n",
       "    }\n",
       "\n",
       "    .dataframe thead th {\n",
       "        text-align: right;\n",
       "    }\n",
       "</style>\n",
       "<table border=\"1\" class=\"dataframe\">\n",
       "  <thead>\n",
       "    <tr style=\"text-align: right;\">\n",
       "      <th></th>\n",
       "      <th>mu_1</th>\n",
       "      <th>mu_2</th>\n",
       "      <th>mu_3</th>\n",
       "    </tr>\n",
       "  </thead>\n",
       "  <tbody>\n",
       "    <tr>\n",
       "      <th>0</th>\n",
       "      <td>0.222720</td>\n",
       "      <td>0.212618</td>\n",
       "      <td>0.564662</td>\n",
       "    </tr>\n",
       "    <tr>\n",
       "      <th>1</th>\n",
       "      <td>0.281159</td>\n",
       "      <td>0.263018</td>\n",
       "      <td>0.455823</td>\n",
       "    </tr>\n",
       "    <tr>\n",
       "      <th>2</th>\n",
       "      <td>0.062843</td>\n",
       "      <td>0.113012</td>\n",
       "      <td>0.824146</td>\n",
       "    </tr>\n",
       "    <tr>\n",
       "      <th>3</th>\n",
       "      <td>0.209967</td>\n",
       "      <td>0.291454</td>\n",
       "      <td>0.498579</td>\n",
       "    </tr>\n",
       "    <tr>\n",
       "      <th>4</th>\n",
       "      <td>0.195318</td>\n",
       "      <td>0.297910</td>\n",
       "      <td>0.506773</td>\n",
       "    </tr>\n",
       "  </tbody>\n",
       "</table>\n",
       "</div>"
      ],
      "text/plain": [
       "       mu_1      mu_2      mu_3\n",
       "0  0.222720  0.212618  0.564662\n",
       "1  0.281159  0.263018  0.455823\n",
       "2  0.062843  0.113012  0.824146\n",
       "3  0.209967  0.291454  0.498579\n",
       "4  0.195318  0.297910  0.506773"
      ]
     },
     "execution_count": 65,
     "metadata": {},
     "output_type": "execute_result"
    }
   ],
   "source": [
    "simplex.head()"
   ]
  },
  {
   "cell_type": "code",
   "execution_count": 66,
   "id": "05479818-18b0-4eaa-b413-93b91370aeb4",
   "metadata": {},
   "outputs": [
    {
     "data": {
      "application/vnd.plotly.v1+json": {
       "config": {
        "plotlyServerURL": "https://plot.ly"
       },
       "data": [
        {
         "a": [
          0.22271997694814794,
          0.28115890046066955,
          0.06284253457630144,
          0.2099672258939829,
          0.19531770353205793,
          0.03226602796242165,
          0.2548576856696118,
          0.2679613849209899,
          0.2789286187007242,
          0.2972145783552926,
          0.2580977689549446,
          0.3198174416185689,
          0.20893337026992645,
          0.1391975009745926,
          0.040333396998016635,
          0.28595607233182146,
          0.21366145968459413,
          0.2930304711457565,
          0.02636239912961687,
          0.19392518276917814,
          0.22347634463294144,
          0.31292676496736604,
          0.21999301269441443,
          0.008815599900087808,
          0.29223084889690987,
          0.32030090431287145,
          0.00010512930624447432,
          0.3182892019568057,
          0.09279240603970917,
          0.1900166042452628,
          0.06215443467720553,
          0.11918059162900707,
          0.06927816838429368,
          0.29586227707974705,
          0.28700949426670613,
          0.1574522856002206,
          0.06481716204470174,
          0.05034330841142165,
          0.07978341954692207,
          0.038470917542950844,
          0.07473494696687628,
          0.24831305333102416,
          0.28073128065626146,
          0.1463555169771754,
          0.07513715319693504,
          0.05514654134574889,
          0.2051405666759549,
          0.008305496664968492,
          0.1781016968340471,
          0.1246131196912121,
          0.18824440217544666,
          0.17317953827432733,
          0.019044428333231906,
          0.15589683559109957,
          0.09511115831317844,
          0.13583620190500378,
          0.0026444878579758857,
          0.32255228734622987,
          0.3038773818723847,
          0.15195551809053154,
          0.05695291454850678,
          0.1195396761395302,
          0.09937702471843339,
          0.09659409307705795,
          0.26325166242500986,
          0.04782166207918289,
          0.21496631673344668,
          0.19799358415009014,
          0.08530753603515555,
          0.32321104075064405,
          0.16576125225582106,
          0.1633663749411556,
          0.06056960875064351,
          0.233507810017764,
          0.1493968214192776,
          0.12084266652806763,
          0.11401117746164276,
          0.005002470350575772,
          0.035311295338731306,
          0.0581300421497547,
          0.02886811867868459,
          0.042460100148932534,
          0.0506826622651407,
          0.0022225797605140616,
          0.0714418215890527,
          0.2056147618427404,
          0.3330338042189132,
          0.21611394072440906,
          0.14296795006718707,
          0.05872297814859969,
          0.08323552325233936,
          0.17243748639781353,
          0.13176596623362902,
          0.2613043428180983,
          0.04111973795797552,
          0.09513855897132469,
          0.10155244895837652,
          0.045348075734299075,
          0.1871222203030023,
          0.0971682075003097
         ],
         "b": [
          0.21261755057456003,
          0.26301825562817777,
          0.11301162924813846,
          0.2914537376667179,
          0.2979095808488334,
          0.06613332214990382,
          0.016881499681717965,
          0.01484049862249992,
          0.33244902451035924,
          0.30717092283681907,
          0.29065318131995954,
          0.05162609938794397,
          0.03606418836265879,
          0.2416442695878072,
          0.14339270383515915,
          0.11516495760646343,
          0.13814527619822584,
          0.0677041842623719,
          0.06383515463449259,
          0.0796210604002298,
          0.18455265041660088,
          0.117183982715848,
          0.2962217564925404,
          0.2982904359412877,
          0.007717526600963216,
          0.01411755251759006,
          0.028155267814728806,
          0.2697640556473584,
          0.19139779501586907,
          0.16112016140065977,
          0.13933375926385647,
          0.21927918455368714,
          0.2676844482803056,
          0.3047154065760601,
          0.22051861669798947,
          0.31235415115252113,
          0.3149204646363546,
          0.04280844436946466,
          0.13733953602950819,
          0.2794008065645452,
          0.10777159355430681,
          0.24796710509222122,
          0.025580135290041734,
          0.2611653923159501,
          0.035197501230369875,
          0.20042160805422007,
          0.021949956356591804,
          0.3324099775993387,
          0.01606595215179581,
          0.19436321749978533,
          0.008134092499574863,
          0.29591112995780894,
          0.12373157371331682,
          0.307065952634516,
          0.3076709115313435,
          0.1346273096409147,
          0.2527813062129222,
          0.15523844532945183,
          0.3223258544674826,
          0.01744378436269541,
          0.05280896701098644,
          0.2815733852654592,
          0.23788547941998137,
          0.1740337969995912,
          0.25209725168446434,
          0.06610492727267514,
          0.33191938790858794,
          0.18045989433701137,
          0.060464967269141634,
          0.32489750733048206,
          0.03419095811001679,
          0.021280940750929973,
          0.25135113666006575,
          0.25048001574007706,
          0.32861010025151977,
          0.3129434015809793,
          0.05529568444601152,
          0.13687051681706697,
          0.12749557514473064,
          0.30796779453164264,
          0.11265429408947573,
          0.2934716475988734,
          0.1759780910537995,
          0.22154342522752254,
          0.20094183361565587,
          0.19370896006230154,
          0.047201737079637186,
          0.3293403555145102,
          0.12521061355934712,
          0.2898612862009446,
          0.123609877049436,
          0.20057899900826204,
          0.28672496663235186,
          0.2451451384662522,
          0.17272909443166876,
          0.19802593413265623,
          0.029633527949348665,
          0.145478043795477,
          0.07438771643542623,
          0.10451336662886083
         ],
         "c": [
          0.5646624724772921,
          0.45582284391115263,
          0.8241458361755601,
          0.49857903643929924,
          0.5067727156191086,
          0.9016006498876745,
          0.7282608146486702,
          0.7171981164565102,
          0.3886223567889165,
          0.3956144988078883,
          0.45124904972509583,
          0.6285564589934872,
          0.7550024413674148,
          0.6191582294376002,
          0.8162738991668242,
          0.5988789700617151,
          0.64819326411718,
          0.6392653445918716,
          0.9098024462358905,
          0.7264537568305921,
          0.5919710049504577,
          0.569889252316786,
          0.4837852308130452,
          0.6928939641586245,
          0.7000516245021269,
          0.6655815431695384,
          0.9717396028790267,
          0.41194674239583584,
          0.7158097989444218,
          0.6488632343540774,
          0.798511806058938,
          0.6615402238173058,
          0.6630373833354007,
          0.3994223163441929,
          0.4924718890353045,
          0.5301935632472583,
          0.6202623733189436,
          0.9068482472191137,
          0.7828770444235698,
          0.682128275892504,
          0.8174934594788169,
          0.5037198415767546,
          0.6936885840536968,
          0.5924790907068744,
          0.889665345572695,
          0.744431850600031,
          0.7729094769674533,
          0.6592845257356927,
          0.8058323510141571,
          0.6810236628090025,
          0.8036215053249784,
          0.5309093317678637,
          0.8572239979534513,
          0.5370372117743845,
          0.5972179301554781,
          0.7295364884540815,
          0.7445742059291018,
          0.5222092673243183,
          0.37379676366013265,
          0.830600697546773,
          0.8902381184405067,
          0.5988869385950106,
          0.6627374958615853,
          0.7293721099233509,
          0.4846510858905258,
          0.8860734106481419,
          0.4531142953579654,
          0.6215465215128985,
          0.8542274966957029,
          0.35189145191887383,
          0.8000477896341621,
          0.8153526843079144,
          0.6880792545892906,
          0.516012174242159,
          0.5219930783292026,
          0.5662139318909531,
          0.8306931380923457,
          0.8581270128323573,
          0.837193129516538,
          0.6339021633186026,
          0.8584775872318398,
          0.6640682522521941,
          0.7733392466810598,
          0.7762339950119633,
          0.7276163447952915,
          0.600676278094958,
          0.6197644587014497,
          0.4545457037610808,
          0.7318214363734658,
          0.6514157356504557,
          0.7931545996982245,
          0.6269835145939244,
          0.5815090671340191,
          0.4935505187156495,
          0.7861511676103557,
          0.706835506896019,
          0.8688140230922747,
          0.8091738804702239,
          0.7384900632615715,
          0.7983184258708295
         ],
         "hovertemplate": "mu_1=%{a}<br>mu_2=%{b}<br>mu_3=%{c}<extra></extra>",
         "legendgroup": "",
         "marker": {
          "color": "#636efa",
          "symbol": "circle"
         },
         "mode": "markers",
         "name": "",
         "showlegend": false,
         "subplot": "ternary",
         "type": "scatterternary"
        }
       ],
       "layout": {
        "autosize": true,
        "legend": {
         "tracegroupgap": 0
        },
        "margin": {
         "t": 60
        },
        "template": {
         "data": {
          "bar": [
           {
            "error_x": {
             "color": "#2a3f5f"
            },
            "error_y": {
             "color": "#2a3f5f"
            },
            "marker": {
             "line": {
              "color": "#E5ECF6",
              "width": 0.5
             },
             "pattern": {
              "fillmode": "overlay",
              "size": 10,
              "solidity": 0.2
             }
            },
            "type": "bar"
           }
          ],
          "barpolar": [
           {
            "marker": {
             "line": {
              "color": "#E5ECF6",
              "width": 0.5
             },
             "pattern": {
              "fillmode": "overlay",
              "size": 10,
              "solidity": 0.2
             }
            },
            "type": "barpolar"
           }
          ],
          "carpet": [
           {
            "aaxis": {
             "endlinecolor": "#2a3f5f",
             "gridcolor": "white",
             "linecolor": "white",
             "minorgridcolor": "white",
             "startlinecolor": "#2a3f5f"
            },
            "baxis": {
             "endlinecolor": "#2a3f5f",
             "gridcolor": "white",
             "linecolor": "white",
             "minorgridcolor": "white",
             "startlinecolor": "#2a3f5f"
            },
            "type": "carpet"
           }
          ],
          "choropleth": [
           {
            "colorbar": {
             "outlinewidth": 0,
             "ticks": ""
            },
            "type": "choropleth"
           }
          ],
          "contour": [
           {
            "colorbar": {
             "outlinewidth": 0,
             "ticks": ""
            },
            "colorscale": [
             [
              0,
              "#0d0887"
             ],
             [
              0.1111111111111111,
              "#46039f"
             ],
             [
              0.2222222222222222,
              "#7201a8"
             ],
             [
              0.3333333333333333,
              "#9c179e"
             ],
             [
              0.4444444444444444,
              "#bd3786"
             ],
             [
              0.5555555555555556,
              "#d8576b"
             ],
             [
              0.6666666666666666,
              "#ed7953"
             ],
             [
              0.7777777777777778,
              "#fb9f3a"
             ],
             [
              0.8888888888888888,
              "#fdca26"
             ],
             [
              1,
              "#f0f921"
             ]
            ],
            "type": "contour"
           }
          ],
          "contourcarpet": [
           {
            "colorbar": {
             "outlinewidth": 0,
             "ticks": ""
            },
            "type": "contourcarpet"
           }
          ],
          "heatmap": [
           {
            "colorbar": {
             "outlinewidth": 0,
             "ticks": ""
            },
            "colorscale": [
             [
              0,
              "#0d0887"
             ],
             [
              0.1111111111111111,
              "#46039f"
             ],
             [
              0.2222222222222222,
              "#7201a8"
             ],
             [
              0.3333333333333333,
              "#9c179e"
             ],
             [
              0.4444444444444444,
              "#bd3786"
             ],
             [
              0.5555555555555556,
              "#d8576b"
             ],
             [
              0.6666666666666666,
              "#ed7953"
             ],
             [
              0.7777777777777778,
              "#fb9f3a"
             ],
             [
              0.8888888888888888,
              "#fdca26"
             ],
             [
              1,
              "#f0f921"
             ]
            ],
            "type": "heatmap"
           }
          ],
          "heatmapgl": [
           {
            "colorbar": {
             "outlinewidth": 0,
             "ticks": ""
            },
            "colorscale": [
             [
              0,
              "#0d0887"
             ],
             [
              0.1111111111111111,
              "#46039f"
             ],
             [
              0.2222222222222222,
              "#7201a8"
             ],
             [
              0.3333333333333333,
              "#9c179e"
             ],
             [
              0.4444444444444444,
              "#bd3786"
             ],
             [
              0.5555555555555556,
              "#d8576b"
             ],
             [
              0.6666666666666666,
              "#ed7953"
             ],
             [
              0.7777777777777778,
              "#fb9f3a"
             ],
             [
              0.8888888888888888,
              "#fdca26"
             ],
             [
              1,
              "#f0f921"
             ]
            ],
            "type": "heatmapgl"
           }
          ],
          "histogram": [
           {
            "marker": {
             "pattern": {
              "fillmode": "overlay",
              "size": 10,
              "solidity": 0.2
             }
            },
            "type": "histogram"
           }
          ],
          "histogram2d": [
           {
            "colorbar": {
             "outlinewidth": 0,
             "ticks": ""
            },
            "colorscale": [
             [
              0,
              "#0d0887"
             ],
             [
              0.1111111111111111,
              "#46039f"
             ],
             [
              0.2222222222222222,
              "#7201a8"
             ],
             [
              0.3333333333333333,
              "#9c179e"
             ],
             [
              0.4444444444444444,
              "#bd3786"
             ],
             [
              0.5555555555555556,
              "#d8576b"
             ],
             [
              0.6666666666666666,
              "#ed7953"
             ],
             [
              0.7777777777777778,
              "#fb9f3a"
             ],
             [
              0.8888888888888888,
              "#fdca26"
             ],
             [
              1,
              "#f0f921"
             ]
            ],
            "type": "histogram2d"
           }
          ],
          "histogram2dcontour": [
           {
            "colorbar": {
             "outlinewidth": 0,
             "ticks": ""
            },
            "colorscale": [
             [
              0,
              "#0d0887"
             ],
             [
              0.1111111111111111,
              "#46039f"
             ],
             [
              0.2222222222222222,
              "#7201a8"
             ],
             [
              0.3333333333333333,
              "#9c179e"
             ],
             [
              0.4444444444444444,
              "#bd3786"
             ],
             [
              0.5555555555555556,
              "#d8576b"
             ],
             [
              0.6666666666666666,
              "#ed7953"
             ],
             [
              0.7777777777777778,
              "#fb9f3a"
             ],
             [
              0.8888888888888888,
              "#fdca26"
             ],
             [
              1,
              "#f0f921"
             ]
            ],
            "type": "histogram2dcontour"
           }
          ],
          "mesh3d": [
           {
            "colorbar": {
             "outlinewidth": 0,
             "ticks": ""
            },
            "type": "mesh3d"
           }
          ],
          "parcoords": [
           {
            "line": {
             "colorbar": {
              "outlinewidth": 0,
              "ticks": ""
             }
            },
            "type": "parcoords"
           }
          ],
          "pie": [
           {
            "automargin": true,
            "type": "pie"
           }
          ],
          "scatter": [
           {
            "fillpattern": {
             "fillmode": "overlay",
             "size": 10,
             "solidity": 0.2
            },
            "type": "scatter"
           }
          ],
          "scatter3d": [
           {
            "line": {
             "colorbar": {
              "outlinewidth": 0,
              "ticks": ""
             }
            },
            "marker": {
             "colorbar": {
              "outlinewidth": 0,
              "ticks": ""
             }
            },
            "type": "scatter3d"
           }
          ],
          "scattercarpet": [
           {
            "marker": {
             "colorbar": {
              "outlinewidth": 0,
              "ticks": ""
             }
            },
            "type": "scattercarpet"
           }
          ],
          "scattergeo": [
           {
            "marker": {
             "colorbar": {
              "outlinewidth": 0,
              "ticks": ""
             }
            },
            "type": "scattergeo"
           }
          ],
          "scattergl": [
           {
            "marker": {
             "colorbar": {
              "outlinewidth": 0,
              "ticks": ""
             }
            },
            "type": "scattergl"
           }
          ],
          "scattermapbox": [
           {
            "marker": {
             "colorbar": {
              "outlinewidth": 0,
              "ticks": ""
             }
            },
            "type": "scattermapbox"
           }
          ],
          "scatterpolar": [
           {
            "marker": {
             "colorbar": {
              "outlinewidth": 0,
              "ticks": ""
             }
            },
            "type": "scatterpolar"
           }
          ],
          "scatterpolargl": [
           {
            "marker": {
             "colorbar": {
              "outlinewidth": 0,
              "ticks": ""
             }
            },
            "type": "scatterpolargl"
           }
          ],
          "scatterternary": [
           {
            "marker": {
             "colorbar": {
              "outlinewidth": 0,
              "ticks": ""
             }
            },
            "type": "scatterternary"
           }
          ],
          "surface": [
           {
            "colorbar": {
             "outlinewidth": 0,
             "ticks": ""
            },
            "colorscale": [
             [
              0,
              "#0d0887"
             ],
             [
              0.1111111111111111,
              "#46039f"
             ],
             [
              0.2222222222222222,
              "#7201a8"
             ],
             [
              0.3333333333333333,
              "#9c179e"
             ],
             [
              0.4444444444444444,
              "#bd3786"
             ],
             [
              0.5555555555555556,
              "#d8576b"
             ],
             [
              0.6666666666666666,
              "#ed7953"
             ],
             [
              0.7777777777777778,
              "#fb9f3a"
             ],
             [
              0.8888888888888888,
              "#fdca26"
             ],
             [
              1,
              "#f0f921"
             ]
            ],
            "type": "surface"
           }
          ],
          "table": [
           {
            "cells": {
             "fill": {
              "color": "#EBF0F8"
             },
             "line": {
              "color": "white"
             }
            },
            "header": {
             "fill": {
              "color": "#C8D4E3"
             },
             "line": {
              "color": "white"
             }
            },
            "type": "table"
           }
          ]
         },
         "layout": {
          "annotationdefaults": {
           "arrowcolor": "#2a3f5f",
           "arrowhead": 0,
           "arrowwidth": 1
          },
          "autotypenumbers": "strict",
          "coloraxis": {
           "colorbar": {
            "outlinewidth": 0,
            "ticks": ""
           }
          },
          "colorscale": {
           "diverging": [
            [
             0,
             "#8e0152"
            ],
            [
             0.1,
             "#c51b7d"
            ],
            [
             0.2,
             "#de77ae"
            ],
            [
             0.3,
             "#f1b6da"
            ],
            [
             0.4,
             "#fde0ef"
            ],
            [
             0.5,
             "#f7f7f7"
            ],
            [
             0.6,
             "#e6f5d0"
            ],
            [
             0.7,
             "#b8e186"
            ],
            [
             0.8,
             "#7fbc41"
            ],
            [
             0.9,
             "#4d9221"
            ],
            [
             1,
             "#276419"
            ]
           ],
           "sequential": [
            [
             0,
             "#0d0887"
            ],
            [
             0.1111111111111111,
             "#46039f"
            ],
            [
             0.2222222222222222,
             "#7201a8"
            ],
            [
             0.3333333333333333,
             "#9c179e"
            ],
            [
             0.4444444444444444,
             "#bd3786"
            ],
            [
             0.5555555555555556,
             "#d8576b"
            ],
            [
             0.6666666666666666,
             "#ed7953"
            ],
            [
             0.7777777777777778,
             "#fb9f3a"
            ],
            [
             0.8888888888888888,
             "#fdca26"
            ],
            [
             1,
             "#f0f921"
            ]
           ],
           "sequentialminus": [
            [
             0,
             "#0d0887"
            ],
            [
             0.1111111111111111,
             "#46039f"
            ],
            [
             0.2222222222222222,
             "#7201a8"
            ],
            [
             0.3333333333333333,
             "#9c179e"
            ],
            [
             0.4444444444444444,
             "#bd3786"
            ],
            [
             0.5555555555555556,
             "#d8576b"
            ],
            [
             0.6666666666666666,
             "#ed7953"
            ],
            [
             0.7777777777777778,
             "#fb9f3a"
            ],
            [
             0.8888888888888888,
             "#fdca26"
            ],
            [
             1,
             "#f0f921"
            ]
           ]
          },
          "colorway": [
           "#636efa",
           "#EF553B",
           "#00cc96",
           "#ab63fa",
           "#FFA15A",
           "#19d3f3",
           "#FF6692",
           "#B6E880",
           "#FF97FF",
           "#FECB52"
          ],
          "font": {
           "color": "#2a3f5f"
          },
          "geo": {
           "bgcolor": "white",
           "lakecolor": "white",
           "landcolor": "#E5ECF6",
           "showlakes": true,
           "showland": true,
           "subunitcolor": "white"
          },
          "hoverlabel": {
           "align": "left"
          },
          "hovermode": "closest",
          "mapbox": {
           "style": "light"
          },
          "paper_bgcolor": "white",
          "plot_bgcolor": "#E5ECF6",
          "polar": {
           "angularaxis": {
            "gridcolor": "white",
            "linecolor": "white",
            "ticks": ""
           },
           "bgcolor": "#E5ECF6",
           "radialaxis": {
            "gridcolor": "white",
            "linecolor": "white",
            "ticks": ""
           }
          },
          "scene": {
           "xaxis": {
            "backgroundcolor": "#E5ECF6",
            "gridcolor": "white",
            "gridwidth": 2,
            "linecolor": "white",
            "showbackground": true,
            "ticks": "",
            "zerolinecolor": "white"
           },
           "yaxis": {
            "backgroundcolor": "#E5ECF6",
            "gridcolor": "white",
            "gridwidth": 2,
            "linecolor": "white",
            "showbackground": true,
            "ticks": "",
            "zerolinecolor": "white"
           },
           "zaxis": {
            "backgroundcolor": "#E5ECF6",
            "gridcolor": "white",
            "gridwidth": 2,
            "linecolor": "white",
            "showbackground": true,
            "ticks": "",
            "zerolinecolor": "white"
           }
          },
          "shapedefaults": {
           "line": {
            "color": "#2a3f5f"
           }
          },
          "ternary": {
           "aaxis": {
            "gridcolor": "white",
            "linecolor": "white",
            "ticks": ""
           },
           "baxis": {
            "gridcolor": "white",
            "linecolor": "white",
            "ticks": ""
           },
           "bgcolor": "#E5ECF6",
           "caxis": {
            "gridcolor": "white",
            "linecolor": "white",
            "ticks": ""
           }
          },
          "title": {
           "x": 0.05
          },
          "xaxis": {
           "automargin": true,
           "gridcolor": "white",
           "linecolor": "white",
           "ticks": "",
           "title": {
            "standoff": 15
           },
           "zerolinecolor": "white",
           "zerolinewidth": 2
          },
          "yaxis": {
           "automargin": true,
           "gridcolor": "white",
           "linecolor": "white",
           "ticks": "",
           "title": {
            "standoff": 15
           },
           "zerolinecolor": "white",
           "zerolinewidth": 2
          }
         }
        },
        "ternary": {
         "aaxis": {
          "title": {
           "text": "mu_1"
          }
         },
         "baxis": {
          "title": {
           "text": "mu_2"
          }
         },
         "caxis": {
          "title": {
           "text": "mu_3"
          }
         },
         "domain": {
          "x": [
           0,
           1
          ],
          "y": [
           0,
           1
          ]
         }
        }
       }
      },
      "image/png": "[encoded data removed]",
      "text/html": [
       "<div>                            <div id=\"7aac4ee6-b3fd-4429-a33c-9e9c53308e33\" class=\"plotly-graph-div\" style=\"height:525px; width:100%;\"></div>            <script type=\"text/javascript\">                require([\"plotly\"], function(Plotly) {                    window.PLOTLYENV=window.PLOTLYENV || {};                                    if (document.getElementById(\"7aac4ee6-b3fd-4429-a33c-9e9c53308e33\")) {                    Plotly.newPlot(                        \"7aac4ee6-b3fd-4429-a33c-9e9c53308e33\",                        [{\"a\":[0.22271997694814794,0.28115890046066955,0.06284253457630144,0.2099672258939829,0.19531770353205793,0.03226602796242165,0.2548576856696118,0.2679613849209899,0.2789286187007242,0.2972145783552926,0.2580977689549446,0.3198174416185689,0.20893337026992645,0.1391975009745926,0.040333396998016635,0.28595607233182146,0.21366145968459413,0.2930304711457565,0.02636239912961687,0.19392518276917814,0.22347634463294144,0.31292676496736604,0.21999301269441443,0.008815599900087808,0.29223084889690987,0.32030090431287145,0.00010512930624447432,0.3182892019568057,0.09279240603970917,0.1900166042452628,0.06215443467720553,0.11918059162900707,0.06927816838429368,0.29586227707974705,0.28700949426670613,0.1574522856002206,0.06481716204470174,0.05034330841142165,0.07978341954692207,0.038470917542950844,0.07473494696687628,0.24831305333102416,0.28073128065626146,0.1463555169771754,0.07513715319693504,0.05514654134574889,0.2051405666759549,0.008305496664968492,0.1781016968340471,0.1246131196912121,0.18824440217544666,0.17317953827432733,0.019044428333231906,0.15589683559109957,0.09511115831317844,0.13583620190500378,0.0026444878579758857,0.32255228734622987,0.3038773818723847,0.15195551809053154,0.05695291454850678,0.1195396761395302,0.09937702471843339,0.09659409307705795,0.26325166242500986,0.04782166207918289,0.21496631673344668,0.19799358415009014,0.08530753603515555,0.32321104075064405,0.16576125225582106,0.1633663749411556,0.06056960875064351,0.233507810017764,0.1493968214192776,0.12084266652806763,0.11401117746164276,0.005002470350575772,0.035311295338731306,0.0581300421497547,0.02886811867868459,0.042460100148932534,0.0506826622651407,0.0022225797605140616,0.0714418215890527,0.2056147618427404,0.3330338042189132,0.21611394072440906,0.14296795006718707,0.05872297814859969,0.08323552325233936,0.17243748639781353,0.13176596623362902,0.2613043428180983,0.04111973795797552,0.09513855897132469,0.10155244895837652,0.045348075734299075,0.1871222203030023,0.0971682075003097],\"b\":[0.21261755057456003,0.26301825562817777,0.11301162924813846,0.2914537376667179,0.2979095808488334,0.06613332214990382,0.016881499681717965,0.01484049862249992,0.33244902451035924,0.30717092283681907,0.29065318131995954,0.05162609938794397,0.03606418836265879,0.2416442695878072,0.14339270383515915,0.11516495760646343,0.13814527619822584,0.0677041842623719,0.06383515463449259,0.0796210604002298,0.18455265041660088,0.117183982715848,0.2962217564925404,0.2982904359412877,0.007717526600963216,0.01411755251759006,0.028155267814728806,0.2697640556473584,0.19139779501586907,0.16112016140065977,0.13933375926385647,0.21927918455368714,0.2676844482803056,0.3047154065760601,0.22051861669798947,0.31235415115252113,0.3149204646363546,0.04280844436946466,0.13733953602950819,0.2794008065645452,0.10777159355430681,0.24796710509222122,0.025580135290041734,0.2611653923159501,0.035197501230369875,0.20042160805422007,0.021949956356591804,0.3324099775993387,0.01606595215179581,0.19436321749978533,0.008134092499574863,0.29591112995780894,0.12373157371331682,0.307065952634516,0.3076709115313435,0.1346273096409147,0.2527813062129222,0.15523844532945183,0.3223258544674826,0.01744378436269541,0.05280896701098644,0.2815733852654592,0.23788547941998137,0.1740337969995912,0.25209725168446434,0.06610492727267514,0.33191938790858794,0.18045989433701137,0.060464967269141634,0.32489750733048206,0.03419095811001679,0.021280940750929973,0.25135113666006575,0.25048001574007706,0.32861010025151977,0.3129434015809793,0.05529568444601152,0.13687051681706697,0.12749557514473064,0.30796779453164264,0.11265429408947573,0.2934716475988734,0.1759780910537995,0.22154342522752254,0.20094183361565587,0.19370896006230154,0.047201737079637186,0.3293403555145102,0.12521061355934712,0.2898612862009446,0.123609877049436,0.20057899900826204,0.28672496663235186,0.2451451384662522,0.17272909443166876,0.19802593413265623,0.029633527949348665,0.145478043795477,0.07438771643542623,0.10451336662886083],\"c\":[0.5646624724772921,0.45582284391115263,0.8241458361755601,0.49857903643929924,0.5067727156191086,0.9016006498876745,0.7282608146486702,0.7171981164565102,0.3886223567889165,0.3956144988078883,0.45124904972509583,0.6285564589934872,0.7550024413674148,0.6191582294376002,0.8162738991668242,0.5988789700617151,0.64819326411718,0.6392653445918716,0.9098024462358905,0.7264537568305921,0.5919710049504577,0.569889252316786,0.4837852308130452,0.6928939641586245,0.7000516245021269,0.6655815431695384,0.9717396028790267,0.41194674239583584,0.7158097989444218,0.6488632343540774,0.798511806058938,0.6615402238173058,0.6630373833354007,0.3994223163441929,0.4924718890353045,0.5301935632472583,0.6202623733189436,0.9068482472191137,0.7828770444235698,0.682128275892504,0.8174934594788169,0.5037198415767546,0.6936885840536968,0.5924790907068744,0.889665345572695,0.744431850600031,0.7729094769674533,0.6592845257356927,0.8058323510141571,0.6810236628090025,0.8036215053249784,0.5309093317678637,0.8572239979534513,0.5370372117743845,0.5972179301554781,0.7295364884540815,0.7445742059291018,0.5222092673243183,0.37379676366013265,0.830600697546773,0.8902381184405067,0.5988869385950106,0.6627374958615853,0.7293721099233509,0.4846510858905258,0.8860734106481419,0.4531142953579654,0.6215465215128985,0.8542274966957029,0.35189145191887383,0.8000477896341621,0.8153526843079144,0.6880792545892906,0.516012174242159,0.5219930783292026,0.5662139318909531,0.8306931380923457,0.8581270128323573,0.837193129516538,0.6339021633186026,0.8584775872318398,0.6640682522521941,0.7733392466810598,0.7762339950119633,0.7276163447952915,0.600676278094958,0.6197644587014497,0.4545457037610808,0.7318214363734658,0.6514157356504557,0.7931545996982245,0.6269835145939244,0.5815090671340191,0.4935505187156495,0.7861511676103557,0.706835506896019,0.8688140230922747,0.8091738804702239,0.7384900632615715,0.7983184258708295],\"hovertemplate\":\"mu_1=%{a}<br>mu_2=%{b}<br>mu_3=%{c}<extra></extra>\",\"legendgroup\":\"\",\"marker\":{\"color\":\"#636efa\",\"symbol\":\"circle\"},\"mode\":\"markers\",\"name\":\"\",\"showlegend\":false,\"subplot\":\"ternary\",\"type\":\"scatterternary\"}],                        {\"template\":{\"data\":{\"histogram2dcontour\":[{\"type\":\"histogram2dcontour\",\"colorbar\":{\"outlinewidth\":0,\"ticks\":\"\"},\"colorscale\":[[0.0,\"#0d0887\"],[0.1111111111111111,\"#46039f\"],[0.2222222222222222,\"#7201a8\"],[0.3333333333333333,\"#9c179e\"],[0.4444444444444444,\"#bd3786\"],[0.5555555555555556,\"#d8576b\"],[0.6666666666666666,\"#ed7953\"],[0.7777777777777778,\"#fb9f3a\"],[0.8888888888888888,\"#fdca26\"],[1.0,\"#f0f921\"]]}],\"choropleth\":[{\"type\":\"choropleth\",\"colorbar\":{\"outlinewidth\":0,\"ticks\":\"\"}}],\"histogram2d\":[{\"type\":\"histogram2d\",\"colorbar\":{\"outlinewidth\":0,\"ticks\":\"\"},\"colorscale\":[[0.0,\"#0d0887\"],[0.1111111111111111,\"#46039f\"],[0.2222222222222222,\"#7201a8\"],[0.3333333333333333,\"#9c179e\"],[0.4444444444444444,\"#bd3786\"],[0.5555555555555556,\"#d8576b\"],[0.6666666666666666,\"#ed7953\"],[0.7777777777777778,\"#fb9f3a\"],[0.8888888888888888,\"#fdca26\"],[1.0,\"#f0f921\"]]}],\"heatmap\":[{\"type\":\"heatmap\",\"colorbar\":{\"outlinewidth\":0,\"ticks\":\"\"},\"colorscale\":[[0.0,\"#0d0887\"],[0.1111111111111111,\"#46039f\"],[0.2222222222222222,\"#7201a8\"],[0.3333333333333333,\"#9c179e\"],[0.4444444444444444,\"#bd3786\"],[0.5555555555555556,\"#d8576b\"],[0.6666666666666666,\"#ed7953\"],[0.7777777777777778,\"#fb9f3a\"],[0.8888888888888888,\"#fdca26\"],[1.0,\"#f0f921\"]]}],\"heatmapgl\":[{\"type\":\"heatmapgl\",\"colorbar\":{\"outlinewidth\":0,\"ticks\":\"\"},\"colorscale\":[[0.0,\"#0d0887\"],[0.1111111111111111,\"#46039f\"],[0.2222222222222222,\"#7201a8\"],[0.3333333333333333,\"#9c179e\"],[0.4444444444444444,\"#bd3786\"],[0.5555555555555556,\"#d8576b\"],[0.6666666666666666,\"#ed7953\"],[0.7777777777777778,\"#fb9f3a\"],[0.8888888888888888,\"#fdca26\"],[1.0,\"#f0f921\"]]}],\"contourcarpet\":[{\"type\":\"contourcarpet\",\"colorbar\":{\"outlinewidth\":0,\"ticks\":\"\"}}],\"contour\":[{\"type\":\"contour\",\"colorbar\":{\"outlinewidth\":0,\"ticks\":\"\"},\"colorscale\":[[0.0,\"#0d0887\"],[0.1111111111111111,\"#46039f\"],[0.2222222222222222,\"#7201a8\"],[0.3333333333333333,\"#9c179e\"],[0.4444444444444444,\"#bd3786\"],[0.5555555555555556,\"#d8576b\"],[0.6666666666666666,\"#ed7953\"],[0.7777777777777778,\"#fb9f3a\"],[0.8888888888888888,\"#fdca26\"],[1.0,\"#f0f921\"]]}],\"surface\":[{\"type\":\"surface\",\"colorbar\":{\"outlinewidth\":0,\"ticks\":\"\"},\"colorscale\":[[0.0,\"#0d0887\"],[0.1111111111111111,\"#46039f\"],[0.2222222222222222,\"#7201a8\"],[0.3333333333333333,\"#9c179e\"],[0.4444444444444444,\"#bd3786\"],[0.5555555555555556,\"#d8576b\"],[0.6666666666666666,\"#ed7953\"],[0.7777777777777778,\"#fb9f3a\"],[0.8888888888888888,\"#fdca26\"],[1.0,\"#f0f921\"]]}],\"mesh3d\":[{\"type\":\"mesh3d\",\"colorbar\":{\"outlinewidth\":0,\"ticks\":\"\"}}],\"scatter\":[{\"fillpattern\":{\"fillmode\":\"overlay\",\"size\":10,\"solidity\":0.2},\"type\":\"scatter\"}],\"parcoords\":[{\"type\":\"parcoords\",\"line\":{\"colorbar\":{\"outlinewidth\":0,\"ticks\":\"\"}}}],\"scatterpolargl\":[{\"type\":\"scatterpolargl\",\"marker\":{\"colorbar\":{\"outlinewidth\":0,\"ticks\":\"\"}}}],\"bar\":[{\"error_x\":{\"color\":\"#2a3f5f\"},\"error_y\":{\"color\":\"#2a3f5f\"},\"marker\":{\"line\":{\"color\":\"#E5ECF6\",\"width\":0.5},\"pattern\":{\"fillmode\":\"overlay\",\"size\":10,\"solidity\":0.2}},\"type\":\"bar\"}],\"scattergeo\":[{\"type\":\"scattergeo\",\"marker\":{\"colorbar\":{\"outlinewidth\":0,\"ticks\":\"\"}}}],\"scatterpolar\":[{\"type\":\"scatterpolar\",\"marker\":{\"colorbar\":{\"outlinewidth\":0,\"ticks\":\"\"}}}],\"histogram\":[{\"marker\":{\"pattern\":{\"fillmode\":\"overlay\",\"size\":10,\"solidity\":0.2}},\"type\":\"histogram\"}],\"scattergl\":[{\"type\":\"scattergl\",\"marker\":{\"colorbar\":{\"outlinewidth\":0,\"ticks\":\"\"}}}],\"scatter3d\":[{\"type\":\"scatter3d\",\"line\":{\"colorbar\":{\"outlinewidth\":0,\"ticks\":\"\"}},\"marker\":{\"colorbar\":{\"outlinewidth\":0,\"ticks\":\"\"}}}],\"scattermapbox\":[{\"type\":\"scattermapbox\",\"marker\":{\"colorbar\":{\"outlinewidth\":0,\"ticks\":\"\"}}}],\"scatterternary\":[{\"type\":\"scatterternary\",\"marker\":{\"colorbar\":{\"outlinewidth\":0,\"ticks\":\"\"}}}],\"scattercarpet\":[{\"type\":\"scattercarpet\",\"marker\":{\"colorbar\":{\"outlinewidth\":0,\"ticks\":\"\"}}}],\"carpet\":[{\"aaxis\":{\"endlinecolor\":\"#2a3f5f\",\"gridcolor\":\"white\",\"linecolor\":\"white\",\"minorgridcolor\":\"white\",\"startlinecolor\":\"#2a3f5f\"},\"baxis\":{\"endlinecolor\":\"#2a3f5f\",\"gridcolor\":\"white\",\"linecolor\":\"white\",\"minorgridcolor\":\"white\",\"startlinecolor\":\"#2a3f5f\"},\"type\":\"carpet\"}],\"table\":[{\"cells\":{\"fill\":{\"color\":\"#EBF0F8\"},\"line\":{\"color\":\"white\"}},\"header\":{\"fill\":{\"color\":\"#C8D4E3\"},\"line\":{\"color\":\"white\"}},\"type\":\"table\"}],\"barpolar\":[{\"marker\":{\"line\":{\"color\":\"#E5ECF6\",\"width\":0.5},\"pattern\":{\"fillmode\":\"overlay\",\"size\":10,\"solidity\":0.2}},\"type\":\"barpolar\"}],\"pie\":[{\"automargin\":true,\"type\":\"pie\"}]},\"layout\":{\"autotypenumbers\":\"strict\",\"colorway\":[\"#636efa\",\"#EF553B\",\"#00cc96\",\"#ab63fa\",\"#FFA15A\",\"#19d3f3\",\"#FF6692\",\"#B6E880\",\"#FF97FF\",\"#FECB52\"],\"font\":{\"color\":\"#2a3f5f\"},\"hovermode\":\"closest\",\"hoverlabel\":{\"align\":\"left\"},\"paper_bgcolor\":\"white\",\"plot_bgcolor\":\"#E5ECF6\",\"polar\":{\"bgcolor\":\"#E5ECF6\",\"angularaxis\":{\"gridcolor\":\"white\",\"linecolor\":\"white\",\"ticks\":\"\"},\"radialaxis\":{\"gridcolor\":\"white\",\"linecolor\":\"white\",\"ticks\":\"\"}},\"ternary\":{\"bgcolor\":\"#E5ECF6\",\"aaxis\":{\"gridcolor\":\"white\",\"linecolor\":\"white\",\"ticks\":\"\"},\"baxis\":{\"gridcolor\":\"white\",\"linecolor\":\"white\",\"ticks\":\"\"},\"caxis\":{\"gridcolor\":\"white\",\"linecolor\":\"white\",\"ticks\":\"\"}},\"coloraxis\":{\"colorbar\":{\"outlinewidth\":0,\"ticks\":\"\"}},\"colorscale\":{\"sequential\":[[0.0,\"#0d0887\"],[0.1111111111111111,\"#46039f\"],[0.2222222222222222,\"#7201a8\"],[0.3333333333333333,\"#9c179e\"],[0.4444444444444444,\"#bd3786\"],[0.5555555555555556,\"#d8576b\"],[0.6666666666666666,\"#ed7953\"],[0.7777777777777778,\"#fb9f3a\"],[0.8888888888888888,\"#fdca26\"],[1.0,\"#f0f921\"]],\"sequentialminus\":[[0.0,\"#0d0887\"],[0.1111111111111111,\"#46039f\"],[0.2222222222222222,\"#7201a8\"],[0.3333333333333333,\"#9c179e\"],[0.4444444444444444,\"#bd3786\"],[0.5555555555555556,\"#d8576b\"],[0.6666666666666666,\"#ed7953\"],[0.7777777777777778,\"#fb9f3a\"],[0.8888888888888888,\"#fdca26\"],[1.0,\"#f0f921\"]],\"diverging\":[[0,\"#8e0152\"],[0.1,\"#c51b7d\"],[0.2,\"#de77ae\"],[0.3,\"#f1b6da\"],[0.4,\"#fde0ef\"],[0.5,\"#f7f7f7\"],[0.6,\"#e6f5d0\"],[0.7,\"#b8e186\"],[0.8,\"#7fbc41\"],[0.9,\"#4d9221\"],[1,\"#276419\"]]},\"xaxis\":{\"gridcolor\":\"white\",\"linecolor\":\"white\",\"ticks\":\"\",\"title\":{\"standoff\":15},\"zerolinecolor\":\"white\",\"automargin\":true,\"zerolinewidth\":2},\"yaxis\":{\"gridcolor\":\"white\",\"linecolor\":\"white\",\"ticks\":\"\",\"title\":{\"standoff\":15},\"zerolinecolor\":\"white\",\"automargin\":true,\"zerolinewidth\":2},\"scene\":{\"xaxis\":{\"backgroundcolor\":\"#E5ECF6\",\"gridcolor\":\"white\",\"linecolor\":\"white\",\"showbackground\":true,\"ticks\":\"\",\"zerolinecolor\":\"white\",\"gridwidth\":2},\"yaxis\":{\"backgroundcolor\":\"#E5ECF6\",\"gridcolor\":\"white\",\"linecolor\":\"white\",\"showbackground\":true,\"ticks\":\"\",\"zerolinecolor\":\"white\",\"gridwidth\":2},\"zaxis\":{\"backgroundcolor\":\"#E5ECF6\",\"gridcolor\":\"white\",\"linecolor\":\"white\",\"showbackground\":true,\"ticks\":\"\",\"zerolinecolor\":\"white\",\"gridwidth\":2}},\"shapedefaults\":{\"line\":{\"color\":\"#2a3f5f\"}},\"annotationdefaults\":{\"arrowcolor\":\"#2a3f5f\",\"arrowhead\":0,\"arrowwidth\":1},\"geo\":{\"bgcolor\":\"white\",\"landcolor\":\"#E5ECF6\",\"subunitcolor\":\"white\",\"showland\":true,\"showlakes\":true,\"lakecolor\":\"white\"},\"title\":{\"x\":0.05},\"mapbox\":{\"style\":\"light\"}}},\"ternary\":{\"domain\":{\"x\":[0.0,1.0],\"y\":[0.0,1.0]},\"aaxis\":{\"title\":{\"text\":\"mu_1\"}},\"baxis\":{\"title\":{\"text\":\"mu_2\"}},\"caxis\":{\"title\":{\"text\":\"mu_3\"}}},\"legend\":{\"tracegroupgap\":0},\"margin\":{\"t\":60}},                        {\"responsive\": true}                    ).then(function(){\n",
       "                            \n",
       "var gd = document.getElementById('7aac4ee6-b3fd-4429-a33c-9e9c53308e33');\n",
       "var x = new MutationObserver(function (mutations, observer) {{\n",
       "        var display = window.getComputedStyle(gd).display;\n",
       "        if (!display || display === 'none') {{\n",
       "            console.log([gd, 'removed!']);\n",
       "            Plotly.purge(gd);\n",
       "            observer.disconnect();\n",
       "        }}\n",
       "}});\n",
       "\n",
       "// Listen for the removal of the full notebook cells\n",
       "var notebookContainer = gd.closest('#notebook-container');\n",
       "if (notebookContainer) {{\n",
       "    x.observe(notebookContainer, {childList: true});\n",
       "}}\n",
       "\n",
       "// Listen for the clearing of the current output cell\n",
       "var outputEl = gd.closest('.output');\n",
       "if (outputEl) {{\n",
       "    x.observe(outputEl, {childList: true});\n",
       "}}\n",
       "\n",
       "                        })                };                });            </script>        </div>"
      ]
     },
     "metadata": {},
     "output_type": "display_data"
    }
   ],
   "source": [
    "fig = px.scatter_ternary(simplex, a=\"mu_1\", b=\"mu_2\", c=\"mu_3\")\n",
    "fig.show()"
   ]
  },
  {
   "cell_type": "code",
   "execution_count": 63,
   "id": "b6788f69-c551-4003-9cfd-cac448ebb07a",
   "metadata": {},
   "outputs": [
    {
     "data": {
      "text/plain": [
       "0    1.0\n",
       "1    1.0\n",
       "2    1.0\n",
       "3    1.0\n",
       "4    1.0\n",
       "5    1.0\n",
       "6    1.0\n",
       "7    1.0\n",
       "8    1.0\n",
       "9    1.0\n",
       "dtype: float64"
      ]
     },
     "execution_count": 63,
     "metadata": {},
     "output_type": "execute_result"
    }
   ],
   "source": [
    "simplex.sum(axis=1)"
   ]
  },
  {
   "cell_type": "code",
   "execution_count": 67,
   "id": "7cbaa145-52bf-49ad-86e7-d27f2bfef85f",
   "metadata": {},
   "outputs": [
    {
     "data": {
      "text/plain": [
       "<BarContainer object of 20 artists>"
      ]
     },
     "execution_count": 67,
     "metadata": {},
     "output_type": "execute_result"
    },
    {
     "data": {
      "image/png": "[encoded data removed]",
      "text/plain": [
       "<Figure size 432x288 with 1 Axes>"
      ]
     },
     "metadata": {
      "needs_background": "light"
     },
     "output_type": "display_data"
    }
   ],
   "source": [
    "s = np.random.dirichlet((10, 5, 3), 20).transpose()\n",
    "plt.barh(range(20), s[0])\n",
    "plt.barh(range(20), s[1], left=s[0], color='g')\n",
    "plt.barh(range(20), s[2], left=s[0]+s[1], color='r')"
   ]
  },
  {
   "cell_type": "code",
   "execution_count": 68,
   "id": "c9679436-053c-4050-8696-da1b9062594b",
   "metadata": {},
   "outputs": [
    {
     "data": {
      "text/plain": [
       "array([[0.48592396, 0.45970012, 0.05437592],\n",
       "       [0.65353972, 0.2561255 , 0.09033477],\n",
       "       [0.61489377, 0.34735396, 0.03775228],\n",
       "       [0.58650789, 0.3393107 , 0.07418141],\n",
       "       [0.58368857, 0.34192828, 0.07438315],\n",
       "       [0.38239745, 0.24871808, 0.36888447],\n",
       "       [0.87690714, 0.045135  , 0.07795787],\n",
       "       [0.68716882, 0.17510327, 0.13772791],\n",
       "       [0.44149063, 0.3533483 , 0.20516107],\n",
       "       [0.78529636, 0.20088779, 0.01381585],\n",
       "       [0.28833491, 0.40061175, 0.31105334],\n",
       "       [0.49935151, 0.35468668, 0.14596181],\n",
       "       [0.49502546, 0.34066305, 0.16431149],\n",
       "       [0.49072673, 0.30529658, 0.20397669],\n",
       "       [0.55903552, 0.34490253, 0.09606195],\n",
       "       [0.39167989, 0.22924203, 0.37907809],\n",
       "       [0.49839277, 0.13785564, 0.3637516 ],\n",
       "       [0.72260672, 0.12834519, 0.14904809],\n",
       "       [0.39192848, 0.29171693, 0.31635458],\n",
       "       [0.54991399, 0.21103275, 0.23905326]])"
      ]
     },
     "execution_count": 68,
     "metadata": {},
     "output_type": "execute_result"
    }
   ],
   "source": [
    "np.random.dirichlet((10, 5, 3), 20)"
   ]
  },
  {
   "cell_type": "code",
   "execution_count": 72,
   "id": "54770337-bf55-4856-baa2-632c7ea52573",
   "metadata": {},
   "outputs": [
    {
     "data": {
      "text/plain": [
       "array([0.49605439, 0.38316409, 0.12078152])"
      ]
     },
     "execution_count": 72,
     "metadata": {},
     "output_type": "execute_result"
    }
   ],
   "source": [
    "dirich=np.random.dirichlet((10, 5, 3))\n",
    "\n",
    "dirich"
   ]
  },
  {
   "cell_type": "code",
   "execution_count": 73,
   "id": "db815a4c-d717-4272-a469-33e210de9b47",
   "metadata": {},
   "outputs": [
    {
     "data": {
      "text/plain": [
       "1.0"
      ]
     },
     "execution_count": 73,
     "metadata": {},
     "output_type": "execute_result"
    }
   ],
   "source": [
    "dirich.sum()"
   ]
  },
  {
   "cell_type": "code",
   "execution_count": 207,
   "id": "d1c58a1a-ce77-4b3e-8e22-31af358d050c",
   "metadata": {},
   "outputs": [
    {
     "data": {
      "text/plain": [
       "<BarContainer object of 20 artists>"
      ]
     },
     "execution_count": 207,
     "metadata": {},
     "output_type": "execute_result"
    },
    {
     "data": {
      "image/png": "[encoded data removed]",
      "text/plain": [
       "<Figure size 432x288 with 1 Axes>"
      ]
     },
     "metadata": {
      "needs_background": "light"
     },
     "output_type": "display_data"
    }
   ],
   "source": [
    "s = np.random.dirichlet((5, 5, 2), 20).transpose()\n",
    "plt.barh(range(20), s[0])\n",
    "plt.barh(range(20), s[1], left=s[0], color='g')\n",
    "plt.barh(range(20), s[2], left=s[0]+s[1], color='r')"
   ]
  },
  {
   "cell_type": "code",
   "execution_count": 75,
   "id": "3d0739ee-f99d-4453-a03e-c127c6d0135c",
   "metadata": {},
   "outputs": [
    {
     "data": {
      "text/plain": [
       "<BarContainer object of 20 artists>"
      ]
     },
     "execution_count": 75,
     "metadata": {},
     "output_type": "execute_result"
    },
    {
     "data": {
      "image/png": "[encoded data removed]",
      "text/plain": [
       "<Figure size 432x288 with 1 Axes>"
      ]
     },
     "metadata": {
      "needs_background": "light"
     },
     "output_type": "display_data"
    }
   ],
   "source": [
    "s = np.random.dirichlet((5, 2, 2), 20).transpose()\n",
    "plt.barh(range(20), s[0])\n",
    "plt.barh(range(20), s[1], left=s[0], color='g')\n",
    "plt.barh(range(20), s[2], left=s[0]+s[1], color='r')"
   ]
  },
  {
   "cell_type": "code",
   "execution_count": null,
   "id": "48e7b401-b275-426b-8056-3af9eadce39a",
   "metadata": {},
   "outputs": [],
   "source": []
  },
  {
   "cell_type": "markdown",
   "id": "8d4dd281-da91-43ac-94aa-6d935fc931dc",
   "metadata": {},
   "source": [
    "### Gaussian distribution\n",
    "\n",
    "1. the distribution that maximizes the entropy is the Gaussian (Multivariate too)\n",
    "\n",
    "2. subject to certain mild conditions, the sum of a set of random variables, which is of course itself a random variable, has a distribution that becomes increasingly Gaussian as the number of terms in the sum increases (Central limit theorem)\n",
    "\n",
    "e.g. binomial distribution will tend to a Gaussian as $N \\rightarrow \\infty$"
   ]
  },
  {
   "cell_type": "code",
   "execution_count": 137,
   "id": "3be1edad-8641-4720-a339-fbc5861c146c",
   "metadata": {},
   "outputs": [
    {
     "data": {
      "text/plain": [
       "(array([1.000e+00, 2.000e+00, 6.000e+00, 3.100e+01, 7.200e+01, 1.780e+02,\n",
       "        3.800e+02, 6.500e+02, 9.640e+02, 1.337e+03, 1.550e+03, 1.386e+03,\n",
       "        1.285e+03, 9.660e+02, 6.310e+02, 3.340e+02, 1.460e+02, 5.800e+01,\n",
       "        1.800e+01, 5.000e+00]),\n",
       " array([-0.62135118, -0.61022787, -0.59910457, -0.58798127, -0.57685797,\n",
       "        -0.56573466, -0.55461136, -0.54348806, -0.53236476, -0.52124145,\n",
       "        -0.51011815, -0.49899485, -0.48787155, -0.47674825, -0.46562494,\n",
       "        -0.45450164, -0.44337834, -0.43225504, -0.42113173, -0.41000843,\n",
       "        -0.39888513]),\n",
       " <BarContainer object of 20 artists>)"
      ]
     },
     "execution_count": 137,
     "metadata": {},
     "output_type": "execute_result"
    },
    {
     "data": {
      "image/png": "[encoded data removed]",
      "text/plain": [
       "<Figure size 432x288 with 1 Axes>"
      ]
     },
     "metadata": {
      "needs_background": "light"
     },
     "output_type": "display_data"
    }
   ],
   "source": [
    "x=np.random.uniform(-1,0,(10000,100))\n",
    "plt.hist(x.mean(axis=1),bins=20)"
   ]
  },
  {
   "cell_type": "markdown",
   "id": "9f6bd02a-0b02-4f9f-82e0-d5c0832b3a07",
   "metadata": {},
   "source": []
  },
  {
   "cell_type": "code",
   "execution_count": null,
   "id": "51b99c24-c8d8-412f-a5d6-6af4065e32d9",
   "metadata": {},
   "outputs": [],
   "source": []
  },
  {
   "cell_type": "markdown",
   "id": "380a994d-8f26-41f7-9b2e-90276bbb170b",
   "metadata": {},
   "source": []
  },
  {
   "cell_type": "code",
   "execution_count": null,
   "id": "2f7e4a79-9778-464c-8fb9-403b04ca821e",
   "metadata": {},
   "outputs": [],
   "source": []
  },
  {
   "cell_type": "markdown",
   "id": "d61449c8-f066-4f66-9745-b2380f47fb28",
   "metadata": {},
   "source": []
  },
  {
   "cell_type": "code",
   "execution_count": null,
   "id": "2736e0cd-aca9-4702-894e-8a24ccaa84e6",
   "metadata": {},
   "outputs": [],
   "source": []
  },
  {
   "cell_type": "markdown",
   "id": "7fdad117-4be1-4dc9-9bac-e3ae929ead70",
   "metadata": {},
   "source": []
  },
  {
   "cell_type": "markdown",
   "id": "2d4af989-7219-4436-95a2-3d73ff22e5ee",
   "metadata": {},
   "source": []
  },
  {
   "cell_type": "code",
   "execution_count": null,
   "id": "b0b1d1f7-fd7b-47bd-b414-2a66accaa8d2",
   "metadata": {},
   "outputs": [],
   "source": []
  },
  {
   "cell_type": "code",
   "execution_count": null,
   "id": "0f24a2ab-4ea5-4eea-a33d-586c4eefa37a",
   "metadata": {},
   "outputs": [],
   "source": []
  },
  {
   "cell_type": "code",
   "execution_count": null,
   "id": "f009b469-d454-48da-8e1c-a8c1a40af551",
   "metadata": {},
   "outputs": [],
   "source": []
  },
  {
   "cell_type": "code",
   "execution_count": null,
   "id": "cc2b58af-bea4-418e-9b52-bee5a51a3758",
   "metadata": {},
   "outputs": [],
   "source": []
  },
  {
   "cell_type": "code",
   "execution_count": null,
   "id": "3f0d527b-d672-4dc6-9638-725c1d6a151e",
   "metadata": {},
   "outputs": [],
   "source": []
  },
  {
   "cell_type": "code",
   "execution_count": null,
   "id": "a038558d-f6e6-4551-b32e-64de61c6d0c1",
   "metadata": {},
   "outputs": [],
   "source": []
  },
  {
   "cell_type": "code",
   "execution_count": null,
   "id": "3640b68b-400c-4acb-9f23-9700edc9b813",
   "metadata": {},
   "outputs": [],
   "source": []
  },
  {
   "cell_type": "markdown",
   "id": "96097616-0896-4ffc-aa88-f07883675ec0",
   "metadata": {},
   "source": [
    "CS229 Lecture Notes\n",
    "\n",
    "### exponential family\n",
    "\n",
    "**linear regression**: $y|x;\\theta \\sim \\mathcal{N}(\\mu,\\sigma^2)$\n",
    "\n",
    "**logistic regression**: $y|x;\\theta \\sim \\text{Bernoulli}(\\mu)$\n",
    "\n",
    "**exponential family**:\n",
    "\n",
    "$p(y;\\eta)=b(y)\\exp(\\eta^T T(y)-a(\\eta))$\n",
    "\n",
    "$\\eta$ - natural parameter\n",
    "\n",
    "$T(y)$ - sufficient statistic\n",
    "\n",
    "$a(\\eta)$ - log partition, $\\exp[-a(\\eta)]$ for normalization\n",
    "\n",
    "**example of Bernoulli**:\n",
    "\n",
    "$\n",
    "\\begin{align}\n",
    "Ber(y;\\mu)&=\\mu^y(1-\\mu)^{1-y} \\\\\n",
    "&= \\exp \\left[y \\log \\frac{\\mu}{1-\\mu}+\\log(1-\\mu)  \\right] \\\\\n",
    "\\end{align}\n",
    "$\n",
    "\n",
    "$\\eta=\\log \\frac{\\mu}{1-\\mu} => \\mu=\\frac{1}{1+\\exp^{-\\mu}}$ \n",
    "\n",
    "$T(y)=y$\n",
    "\n",
    "$b(y)=1$\n",
    "\n",
    "$a(\\eta)=-\\log(1-\\mu)=\\log(1+\\exp \\eta)$\n",
    "\n",
    "**example of Gaussian** with fixed $\\sigma$:\n",
    "\n",
    "$\n",
    "\\begin{align}\n",
    "\\mathcal{N}(y;\\mu)&=\\frac{1}{\\sqrt{2\\pi}} \\exp \\left[-\\frac{1}{2}(y-\\mu)^2 \\right] \\\\\n",
    "&= \\frac{1}{\\sqrt{2\\pi}} \\exp \\left(-\\frac{1}{2}y^2 \\right) \\exp \\left(\\mu y - \\frac{1}{2} \\mu^2 \\right) \\\\\n",
    "\\end{align}\n",
    "$\n",
    "\n",
    "$\\eta=\\mu$\n",
    "\n",
    "$T(y)=y$\n",
    "\n",
    "$b(y)=(1/\\sqrt{2\\pi}) \\exp(-y^2/2)$\n",
    "\n",
    "$a(\\eta)=\\mu^2/2=\\eta^2/2$\n",
    "\n",
    "**Generalized Linear Models (GLMs)**"
   ]
  },
  {
   "cell_type": "code",
   "execution_count": null,
   "id": "c906c9b3-773e-4268-9105-973ec91ba642",
   "metadata": {},
   "outputs": [],
   "source": []
  },
  {
   "cell_type": "code",
   "execution_count": null,
   "id": "0fe0092f-f3a4-4d6f-96e4-1a7aace83e07",
   "metadata": {},
   "outputs": [],
   "source": []
  },
  {
   "cell_type": "code",
   "execution_count": null,
   "id": "b18cc8ea-d7ee-4fb7-ab25-067cee973b4f",
   "metadata": {},
   "outputs": [],
   "source": []
  },
  {
   "cell_type": "code",
   "execution_count": null,
   "id": "fcdb6e9e-bbcc-47d3-97d8-a9e0f7a25e4b",
   "metadata": {},
   "outputs": [],
   "source": []
  },
  {
   "cell_type": "code",
   "execution_count": null,
   "id": "aa976d02-29b7-4bba-aa6e-8bbf83bc4cf4",
   "metadata": {},
   "outputs": [],
   "source": []
  },
  {
   "cell_type": "markdown",
   "id": "f833fd32-57df-4b5d-aa12-d75a3b747dfd",
   "metadata": {},
   "source": []
  },
  {
   "cell_type": "code",
   "execution_count": null,
   "id": "fd25f4df-fe08-4b82-a30a-eed97567efff",
   "metadata": {},
   "outputs": [],
   "source": []
  },
  {
   "cell_type": "code",
   "execution_count": null,
   "id": "b44ef02b-0cc4-400e-ad0b-9f9a745867f6",
   "metadata": {},
   "outputs": [],
   "source": []
  },
  {
   "cell_type": "code",
   "execution_count": null,
   "id": "b29c098a-442e-4aa1-ba52-1ac8d495dd59",
   "metadata": {},
   "outputs": [],
   "source": []
  },
  {
   "cell_type": "code",
   "execution_count": null,
   "id": "40e72b39-9f8e-4cab-86e7-15c71c7b547e",
   "metadata": {},
   "outputs": [],
   "source": []
  },
  {
   "cell_type": "code",
   "execution_count": null,
   "id": "4d7eb818-e516-4307-8f5d-0a66e234332f",
   "metadata": {},
   "outputs": [],
   "source": []
  },
  {
   "cell_type": "code",
   "execution_count": null,
   "id": "2241807d-632c-43e5-a5a9-3c4187b3d148",
   "metadata": {},
   "outputs": [],
   "source": []
  },
  {
   "cell_type": "code",
   "execution_count": null,
   "id": "18cf7b83-a23f-4e66-a9e2-e8eb67e9df53",
   "metadata": {},
   "outputs": [],
   "source": []
  },
  {
   "cell_type": "code",
   "execution_count": null,
   "id": "b8f6726e-0a1a-43fa-977e-79a8788f6272",
   "metadata": {},
   "outputs": [],
   "source": []
  },
  {
   "cell_type": "code",
   "execution_count": null,
   "id": "4ff17787-7e45-4a5a-9a37-8939d78d19eb",
   "metadata": {},
   "outputs": [],
   "source": []
  },
  {
   "cell_type": "code",
   "execution_count": null,
   "id": "36705bbb-38bf-401a-8355-551b20a6df70",
   "metadata": {},
   "outputs": [],
   "source": []
  },
  {
   "cell_type": "code",
   "execution_count": null,
   "id": "e58c66ff-1fb4-4768-9deb-51b405240565",
   "metadata": {},
   "outputs": [],
   "source": []
  },
  {
   "cell_type": "code",
   "execution_count": null,
   "id": "8f89aea7-9117-4098-acca-37a06a26b387",
   "metadata": {},
   "outputs": [],
   "source": []
  },
  {
   "cell_type": "code",
   "execution_count": null,
   "id": "4552007a-a234-4429-aa8f-9b0c6938d7fe",
   "metadata": {},
   "outputs": [],
   "source": []
  },
  {
   "cell_type": "markdown",
   "id": "f845aac7-517e-4d60-adec-065c69cda018",
   "metadata": {},
   "source": []
  },
  {
   "cell_type": "code",
   "execution_count": null,
   "id": "50d72252-d196-4062-a765-d3ce2e99619e",
   "metadata": {},
   "outputs": [],
   "source": []
  },
  {
   "cell_type": "markdown",
   "id": "7aeb257d-8ad7-419c-81ee-120c526a8451",
   "metadata": {},
   "source": []
  },
  {
   "cell_type": "markdown",
   "id": "df2fed7f-d0d1-40d5-bed6-73f1851a2216",
   "metadata": {},
   "source": []
  },
  {
   "cell_type": "code",
   "execution_count": null,
   "id": "ad87f01d-ab15-4e86-843c-05bd1db88081",
   "metadata": {},
   "outputs": [],
   "source": []
  },
  {
   "cell_type": "code",
   "execution_count": null,
   "id": "adddffe4-76dd-4446-a02e-2ecee5860016",
   "metadata": {},
   "outputs": [],
   "source": []
  },
  {
   "cell_type": "code",
   "execution_count": null,
   "id": "b9269212-8ef6-4ce6-a4b7-51088baf8884",
   "metadata": {},
   "outputs": [],
   "source": []
  },
  {
   "cell_type": "markdown",
   "id": "301262ab-dc07-4dad-bcdc-03cb8c72e6eb",
   "metadata": {},
   "source": [
    "### three ways to do classification\n",
    "\n",
    "1. use discriminant function that directly assigns each data $\\textbf{x}$ to a specific class\n",
    "\n",
    "2. model $p(C_k|\\textbf{x})$\n",
    "\n",
    "2.1 **directly** by representing them as parametric models and then optimizing the parameters using some data\n",
    "\n",
    "2.2 model $p(\\textbf{x}|C_k)$, and together with a prior $p(C_k)$ to compute the posterior $p(C_k|\\textbf{x})$ by Baye's Theorem\n",
    "\n",
    "### problem setup\n",
    "\n",
    "in linear case, we have \n",
    "\n",
    "$h(\\textbf{w})=\\textbf{w}^T\\textbf{x}$\n",
    "\n",
    "in classification case, we use\n",
    "\n",
    "$h(\\textbf{w})=g(\\textbf{w}^T\\textbf{x})$\n",
    "\n",
    "where $g(\\cdot)$ is a nonlinear **activation function**, the above model can also be called **generalized linear models**"
   ]
  },
  {
   "cell_type": "code",
   "execution_count": null,
   "id": "c44e7a23-e335-4745-a196-3d137959e22e",
   "metadata": {},
   "outputs": [],
   "source": []
  },
  {
   "cell_type": "markdown",
   "id": "83b10c6a-ad1b-4d2f-b79a-f86ea35dacad",
   "metadata": {},
   "source": [
    "### gradient derivation of softmax regression (multiclass logistic regression)\n",
    "\n",
    "hypothesis function\n",
    "\n",
    "$h_k(\\boldsymbol{\\theta})=g(\\boldsymbol{\\theta}_k^T X)$\n",
    "\n",
    "activation function\n",
    "\n",
    "$g(z_k)=\\frac{\\exp z_k}{\\sum_{l=1}^K \\exp{z_l}}$\n",
    "\n",
    "objective function\n",
    "\n",
    "$J(\\boldsymbol{\\theta})=-\\frac{1}{N}\\sum_{i=1}^N \\sum_{l=1}^K y_l^{(i)} \\log h_l(\\boldsymbol{\\theta})^{(i)}$\n",
    "\n",
    "omit $(i)$, $-\\frac{1}{N}$, take single $\\theta$\n",
    "\n",
    "$\n",
    "\\begin{align}\n",
    "\\nabla_{\\theta} J(\\theta) &= \\nabla_{\\theta} \\sum_{i=1}^N \\sum_{l=1}^K y_l \\log h_l(\\theta)  \\\\\n",
    "&= \\sum_{i=1}^N \\sum_{l=1}^K y_l \\frac{\\nabla_{\\theta} h_l(\\theta)}{h_l(\\theta)} \\\\\n",
    "&= \\sum_{i=1}^N \\sum_{l=1}^K \\frac{y_l}{h_l(\\theta)} \\nabla_{\\theta} h_l(\\theta) \\\\\n",
    "&= \\sum_{i=1}^N \\sum_{l=1}^K \\frac{y_l}{h_l(\\theta)} \\nabla_{\\theta} \\frac{\\exp(\\theta^TX)}{\\sum^K \\exp(\\theta^TX)} \\\\\n",
    "&= \\sum_{i=1}^N \\sum_{l=1}^K \\frac{y_l}{h_l(\\theta)} \\frac{\\sum^K \\exp(\\theta^TX) \\nabla_{\\theta} \\exp(\\theta^TX)-\\exp(\\theta^TX)\\nabla_{\\theta}\\sum^K \\exp(\\theta^TX)}{\\left[\\sum^K \\exp(\\theta^TX) \\right]^2}\\\\\n",
    "&= \\sum_{i=1}^N \\sum_{l=1}^K y_l \\frac{\\sum^K \\exp(\\theta^TX)}{\\exp(\\theta^TX)} \\frac{\\sum^K \\exp(\\theta^TX) \\nabla_{\\theta} \\exp(\\theta^TX)-\\exp(\\theta^TX)\\nabla_{\\theta}\\sum^K \\exp(\\theta^TX)}{\\left[\\sum^K \\exp(\\theta^TX) \\right]^2}\\\\\n",
    "&= \\sum_{i=1}^N \\sum_{l=1}^K y_l \\left[\\frac{\\nabla_{\\theta} \\exp(\\theta^TX)}{ \\exp(\\theta^TX) } - \\frac{\\nabla_{\\theta}\\sum^K \\exp(\\theta^TX)}{\\sum^K \\exp(\\theta^TX)}\\right] \\\\\n",
    "&=\\sum_{i=1}^N \\sum_{l=1}^K y_l \\left[X-\\frac{\\exp(\\theta_k^TX)}{\\sum^K \\exp(\\theta^TX)}\\cdot X \\right] \\\\\n",
    "&= \\sum_{i=1}^N \\sum_{l=1}^K [y_l-h_l(\\theta)]X \\\\\n",
    "&= \\textbf{X} [Y-\\textbf{h}(\\boldsymbol{\\theta})]^T\n",
    "\\end{align}\n",
    "$\n"
   ]
  },
  {
   "cell_type": "code",
   "execution_count": null,
   "id": "ee38479c-4dca-4532-b74d-492c1b9946b9",
   "metadata": {},
   "outputs": [],
   "source": []
  },
  {
   "cell_type": "code",
   "execution_count": null,
   "id": "5d7f8c6c-7adb-456b-aca2-130abce0029d",
   "metadata": {},
   "outputs": [],
   "source": []
  }
 ],
 "metadata": {
  "kernelspec": {
   "display_name": "Python 3 (ipykernel)",
   "language": "python",
   "name": "python3"
  },
  "language_info": {
   "codemirror_mode": {
    "name": "ipython",
    "version": 3
   },
   "file_extension": ".py",
   "mimetype": "text/x-python",
   "name": "python",
   "nbconvert_exporter": "python",
   "pygments_lexer": "ipython3",
   "version": "3.8.12"
  }
 },
 "nbformat": 4,
 "nbformat_minor": 5
}
