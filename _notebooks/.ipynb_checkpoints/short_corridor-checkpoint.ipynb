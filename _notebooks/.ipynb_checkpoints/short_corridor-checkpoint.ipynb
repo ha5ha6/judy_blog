{
 "cells": [
  {
   "cell_type": "code",
   "execution_count": null,
   "id": "47a4c6d5-acae-4abb-bb39-d415ee70e78b",
   "metadata": {},
   "outputs": [],
   "source": [
    "import numpy as np\n",
    "import matplotlib.pyplot as plt\n",
    "\n",
    "STATES=[0,1,2,3]\n",
    "ACTIONS=[0,1] #left,right\n",
    "\n",
    "def step(s,a):\n",
    "    \n",
    "    if s==0 or s==2:\n",
    "        if a==1:\n",
    "            s_=s+1\n",
    "        else:\n",
    "            s_=max(0,s-1)\n",
    "    else: #s==1\n",
    "        if a==1:\n",
    "            s_=s-1\n",
    "        else:\n",
    "            s_=s+1\n",
    "            \n",
    "    if s_==3:\n",
    "        return s_,0,True\n",
    "    else:\n",
    "        return s_,-1,False\n",
    "            "
   ]
  }
 ],
 "metadata": {
  "kernelspec": {
   "display_name": "Python 3 (ipykernel)",
   "language": "python",
   "name": "python3"
  },
  "language_info": {
   "codemirror_mode": {
    "name": "ipython",
    "version": 3
   },
   "file_extension": ".py",
   "mimetype": "text/x-python",
   "name": "python",
   "nbconvert_exporter": "python",
   "pygments_lexer": "ipython3",
   "version": "3.8.12"
  }
 },
 "nbformat": 4,
 "nbformat_minor": 5
}
