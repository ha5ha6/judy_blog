{
 "cells": [
  {
   "cell_type": "code",
   "execution_count": 48,
   "id": "151947a8-f2c2-4d17-8f9c-57cbc069069c",
   "metadata": {},
   "outputs": [],
   "source": [
    "import numpy as np\n",
    "import matplotlib.pyplot as plt\n",
    "\n",
    "states=[0,1,2,3,4,5,6]\n",
    "actions=[-1,1]\n",
    "lr=0.1\n",
    "V_true=np.arange(1,6)/6.0\n",
    "\n",
    "def step(s,a):\n",
    "      \n",
    "    s_=s+a\n",
    "    \n",
    "    if s_==0:\n",
    "        return s_,0,True\n",
    "    elif s_==6:\n",
    "        return s_,1,True \n",
    "    else:\n",
    "        return s_,0,False\n",
    "\n",
    "\n",
    "def get_v(n_eps):\n",
    "    \n",
    "    V=np.ones(len(states))*0.5\n",
    "    \n",
    "    \n",
    "    for ep in range(n_eps):\n",
    "\n",
    "        s=np.random.choice(states[1:6])\n",
    "\n",
    "        while True:     \n",
    "\n",
    "            s_old=s\n",
    "            #v_all.append(V[s_old])\n",
    "            a=np.random.choice(actions)\n",
    "            s,r,done=step(s_old,a)\n",
    "\n",
    "            if done:\n",
    "                V[s_old]+=lr*(r-V[s_old])\n",
    "            else:\n",
    "                V[s_old]+=lr*(r+V[s]-V[s_old])\n",
    "\n",
    "            #traj.append(s)\n",
    "            #rs.append(r)\n",
    "            if done:\n",
    "                break\n",
    "                \n",
    "    return V\n",
    "\n",
    "v1=get_v(1)\n",
    "#v10=get_v(10)\n",
    "#v100=get_v(100)"
   ]
  },
  {
   "cell_type": "code",
   "execution_count": 49,
   "id": "a5551e29-940a-45f5-9f19-327e71dd3387",
   "metadata": {},
   "outputs": [
    {
     "data": {
      "text/plain": [
       "array([0.5       , 0.157309  , 0.31789283, 0.5202803 , 0.69308613,\n",
       "       0.89471641, 0.5       ])"
      ]
     },
     "execution_count": 49,
     "metadata": {},
     "output_type": "execute_result"
    }
   ],
   "source": [
    "v1"
   ]
  },
  {
   "cell_type": "code",
   "execution_count": 51,
   "id": "009c6b75-d047-43bb-95a3-febafcbab4d3",
   "metadata": {},
   "outputs": [
    {
     "data": {
      "text/plain": [
       "array([0.5       , 0.157309  , 0.31789283, 0.5202803 , 0.69308613,\n",
       "       0.89471641, 0.5       ])"
      ]
     },
     "execution_count": 51,
     "metadata": {},
     "output_type": "execute_result"
    }
   ],
   "source": [
    "v10\n",
    "v100"
   ]
  },
  {
   "cell_type": "code",
   "execution_count": 45,
   "id": "87228898-2451-4ee5-86ad-ec16cae9b70b",
   "metadata": {},
   "outputs": [
    {
     "data": {
      "text/plain": [
       "<matplotlib.legend.Legend at 0x7fda224d1610>"
      ]
     },
     "execution_count": 45,
     "metadata": {},
     "output_type": "execute_result"
    },
    {
     "data": {
      "image/png": "[encoded data removed]",
      "text/plain": [
       "<Figure size 432x288 with 1 Axes>"
      ]
     },
     "metadata": {
      "needs_background": "light"
     },
     "output_type": "display_data"
    }
   ],
   "source": [
    "plt.plot(range(1,6),V_true,'-o',label='true')\n",
    "plt.plot(range(1,6),v1[1:6],'-o',label='1')\n",
    "plt.plot(range(1,6),v10[1:6],'-o',label='10')\n",
    "plt.plot(range(1,6),v100[1:6],'-o',label='100')\n",
    "plt.grid()\n",
    "plt.legend()"
   ]
  },
  {
   "cell_type": "code",
   "execution_count": null,
   "id": "2051a6b9-ddaf-4740-8875-d15914053ccd",
   "metadata": {},
   "outputs": [],
   "source": []
  }
 ],
 "metadata": {
  "kernelspec": {
   "display_name": "Python 3 (ipykernel)",
   "language": "python",
   "name": "python3"
  },
  "language_info": {
   "codemirror_mode": {
    "name": "ipython",
    "version": 3
   },
   "file_extension": ".py",
   "mimetype": "text/x-python",
   "name": "python",
   "nbconvert_exporter": "python",
   "pygments_lexer": "ipython3",
   "version": "3.9.7"
  }
 },
 "nbformat": 4,
 "nbformat_minor": 5
}
