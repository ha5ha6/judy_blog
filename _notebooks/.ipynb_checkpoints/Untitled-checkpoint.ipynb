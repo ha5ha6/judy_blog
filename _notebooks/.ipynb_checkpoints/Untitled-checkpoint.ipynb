{
 "cells": [
  {
   "cell_type": "code",
   "execution_count": null,
   "id": "d1096996-57e5-431d-97c8-aee80320e2a3",
   "metadata": {},
   "outputs": [
    {
     "name": "stderr",
     "output_type": "stream",
     "text": [
      "100%|█████████████████████████████████████████| 100/100 [00:35<00:00,  2.85it/s]\n",
      " 88%|████████████████████████████████████▉     | 88/100 [00:24<00:03,  3.59it/s]"
     ]
    }
   ],
   "source": [
    "import numpy as np\n",
    "import matplotlib\n",
    "#matplotlib.use('Agg')\n",
    "import matplotlib.pyplot as plt\n",
    "from tqdm import tqdm\n",
    "\n",
    "# 0 is the left terminal state\n",
    "# 6 is the right terminal state\n",
    "# 1 ... 5 represents A ... E\n",
    "VALUES = np.zeros(7)\n",
    "VALUES[1:6] = 0.5\n",
    "# For convenience, we assume all rewards are 0\n",
    "# and the left terminal state has value 0, the right terminal state has value 1\n",
    "# This trick has been used in Gambler's Problem\n",
    "VALUES[6] = 1\n",
    "\n",
    "# set up true state values\n",
    "TRUE_VALUE = np.zeros(7)\n",
    "TRUE_VALUE[1:6] = np.arange(1, 6) / 6.0\n",
    "TRUE_VALUE[6] = 1\n",
    "\n",
    "ACTION_LEFT = 0\n",
    "ACTION_RIGHT = 1\n",
    "\n",
    "# @values: current states value, will be updated if @batch is False\n",
    "# @alpha: step size\n",
    "# @batch: whether to update @values\n",
    "def temporal_difference(values, alpha=0.1, batch=False):\n",
    "    state = 3\n",
    "    trajectory = [state]\n",
    "    rewards = [0]\n",
    "    while True:\n",
    "        old_state = state\n",
    "        if np.random.binomial(1, 0.5) == ACTION_LEFT:\n",
    "            state -= 1\n",
    "        else:\n",
    "            state += 1\n",
    "        # Assume all rewards are 0\n",
    "        reward = 0\n",
    "        trajectory.append(state)\n",
    "        # TD update\n",
    "        if not batch:\n",
    "            values[old_state] += alpha * (reward + values[state] - values[old_state])\n",
    "        if state == 6 or state == 0:\n",
    "            break\n",
    "        rewards.append(reward)\n",
    "    return trajectory, rewards\n",
    "\n",
    "# @values: current states value, will be updated if @batch is False\n",
    "# @alpha: step size\n",
    "# @batch: whether to update @values\n",
    "def monte_carlo(values, alpha=0.1, batch=False):\n",
    "    state = 3\n",
    "    trajectory = [state]\n",
    "\n",
    "    # if end up with left terminal state, all returns are 0\n",
    "    # if end up with right terminal state, all returns are 1\n",
    "    while True:\n",
    "        if np.random.binomial(1, 0.5) == ACTION_LEFT:\n",
    "            state -= 1\n",
    "        else:\n",
    "            state += 1\n",
    "        trajectory.append(state)\n",
    "        if state == 6:\n",
    "            returns = 1.0\n",
    "            break\n",
    "        elif state == 0:\n",
    "            returns = 0.0\n",
    "            break\n",
    "\n",
    "    if not batch:\n",
    "        for state_ in trajectory[:-1]:\n",
    "            # MC update\n",
    "            values[state_] += alpha * (returns - values[state_])\n",
    "    return trajectory, [returns] * (len(trajectory) - 1)\n",
    "\n",
    "# Example 6.2 left\n",
    "def compute_state_value():\n",
    "    episodes = [0, 1, 10, 100]\n",
    "    current_values = np.copy(VALUES)\n",
    "    plt.figure(1)\n",
    "    for i in range(episodes[-1] + 1):\n",
    "        if i in episodes:\n",
    "            plt.plot((\"A\", \"B\", \"C\", \"D\", \"E\"), current_values[1:6], label=str(i) + ' episodes')\n",
    "        temporal_difference(current_values)\n",
    "    plt.plot((\"A\", \"B\", \"C\", \"D\", \"E\"), TRUE_VALUE[1:6], label='true values')\n",
    "    plt.xlabel('State')\n",
    "    plt.ylabel('Estimated Value')\n",
    "    plt.legend()\n",
    "\n",
    "# Example 6.2 right\n",
    "def rms_error():\n",
    "    # Same alpha value can appear in both arrays\n",
    "    td_alphas = [0.15, 0.1, 0.05]\n",
    "    mc_alphas = [0.01, 0.02, 0.03, 0.04]\n",
    "    episodes = 100 + 1\n",
    "    runs = 100\n",
    "    for i, alpha in enumerate(td_alphas + mc_alphas):\n",
    "        total_errors = np.zeros(episodes)\n",
    "        if i < len(td_alphas):\n",
    "            method = 'TD'\n",
    "            linestyle = 'solid'\n",
    "        else:\n",
    "            method = 'MC'\n",
    "            linestyle = 'dashdot'\n",
    "        for r in tqdm(range(runs)):\n",
    "            errors = []\n",
    "            current_values = np.copy(VALUES)\n",
    "            for i in range(0, episodes):\n",
    "                errors.append(np.sqrt(np.sum(np.power(TRUE_VALUE - current_values, 2)) / 5.0))\n",
    "                if method == 'TD':\n",
    "                    temporal_difference(current_values, alpha=alpha)\n",
    "                else:\n",
    "                    monte_carlo(current_values, alpha=alpha)\n",
    "            total_errors += np.asarray(errors)\n",
    "        total_errors /= runs\n",
    "        plt.plot(total_errors, linestyle=linestyle, label=method + ', $\\\\alpha$ = %.02f' % (alpha))\n",
    "    plt.xlabel('Walks/Episodes')\n",
    "    plt.ylabel('Empirical RMS error, averaged over states')\n",
    "    plt.legend()\n",
    "\n",
    "# Figure 6.2\n",
    "# @method: 'TD' or 'MC'\n",
    "\n",
    "states=[0,1,2,3,4,5,6]\n",
    "actions=[-1,1]\n",
    "V_true=np.arange(1,6)/6.0\n",
    "\n",
    "def step(s,a):\n",
    "      \n",
    "    s_=s+a\n",
    "    \n",
    "    if s_==0:\n",
    "        return s_,0,True\n",
    "    elif s_==6:\n",
    "        return s_,1,True \n",
    "    else:\n",
    "        return s_,0,False\n",
    "    \n",
    "def get_traj():\n",
    "    \n",
    "    s=np.random.choice(states[1:6])\n",
    "    traj=[s]\n",
    "    rew=[0]\n",
    "    while True:     \n",
    "\n",
    "        s_old=s\n",
    "        a=np.random.choice(actions)\n",
    "        s,r,done=step(s_old,a)\n",
    "        traj.append(s)\n",
    "        rew.append(r)\n",
    "        \n",
    "        if done:\n",
    "            break\n",
    "            \n",
    "    return traj, rew\n",
    "\n",
    "def batch_updating(method, episodes, alpha=0.001):\n",
    "    # perform 100 independent runs\n",
    "    runs = 100\n",
    "    total_errors = np.zeros(episodes)\n",
    "    for r in tqdm(range(0, runs)):\n",
    "        current_values = np.copy(VALUES)\n",
    "        current_values[1:6] = -1\n",
    "        errors = []\n",
    "        # track shown trajectories and reward/return sequences\n",
    "        trajectories = []\n",
    "        rewards = []\n",
    "        for ep in range(episodes):\n",
    "            if method == 'TD':\n",
    "                trajectory_, rewards_ = get_traj()\n",
    "            else:\n",
    "                trajectory_, rewards_ = monte_carlo(current_values, batch=True)\n",
    "            trajectories.append(trajectory_)\n",
    "            rewards.append(rewards_)\n",
    "            while True:\n",
    "                # keep feeding our algorithm with trajectories seen so far until state value function converges\n",
    "                updates = np.zeros(7)\n",
    "                for trajectory_, rewards_ in zip(trajectories, rewards):\n",
    "                    for i in range(0, len(trajectory_) - 1):\n",
    "                        if method == 'TD':\n",
    "                            updates[trajectory_[i]] += rewards_[i] + current_values[trajectory_[i + 1]] - current_values[trajectory_[i]]\n",
    "                        else:\n",
    "                            updates[trajectory_[i]] += rewards_[i] - current_values[trajectory_[i]]\n",
    "                updates *= alpha\n",
    "                if np.sum(np.abs(updates)) < 1e-3:\n",
    "                    break\n",
    "                # perform batch updating\n",
    "                current_values += updates\n",
    "            # calculate rms error\n",
    "            #print(current_values)\n",
    "            errors.append(np.sqrt(np.sum(np.power(current_values - TRUE_VALUE, 2)) / 5.0))\n",
    "        total_errors += np.asarray(errors)\n",
    "    total_errors /= runs\n",
    "    return total_errors\n",
    "\n",
    "def example_6_2():\n",
    "    plt.figure(figsize=(10, 20))\n",
    "    plt.subplot(2, 1, 1)\n",
    "    compute_state_value()\n",
    "\n",
    "    plt.subplot(2, 1, 2)\n",
    "    rms_error()\n",
    "    plt.tight_layout()\n",
    "\n",
    "    plt.savefig('example_6_2.png')\n",
    "    plt.close()\n",
    "\n",
    "def figure_6_2():\n",
    "    episodes = 100 + 1\n",
    "    td_errors = batch_updating('TD', episodes)\n",
    "    mc_errors = batch_updating('MC', episodes)\n",
    "\n",
    "    plt.plot(td_errors, label='TD')\n",
    "    plt.plot(mc_errors, label='MC')\n",
    "    plt.title(\"Batch Training\")\n",
    "    plt.xlabel('Walks/Episodes')\n",
    "    plt.ylabel('RMS error, averaged over states')\n",
    "    plt.xlim(0, 100)\n",
    "    plt.ylim(0, 0.25)\n",
    "    plt.legend()\n",
    "\n",
    "    plt.savefig('figure_6_2.png')\n",
    "    plt.close()\n",
    "\n",
    "if __name__ == '__main__':\n",
    "    #example_6_2()\n",
    "    figure_6_2()"
   ]
  },
  {
   "cell_type": "code",
   "execution_count": 14,
   "id": "64fa4608-4568-4d14-aaa7-b79125bedcb1",
   "metadata": {},
   "outputs": [],
   "source": [
    "values = np.zeros(7)\n",
    "alpha=0.1\n",
    "state = 3\n",
    "trajectory = [state]\n",
    "rewards = [0]\n",
    "while True:\n",
    "    old_state = state\n",
    "    if np.random.binomial(1, 0.5) == ACTION_LEFT:\n",
    "        state -= 1\n",
    "    else:\n",
    "        state += 1\n",
    "    # Assume all rewards are 0\n",
    "    reward = 0\n",
    "    trajectory.append(state)\n",
    "    # TD update\n",
    "    \n",
    "    values[old_state] += alpha * (reward + values[state] - values[old_state])\n",
    "    if state == 6 or state == 0:\n",
    "        break\n",
    "    rewards.append(reward)\n"
   ]
  },
  {
   "cell_type": "code",
   "execution_count": 15,
   "id": "1d29701a-d3a6-4f1d-9c0b-6526bd9a328d",
   "metadata": {},
   "outputs": [
    {
     "data": {
      "text/plain": [
       "[3, 4, 3, 2, 1, 2, 3, 2, 3, 4, 5, 6]"
      ]
     },
     "execution_count": 15,
     "metadata": {},
     "output_type": "execute_result"
    }
   ],
   "source": [
    "trajectory"
   ]
  },
  {
   "cell_type": "code",
   "execution_count": 16,
   "id": "6a01d184-459b-4485-9b85-4f94e37588fd",
   "metadata": {},
   "outputs": [
    {
     "data": {
      "text/plain": [
       "[0, 0, 0, 0, 0, 0, 0, 0, 0, 0, 0]"
      ]
     },
     "execution_count": 16,
     "metadata": {},
     "output_type": "execute_result"
    }
   ],
   "source": [
    "rewards"
   ]
  },
  {
   "cell_type": "code",
   "execution_count": 1,
   "id": "d6adf76a-dc70-43b4-9ac8-cd7db21d266c",
   "metadata": {},
   "outputs": [
    {
     "ename": "NameError",
     "evalue": "name 'np' is not defined",
     "output_type": "error",
     "traceback": [
      "\u001b[0;31m---------------------------------------------------------------------------\u001b[0m",
      "\u001b[0;31mNameError\u001b[0m                                 Traceback (most recent call last)",
      "\u001b[0;32m/var/folders/89/wkwstz_d4zq1pshpw71z9wb80000gp/T/ipykernel_33833/35977069.py\u001b[0m in \u001b[0;36m<module>\u001b[0;34m\u001b[0m\n\u001b[1;32m     14\u001b[0m         \u001b[0;32mreturn\u001b[0m \u001b[0ms_\u001b[0m\u001b[0;34m,\u001b[0m\u001b[0;36m0\u001b[0m\u001b[0;34m,\u001b[0m\u001b[0;32mFalse\u001b[0m\u001b[0;34m\u001b[0m\u001b[0;34m\u001b[0m\u001b[0m\n\u001b[1;32m     15\u001b[0m \u001b[0;34m\u001b[0m\u001b[0m\n\u001b[0;32m---> 16\u001b[0;31m \u001b[0mV\u001b[0m\u001b[0;34m=\u001b[0m\u001b[0mnp\u001b[0m\u001b[0;34m.\u001b[0m\u001b[0mzeros\u001b[0m\u001b[0;34m(\u001b[0m\u001b[0mlen\u001b[0m\u001b[0;34m(\u001b[0m\u001b[0mstates\u001b[0m\u001b[0;34m)\u001b[0m\u001b[0;34m)\u001b[0m\u001b[0;34m\u001b[0m\u001b[0;34m\u001b[0m\u001b[0m\n\u001b[0m\u001b[1;32m     17\u001b[0m \u001b[0mV_true\u001b[0m\u001b[0;34m=\u001b[0m\u001b[0mnp\u001b[0m\u001b[0;34m.\u001b[0m\u001b[0marange\u001b[0m\u001b[0;34m(\u001b[0m\u001b[0;36m1\u001b[0m\u001b[0;34m,\u001b[0m \u001b[0;36m6\u001b[0m\u001b[0;34m)\u001b[0m\u001b[0;34m/\u001b[0m\u001b[0;36m6.0\u001b[0m\u001b[0;34m\u001b[0m\u001b[0;34m\u001b[0m\u001b[0m\n\u001b[1;32m     18\u001b[0m \u001b[0mv_all\u001b[0m\u001b[0;34m=\u001b[0m\u001b[0;34m[\u001b[0m\u001b[0;34m]\u001b[0m\u001b[0;34m\u001b[0m\u001b[0;34m\u001b[0m\u001b[0m\n",
      "\u001b[0;31mNameError\u001b[0m: name 'np' is not defined"
     ]
    }
   ],
   "source": [
    "states=[0,1,2,3,4,5,6]\n",
    "actions=[-1,1]\n",
    "lr=0.1\n",
    "\n",
    "def step(s,a):\n",
    "      \n",
    "    s_=s+a\n",
    "    \n",
    "    if s_==0:\n",
    "        return s_,0,True\n",
    "    elif s_==6:\n",
    "        return s_,1,True \n",
    "    else:\n",
    "        return s_,0,False\n",
    "\n",
    "V=np.zeros(len(states))\n",
    "V_true=np.arange(1, 6)/6.0\n",
    "v_all=[]\n",
    "for ep in range(100):\n",
    "    \n",
    "    s=3\n",
    "    #traj=[s]\n",
    "    #rs=[0]\n",
    "    \n",
    "    while True:\n",
    "        \n",
    "        \n",
    "        s_old=s\n",
    "        v_all.append(V[s_old])\n",
    "        a=np.random.choice(actions,p=[1./2,1./2])\n",
    "        s,r,done=step(s_old,a)\n",
    "        \n",
    "        if done:\n",
    "            V[s_old]+=lr*(r-V[s_old])\n",
    "        else:\n",
    "            V[s_old]+=lr*(r+V[s]-V[s_old])\n",
    "        \n",
    "        #traj.append(s)\n",
    "        #rs.append(r)\n",
    "        if done:\n",
    "            break\n",
    "    \n",
    "    \n",
    "        \n",
    "V"
   ]
  },
  {
   "cell_type": "code",
   "execution_count": 145,
   "id": "64934d5d-8faf-4dca-9bd6-e89ad65ef65f",
   "metadata": {},
   "outputs": [
    {
     "data": {
      "text/plain": [
       "[<matplotlib.lines.Line2D at 0x7fa969b62c10>]"
      ]
     },
     "execution_count": 145,
     "metadata": {},
     "output_type": "execute_result"
    }
   ],
   "source": [
    "import matplotlib.pyplot as plt\n",
    "len(v_all)\n",
    "plt.clf()\n",
    "plt.close()\n",
    "plt.figure()\n",
    "plt.plot(v_all)\n",
    "#plt.savefig('vall.png',dpi=350)\n",
    "\n"
   ]
  },
  {
   "cell_type": "code",
   "execution_count": 125,
   "id": "3d8c8947-537e-467b-ae77-d8b9670f9321",
   "metadata": {},
   "outputs": [
    {
     "data": {
      "text/plain": [
       "array([0.16666667, 0.33333333, 0.5       , 0.66666667, 0.83333333])"
      ]
     },
     "execution_count": 125,
     "metadata": {},
     "output_type": "execute_result"
    }
   ],
   "source": [
    "V_true=np.arange(1, 6)/6.0\n",
    "\n",
    "V_true"
   ]
  },
  {
   "cell_type": "code",
   "execution_count": 110,
   "id": "bbae195d-6df0-4408-920d-1873faa8e4c6",
   "metadata": {},
   "outputs": [],
   "source": [
    "V=np.zeros(7)\n",
    "\n",
    "for ep in range(1000):\n",
    "    \n",
    "    s=3\n",
    "    traj=[s]\n",
    "    rs=[0]\n",
    "    while True:\n",
    "        s_old=s\n",
    "        a=np.random.choice([-1,1],p=[1./2,1./2])\n",
    "        \n",
    "        s+=a\n",
    "        \n",
    "        if s==6:\n",
    "            r=1\n",
    "        else:\n",
    "            r=0\n",
    "            \n",
    "        V[s_old]+=lr*(r+V[s]-V[s_old])\n",
    "        \n",
    "        #print(s_old,a,s,r)\n",
    "        traj.append(s)\n",
    "        rs.append(r)\n",
    "        \n",
    "        if s==6 or s==0:\n",
    "            break\n",
    "    "
   ]
  },
  {
   "cell_type": "code",
   "execution_count": 99,
   "id": "a52e234c-ac1a-4cdb-ab31-6439cac7d04d",
   "metadata": {},
   "outputs": [
    {
     "data": {
      "text/plain": [
       "([3, 2, 1, 0],\n",
       " [0, 0, 0, 0],\n",
       " array([0.        , 0.17858491, 0.35742101, 0.51691911, 0.73932901,\n",
       "        0.92698237, 0.        ]))"
      ]
     },
     "execution_count": 99,
     "metadata": {},
     "output_type": "execute_result"
    }
   ],
   "source": [
    "traj,rs,V"
   ]
  },
  {
   "cell_type": "code",
   "execution_count": 71,
   "id": "9104280b-fec5-4472-a717-85ca854cf84f",
   "metadata": {},
   "outputs": [
    {
     "data": {
      "text/plain": [
       "0.6666666666666666"
      ]
     },
     "execution_count": 71,
     "metadata": {},
     "output_type": "execute_result"
    }
   ],
   "source": [
    "4/6"
   ]
  },
  {
   "cell_type": "code",
   "execution_count": 41,
   "id": "4aae631a-88d8-46e2-81be-e54a5ced7371",
   "metadata": {},
   "outputs": [
    {
     "data": {
      "text/plain": [
       "(4, 0, False)"
      ]
     },
     "execution_count": 41,
     "metadata": {},
     "output_type": "execute_result"
    }
   ],
   "source": [
    "s=3\n",
    "a=1\n",
    "\n",
    "step(s,a)"
   ]
  },
  {
   "cell_type": "code",
   "execution_count": 42,
   "id": "fa818389-fad4-4445-8a63-0b39d3a07ce2",
   "metadata": {},
   "outputs": [
    {
     "data": {
      "text/plain": [
       "(5, 0, False)"
      ]
     },
     "execution_count": 42,
     "metadata": {},
     "output_type": "execute_result"
    }
   ],
   "source": [
    "step(4,1)"
   ]
  },
  {
   "cell_type": "code",
   "execution_count": 43,
   "id": "ccd5f331-99e4-49fb-b482-9ebcf2e6d83b",
   "metadata": {},
   "outputs": [
    {
     "data": {
      "text/plain": [
       "(6, 1, True)"
      ]
     },
     "execution_count": 43,
     "metadata": {},
     "output_type": "execute_result"
    }
   ],
   "source": [
    "step(5,1)"
   ]
  },
  {
   "cell_type": "code",
   "execution_count": 38,
   "id": "c86ec9a7-061c-4463-939c-6566b24141f7",
   "metadata": {},
   "outputs": [
    {
     "data": {
      "text/plain": [
       "(6, 1, True)"
      ]
     },
     "execution_count": 38,
     "metadata": {},
     "output_type": "execute_result"
    }
   ],
   "source": [
    "step(6,1)"
   ]
  },
  {
   "cell_type": "code",
   "execution_count": 40,
   "id": "db629b0a-a602-4057-9779-966e532642f4",
   "metadata": {},
   "outputs": [
    {
     "data": {
      "text/plain": [
       "array([ 0. ,  0. ,  0. ,  0. ,  0. , 50.5,  0. ])"
      ]
     },
     "execution_count": 40,
     "metadata": {},
     "output_type": "execute_result"
    }
   ],
   "source": [
    "V"
   ]
  },
  {
   "cell_type": "code",
   "execution_count": 44,
   "id": "f2ccd406-f519-4ace-8739-58bce5410774",
   "metadata": {},
   "outputs": [
    {
     "data": {
      "text/plain": [
       "(2, 0, False)"
      ]
     },
     "execution_count": 44,
     "metadata": {},
     "output_type": "execute_result"
    }
   ],
   "source": [
    "s=3\n",
    "a=-1\n",
    "\n",
    "step(s,a)"
   ]
  },
  {
   "cell_type": "code",
   "execution_count": 45,
   "id": "c24bac4e-14cb-40da-83b7-a0bb2a9a3d47",
   "metadata": {},
   "outputs": [
    {
     "data": {
      "text/plain": [
       "(1, 0, False)"
      ]
     },
     "execution_count": 45,
     "metadata": {},
     "output_type": "execute_result"
    }
   ],
   "source": [
    "step(2,-1)"
   ]
  },
  {
   "cell_type": "code",
   "execution_count": 46,
   "id": "129e6c41-634c-430b-8457-812272ace118",
   "metadata": {},
   "outputs": [
    {
     "data": {
      "text/plain": [
       "(0, 0, True)"
      ]
     },
     "execution_count": 46,
     "metadata": {},
     "output_type": "execute_result"
    }
   ],
   "source": [
    "step(1,-1)"
   ]
  },
  {
   "cell_type": "code",
   "execution_count": 118,
   "id": "72414404-9f6d-4d7c-a6ab-f5d2e8127a38",
   "metadata": {},
   "outputs": [
    {
     "data": {
      "text/plain": [
       "array([0.        , 0.15566502, 0.31171854, 0.47180353, 0.64096155,\n",
       "       0.82440254, 1.        ])"
      ]
     },
     "execution_count": 118,
     "metadata": {},
     "output_type": "execute_result"
    }
   ],
   "source": [
    "import random\n",
    "\n",
    "states=[0,1,2,3,4,5,6,7]\n",
    "final=[0,6]\n",
    "reward=[1 if s==6 else 0 for s in states]\n",
    "\n",
    "V=np.zeros(7)\n",
    "\n",
    "lr=0.01\n",
    "\n",
    "for ep in range(50000):\n",
    "    \n",
    "    s=random.randint(1,6)\n",
    "    \n",
    "    done=False\n",
    "    \n",
    "    while not done:\n",
    "        if s in final:\n",
    "            V[s]+=lr*(reward[s] - V[s])\n",
    "            done=True\n",
    "        else:\n",
    "            a=np.random.choice([-1,1],p=[1./2,1./2])\n",
    "            s_=s+a\n",
    "            V[s]+=lr*(reward[s]+V[s_]-V[s])\n",
    "            s=s_\n",
    "\n",
    "V"
   ]
  },
  {
   "cell_type": "code",
   "execution_count": 5,
   "id": "7deb62a4-43aa-44f2-addd-2ceb989be47e",
   "metadata": {},
   "outputs": [],
   "source": [
    "import numpy as np\n",
    "ACTION_LEFT = 0\n",
    "ACTION_RIGHT = 1\n",
    "\n",
    "state = 3\n",
    "trajectory = [state]\n",
    "values = np.zeros(7)\n",
    "alpha=0.1\n",
    "\n",
    "# if end up with left terminal state, all returns are 0\n",
    "# if end up with right terminal state, all returns are 1\n",
    "while True:\n",
    "    if np.random.binomial(1, 0.5) == ACTION_LEFT:\n",
    "        state -= 1\n",
    "    else:\n",
    "        state += 1\n",
    "    trajectory.append(state)\n",
    "    if state == 6:\n",
    "        returns = 1.0\n",
    "        break\n",
    "    elif state == 0:\n",
    "        returns = 0.0\n",
    "        break\n",
    "\n",
    "\n",
    "    for state_ in trajectory[:-1]:\n",
    "        # MC update\n",
    "        values[state_] += alpha * (returns - values[state_])"
   ]
  },
  {
   "cell_type": "code",
   "execution_count": 6,
   "id": "4677f349-381a-4903-91cb-68c3fa9391ff",
   "metadata": {},
   "outputs": [
    {
     "data": {
      "text/plain": [
       "[3, 4, 3, 4, 3, 2, 3, 4, 3, 2, 3, 2, 1, 0]"
      ]
     },
     "execution_count": 6,
     "metadata": {},
     "output_type": "execute_result"
    }
   ],
   "source": [
    "trajectory"
   ]
  },
  {
   "cell_type": "code",
   "execution_count": 7,
   "id": "48418a15-c4e5-452a-9344-9cf0857a71dd",
   "metadata": {},
   "outputs": [
    {
     "data": {
      "text/plain": [
       "[3, 4, 3, 4, 3, 2, 3, 4, 3, 2, 3, 2, 1]"
      ]
     },
     "execution_count": 7,
     "metadata": {},
     "output_type": "execute_result"
    }
   ],
   "source": [
    "trajectory[:-1]"
   ]
  },
  {
   "cell_type": "code",
   "execution_count": null,
   "id": "0ba3db99-6be5-4e52-8fdc-cc5ee0c754d4",
   "metadata": {},
   "outputs": [],
   "source": [
    "values[s]+=alpha"
   ]
  },
  {
   "cell_type": "code",
   "execution_count": null,
   "id": "ab8c2c01-0933-4456-80bf-7b07870c91e9",
   "metadata": {},
   "outputs": [],
   "source": []
  },
  {
   "cell_type": "code",
   "execution_count": 2,
   "id": "9f8bbc57-6148-45a2-92d5-e821b0a24263",
   "metadata": {},
   "outputs": [
    {
     "ename": "NameError",
     "evalue": "name 'np' is not defined",
     "output_type": "error",
     "traceback": [
      "\u001b[0;31m---------------------------------------------------------------------------\u001b[0m",
      "\u001b[0;31mNameError\u001b[0m                                 Traceback (most recent call last)",
      "\u001b[0;32m/var/folders/89/wkwstz_d4zq1pshpw71z9wb80000gp/T/ipykernel_36464/1740528449.py\u001b[0m in \u001b[0;36m<module>\u001b[0;34m\u001b[0m\n\u001b[1;32m     28\u001b[0m \u001b[0mrewards\u001b[0m \u001b[0;34m=\u001b[0m \u001b[0;34m[\u001b[0m\u001b[0;34m]\u001b[0m\u001b[0;34m\u001b[0m\u001b[0;34m\u001b[0m\u001b[0m\n\u001b[1;32m     29\u001b[0m \u001b[0mepisodes\u001b[0m\u001b[0;34m=\u001b[0m\u001b[0;36m100\u001b[0m\u001b[0;34m\u001b[0m\u001b[0;34m\u001b[0m\u001b[0m\n\u001b[0;32m---> 30\u001b[0;31m \u001b[0mTRUE_VALUE\u001b[0m \u001b[0;34m=\u001b[0m \u001b[0mnp\u001b[0m\u001b[0;34m.\u001b[0m\u001b[0mzeros\u001b[0m\u001b[0;34m(\u001b[0m\u001b[0;36m7\u001b[0m\u001b[0;34m)\u001b[0m\u001b[0;34m\u001b[0m\u001b[0;34m\u001b[0m\u001b[0m\n\u001b[0m\u001b[1;32m     31\u001b[0m \u001b[0mTRUE_VALUE\u001b[0m\u001b[0;34m[\u001b[0m\u001b[0;36m1\u001b[0m\u001b[0;34m:\u001b[0m\u001b[0;36m6\u001b[0m\u001b[0;34m]\u001b[0m \u001b[0;34m=\u001b[0m \u001b[0mnp\u001b[0m\u001b[0;34m.\u001b[0m\u001b[0marange\u001b[0m\u001b[0;34m(\u001b[0m\u001b[0;36m1\u001b[0m\u001b[0;34m,\u001b[0m \u001b[0;36m6\u001b[0m\u001b[0;34m)\u001b[0m \u001b[0;34m/\u001b[0m \u001b[0;36m6.0\u001b[0m\u001b[0;34m\u001b[0m\u001b[0;34m\u001b[0m\u001b[0m\n\u001b[1;32m     32\u001b[0m \u001b[0mTRUE_VALUE\u001b[0m\u001b[0;34m[\u001b[0m\u001b[0;36m6\u001b[0m\u001b[0;34m]\u001b[0m \u001b[0;34m=\u001b[0m \u001b[0;36m1\u001b[0m\u001b[0;34m\u001b[0m\u001b[0;34m\u001b[0m\u001b[0m\n",
      "\u001b[0;31mNameError\u001b[0m: name 'np' is not defined"
     ]
    }
   ],
   "source": [
    "ACTION_LEFT = 0\n",
    "ACTION_RIGHT = 1\n",
    "\n",
    "def temporal_difference(values, alpha=0.1, batch=False):\n",
    "    state = 3\n",
    "    trajectory = [state]\n",
    "    rewards = [0]\n",
    "    while True:\n",
    "        old_state = state\n",
    "        if np.random.binomial(1, 0.5) == ACTION_LEFT:\n",
    "            state -= 1\n",
    "        else:\n",
    "            state += 1\n",
    "        # Assume all rewards are 0\n",
    "        reward = 0\n",
    "        trajectory.append(state)\n",
    "        # TD update\n",
    "        if not batch:\n",
    "            values[old_state] += alpha * (reward + values[state] - values[old_state])\n",
    "        if state == 6 or state == 0:\n",
    "            break\n",
    "        rewards.append(reward)\n",
    "    return trajectory, rewards\n",
    "\n",
    "errors = []\n",
    "# track shown trajectories and reward/return sequences\n",
    "trajectories = []\n",
    "rewards = []\n",
    "episodes=100\n",
    "TRUE_VALUE = np.zeros(7)\n",
    "TRUE_VALUE[1:6] = np.arange(1, 6) / 6.0\n",
    "TRUE_VALUE[6] = 1\n",
    "\n",
    "VALUES = np.zeros(7)\n",
    "VALUES[1:6] = 0.5\n",
    "# For convenience, we assume all rewards are 0\n",
    "# and the left terminal state has value 0, the right terminal state has value 1\n",
    "# This trick has been used in Gambler's Problem\n",
    "VALUES[6] = 1\n",
    "\n",
    "alpha=0.001\n",
    "\n",
    "current_values = np.copy(VALUES)\n",
    "current_values[1:6] = -1\n",
    "\n",
    "print(current_values)\n",
    "for ep in range(episodes):\n",
    "    \n",
    "    trajectory_, rewards_ = temporal_difference(current_values, batch=True)\n",
    "\n",
    "    #print(trajectory_)\n",
    "    #trajectory_, rewards_ = monte_carlo(current_values, batch=True)\n",
    "    trajectories.append(trajectory_)\n",
    "    rewards.append(rewards_)\n",
    "    \n",
    "    #print(trajectories)\n",
    "    while True:\n",
    "        # keep feeding our algorithm with trajectories seen so far until state value function converges\n",
    "        updates = np.zeros(7)\n",
    "        for trajectory_, rewards_ in zip(trajectories, rewards):\n",
    "            for i in range(0, len(trajectory_) - 1):\n",
    "                \n",
    "                updates[trajectory_[i]] += rewards_[i] + current_values[trajectory_[i + 1]] - current_values[trajectory_[i]]\n",
    "                #print(updates)\n",
    "                #updates[trajectory_[i]] += rewards_[i] - current_values[trajectory_[i]]\n",
    "        updates *= alpha\n",
    "        if np.sum(np.abs(updates)) < 1e-3:\n",
    "            break\n",
    "        # perform batch updating\n",
    "        current_values += updates\n",
    "    # calculate rms error\n",
    "    errors.append(np.sqrt(np.sum(np.power(current_values - TRUE_VALUE, 2)) / 5.0))\n",
    "#total_errors += np.asarray(errors)\n",
    "#total_errors /= runs"
   ]
  },
  {
   "cell_type": "code",
   "execution_count": 17,
   "id": "b2eb360c-c1e1-40d4-9750-5e3633a2e8a5",
   "metadata": {},
   "outputs": [
    {
     "data": {
      "text/plain": [
       "[<matplotlib.lines.Line2D at 0x7fe74a5ee0a0>]"
      ]
     },
     "execution_count": 17,
     "metadata": {},
     "output_type": "execute_result"
    },
    {
     "data": {
      "image/png": "[encoded data removed]",
      "text/plain": [
       "<Figure size 432x288 with 1 Axes>"
      ]
     },
     "metadata": {
      "needs_background": "light"
     },
     "output_type": "display_data"
    }
   ],
   "source": [
    "import matplotlib.pyplot as plt\n",
    "plt.plot(errors)"
   ]
  },
  {
   "cell_type": "code",
   "execution_count": null,
   "id": "71079d2f-4c54-4779-ae9e-d116d065d7db",
   "metadata": {},
   "outputs": [],
   "source": []
  },
  {
   "cell_type": "code",
   "execution_count": null,
   "id": "bc7e6202-1637-405a-a123-20cc87835fcd",
   "metadata": {},
   "outputs": [],
   "source": []
  }
 ],
 "metadata": {
  "kernelspec": {
   "display_name": "Python 3 (ipykernel)",
   "language": "python",
   "name": "python3"
  },
  "language_info": {
   "codemirror_mode": {
    "name": "ipython",
    "version": 3
   },
   "file_extension": ".py",
   "mimetype": "text/x-python",
   "name": "python",
   "nbconvert_exporter": "python",
   "pygments_lexer": "ipython3",
   "version": "3.9.7"
  }
 },
 "nbformat": 4,
 "nbformat_minor": 5
}
