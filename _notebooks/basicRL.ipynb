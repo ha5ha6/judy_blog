{
 "cells": [
  {
   "cell_type": "markdown",
   "id": "972f4d07-9188-447b-a3de-5acebc1601cf",
   "metadata": {},
   "source": [
    "### calculate $V_{\\pi}$ in gridworld 5x5\n",
    "\n",
    "Example 3.5"
   ]
  },
  {
   "cell_type": "code",
   "execution_count": 2,
   "id": "411f8d17-3529-484e-ad01-ce428e197e87",
   "metadata": {},
   "outputs": [
    {
     "name": "stdout",
     "output_type": "stream",
     "text": [
      "[[ 3.3  8.8  4.4  5.3  1.5]\n",
      " [ 1.5  3.   2.3  1.9  0.5]\n",
      " [ 0.1  0.7  0.7  0.4 -0.4]\n",
      " [-1.  -0.4 -0.4 -0.6 -1.2]\n",
      " [-1.9 -1.3 -1.2 -1.4 -2. ]]\n"
     ]
    }
   ],
   "source": [
    "import numpy as np\n",
    "\n",
    "nx,ny=5,5\n",
    "A,A_=[0,1],[4,1]\n",
    "B,B_=[0,3],[2,3]\n",
    "actions=[[0,-1],[-1,0],[0,1],[1,0]]#left,up,right,down\n",
    "pi=0.25\n",
    "gm=0.9\n",
    "\n",
    "def step(s,a):\n",
    "    if s==A:\n",
    "        return A_,10\n",
    "    if s==B:\n",
    "        return B_,5\n",
    "    \n",
    "    s_=[s[0]+a[0],s[1]+a[1]]\n",
    "    if s_[0]<0 or s_[0]>=nx or s_[1]<0 or s_[1]>=ny:\n",
    "        r=-1\n",
    "        s_=s\n",
    "    else:\n",
    "        r=0\n",
    "        \n",
    "    return s_,r\n",
    "\n",
    "V=np.zeros((nx,ny))\n",
    "\n",
    "while True:\n",
    "    V_=np.zeros_like(V)\n",
    "    for x in range(nx):\n",
    "        for y in range(ny):\n",
    "            va=[]\n",
    "            for a in actions:\n",
    "                (x_,y_),r=step([x,y],a)\n",
    "                va.append(pi*(r+gm*V[x_,y_]))\n",
    "            V_[x,y]=np.sum(va)\n",
    "\n",
    "    #print(np.around(V,decimals=2))\n",
    "    if np.sum(np.abs(V-V_))<1e-4:\n",
    "        print(np.around(V,decimals=1))\n",
    "        break\n",
    "    \n",
    "    V=V_"
   ]
  },
  {
   "cell_type": "markdown",
   "id": "af036a60-03da-43e0-bcbf-10123c278ee8",
   "metadata": {},
   "source": [
    "### calculate $V_*$ in gridworld 5x5\n",
    "\n",
    "Example 3.8"
   ]
  },
  {
   "cell_type": "code",
   "execution_count": 3,
   "id": "bf034508-ac29-411d-83c3-0a45eafcd287",
   "metadata": {},
   "outputs": [
    {
     "name": "stdout",
     "output_type": "stream",
     "text": [
      "[[22.  24.4 22.  19.4 17.5]\n",
      " [19.8 22.  19.8 17.8 16. ]\n",
      " [17.8 19.8 17.8 16.  14.4]\n",
      " [16.  17.8 16.  14.4 13. ]\n",
      " [14.4 16.  14.4 13.  11.7]]\n"
     ]
    }
   ],
   "source": [
    "V=np.zeros((nx,ny))\n",
    "\n",
    "while True:\n",
    "    V_=np.zeros_like(V)\n",
    "    for x in range(nx):\n",
    "        for y in range(ny):\n",
    "            va=[]\n",
    "            for a in actions:\n",
    "                (x_,y_),r=step([x,y],a)\n",
    "                va.append(r+gm*V[x_,y_])\n",
    "            V_[x,y]=np.max(va)\n",
    "\n",
    "    #print(np.around(V,decimals=2))\n",
    "    if np.sum(np.abs(V-V_))<1e-4:\n",
    "        print(np.around(V,decimals=1))\n",
    "        break\n",
    "    \n",
    "    V=V_"
   ]
  },
  {
   "cell_type": "markdown",
   "id": "84956f10-52ca-4a4c-ae99-58e34292b2a7",
   "metadata": {},
   "source": [
    "### calculate $V_k$ in gridworld 4x4\n",
    "\n",
    "4.1 Policy Evaluation - Example 4.1"
   ]
  },
  {
   "cell_type": "code",
   "execution_count": 112,
   "id": "a99649bf-62fc-4b18-8884-8cf9803d9a97",
   "metadata": {},
   "outputs": [
    {
     "data": {
      "image/png": "[encoded data removed]",
      "text/plain": [
       "<Figure size 432x432 with 1 Axes>"
      ]
     },
     "metadata": {
      "needs_background": "light"
     },
     "output_type": "display_data"
    },
    {
     "data": {
      "text/plain": [
       "(array([[  0., -14., -20., -22.],\n",
       "        [-14., -18., -20., -20.],\n",
       "        [-20., -20., -18., -14.],\n",
       "        [-22., -20., -14.,   0.]]),\n",
       " array([[ 0., -1., -1., -2.],\n",
       "        [-1., -1., -2., -1.],\n",
       "        [-1., -2., -2., -1.],\n",
       "        [-2., -1., -1.,  0.]]))"
      ]
     },
     "execution_count": 112,
     "metadata": {},
     "output_type": "execute_result"
    }
   ],
   "source": [
    "import numpy as np\n",
    "import matplotlib.pyplot as plt\n",
    "\n",
    "def is_terminal(s):\n",
    "    return s==[0,0] or s==[nx-1,ny-1]\n",
    "\n",
    "def step(s,a):\n",
    "    if is_terminal(s):\n",
    "        return s,0\n",
    "    \n",
    "    s_=[s[0]+a[0],s[1]+a[1]]\n",
    "    \n",
    "    if s_[0]<0 or s_[0]>=nx or s_[1]<0 or s_[1]>=ny:\n",
    "        s_=s\n",
    "        \n",
    "    r=-1\n",
    "    return s_,r\n",
    "\n",
    "def plot_arrow(i,pi_op):\n",
    "    scale=0.3\n",
    "    x0=nx-0.5\n",
    "    fig=plt.figure(figsize=(6,6))\n",
    "    ax=fig.add_subplot(1,1,1)\n",
    "    ax.set_aspect('equal', adjustable='box')\n",
    "    ax.set_xticks(np.arange(0,nx+1,1))\n",
    "    ax.set_yticks(np.arange(0,ny+1,1))\n",
    "    plt.grid()\n",
    "    plt.ylim((0,ny))\n",
    "    plt.xlim((0,nx))\n",
    "    \n",
    "    for (x,y), label in pi_op.items():\n",
    "        #print(x,y,label) \n",
    "        if [x,y]==[0,0] or [x,y]==[nx-1,ny-1]:\n",
    "            pass\n",
    "        else:  \n",
    "            if 1 in label: #up\n",
    "                plt.arrow(y+0.5,x0-x,0,scale,width=0.1, head_width=0.2, head_length=0.1,fc='g', ec='g')\n",
    "            if 3 in label: #down\n",
    "                plt.arrow(y+0.5,x0-x,0,-scale,width=0.1, head_width=0.2, head_length=0.1,fc='c', ec='c')\n",
    "            if 2 in label: #right\n",
    "                plt.arrow(y+0.5,x0-x,scale,0,width=0.1, head_width=0.2, head_length=0.1,fc='b', ec='b')\n",
    "            if 0 in label: #left\n",
    "                plt.arrow(y+0.5,x0-x,-scale,0,width=0.1, head_width=0.2, head_length=0.1,fc='r', ec='r')\n",
    "            plt.title('iteration:'+str(i))\n",
    "    \n",
    "    plt.savefig('policy_at_iter_'+str(i)+'.png',dpi=350)\n",
    "    plt.show()\n",
    "    plt.close()\n",
    "\n",
    "def calc_vk(k=217,pi=0.25,gm=1):\n",
    "    \n",
    "    global nx,ny,actions\n",
    "    nx,ny=4,4\n",
    "    actions=[[0,-1],[-1,0],[0,1],[1,0]] #left, up, right, down \n",
    "    \n",
    "    V=np.zeros((nx,ny))\n",
    "    pi_op={}\n",
    "    \n",
    "    for i in range(k):\n",
    "        V_=np.zeros_like(V)\n",
    "\n",
    "        for x in range(nx):\n",
    "            for y in range(ny):\n",
    "                v_a=[]\n",
    "                for a in actions:\n",
    "                    (x_,y_),r=step([x,y],a)\n",
    "                    v_a.append(pi*(r+gm*V[x_,y_]))\n",
    "                V_[x,y]=np.sum(v_a)    \n",
    "                pi_op[x,y]=[i for i, v in enumerate(v_a) if v == max(v_a)]\n",
    "\n",
    "        #convergence condition\n",
    "        if np.sum(np.abs(V-V_))<1e-4:\n",
    "            break\n",
    "\n",
    "        V=V_\n",
    "        \n",
    "    plot_arrow(i,pi_op)\n",
    "               \n",
    "    return np.around(V,decimals=1),pi_op\n",
    "\n",
    "def calc_v_op(k,pi_op):\n",
    "    V=np.zeros((nx,ny))\n",
    "    \n",
    "    for i in range(k):\n",
    "        V_=np.zeros_like(V)\n",
    "\n",
    "        for x in range(nx):\n",
    "            for y in range(ny):\n",
    "                v_a,pi=[0]*4,[0]*4\n",
    "                for ia,a in enumerate(actions):                \n",
    "                    (x_,y_),r=step([x,y],a)            \n",
    "                    pi[ia]=1 if ia in pi_op[x,y] else 0    \n",
    "                    v_a[ia]=pi[ia]*(r+gm*V[x_,y_])\n",
    "                V_[x,y]=np.sum(v_a)    \n",
    "                \n",
    "\n",
    "        #convergence condition\n",
    "        if np.sum(np.abs(V-V_))<1e-4:\n",
    "            break\n",
    "\n",
    "        V=V_\n",
    "        \n",
    "    return V\n",
    "    \n",
    "        \n",
    "V_pi,pi_op=calc_vk(k=217)\n",
    "\n",
    "V_pi_=calc_v_op(k=1,pi_op=pi_op)\n",
    "\n",
    "V_pi,V_pi_\n"
   ]
  },
  {
   "cell_type": "markdown",
   "id": "7eff510c-969b-4dc4-a5b3-823e5450046d",
   "metadata": {},
   "source": [
    "### Blackjack implementation with gym\n",
    "\n",
    "Example 5.1"
   ]
  },
  {
   "cell_type": "code",
   "execution_count": 4,
   "id": "3eff6cf3-c1df-4661-b66a-e1a3dd9ef2ac",
   "metadata": {},
   "outputs": [],
   "source": [
    "import gym\n",
    "import numpy as np\n",
    "import matplotlib.pyplot as plt\n",
    "from mpl_toolkits.mplot3d import Axes3D\n",
    "from collections import defaultdict\n",
    "from functools import partial\n",
    "\n",
    "plt.style.use('ggplot')"
   ]
  },
  {
   "cell_type": "code",
   "execution_count": 7,
   "id": "7c57e4bf-c3e4-4253-95d0-472f9f85af04",
   "metadata": {},
   "outputs": [],
   "source": [
    "env=gym.make('Blackjack-v1')\n",
    "\n",
    "#policy: hit until reach 19\n",
    "#actions: 0-stick, 1-hit\n",
    "\n",
    "def sample_policy(s):\n",
    "    score,score_dealer,ace=s\n",
    "    return 0 if score>=19 else 1\n",
    "\n"
   ]
  },
  {
   "cell_type": "code",
   "execution_count": null,
   "id": "67343bec-7746-41e0-a9fd-219a1c42bacf",
   "metadata": {},
   "outputs": [],
   "source": [
    "def generate_episode(policy,env):\n",
    "    \n",
    "    s_all,a_all,r_all=[],[],[]\n",
    "    s=env.reset()\n",
    "    \n",
    "    while True:\n",
    "        s_all.append(s)\n",
    "        a=sample_policy(s)\n",
    "        a_all.append(a)\n",
    "        \n",
    "        s_,r,done,_=env.step(a)\n",
    "        r_all.append(r)\n",
    "        \n",
    "        if done:\n",
    "            break\n",
    "            \n",
    "        return s_all,a_all,r_all\n",
    "    \n",
    "def first_visit_mc(policy,env,n_eps):\n",
    "    V=defaultdict(float)\n",
    "    cnt=defaultdict(int)\n",
    "    \n",
    "    for ep in range(n_eps):\n",
    "        states,_,rewards=generate_episode(policy,env)\n",
    "        returns=0\n",
    "\n",
    "        for t in range(len(states)-1,-1,-1):\n",
    "            R=rewards[t]\n",
    "            S=states[t]\n",
    "            returns+=R\n",
    "\n",
    "            if S not in states[:t]:\n",
    "                cns[S]+=1\n",
    "                V[S]+=(returns-V[S])/cnt[S]\n",
    "            \n",
    "    return V\n",
    "    "
   ]
  }
 ],
 "metadata": {
  "kernelspec": {
   "display_name": "Python 3 (ipykernel)",
   "language": "python",
   "name": "python3"
  },
  "language_info": {
   "codemirror_mode": {
    "name": "ipython",
    "version": 3
   },
   "file_extension": ".py",
   "mimetype": "text/x-python",
   "name": "python",
   "nbconvert_exporter": "python",
   "pygments_lexer": "ipython3",
   "version": "3.9.7"
  }
 },
 "nbformat": 4,
 "nbformat_minor": 5
}
