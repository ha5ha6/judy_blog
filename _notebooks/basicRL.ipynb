{
 "cells": [
  {
   "cell_type": "code",
   "execution_count": 7,
   "id": "696dbcc9-8fda-443e-a29b-29d65ec4ca7e",
   "metadata": {},
   "outputs": [
    {
     "name": "stdout",
     "output_type": "stream",
     "text": [
      "[[ 3.3  8.8  4.4  5.3  1.5]\n",
      " [ 1.5  3.   2.3  1.9  0.5]\n",
      " [ 0.1  0.7  0.7  0.4 -0.4]\n",
      " [-1.  -0.4 -0.4 -0.6 -1.2]\n",
      " [-1.9 -1.3 -1.2 -1.4 -2. ]]\n"
     ]
    }
   ],
   "source": [
    "import numpy as np\n",
    "\n",
    "nx,ny=5,5\n",
    "A,A_=[0,1],[4,1]\n",
    "B,B_=[0,3],[2,3]\n",
    "actions=[[0,-1],[-1,0],[0,1],[1,0]]#left,up,right,down\n",
    "pi=0.25\n",
    "gm=0.9\n",
    "\n",
    "def step(s,a):\n",
    "    if s==A:\n",
    "        return A_,10\n",
    "    if s==B:\n",
    "        return B_,5\n",
    "    \n",
    "    s_=[s[0]+a[0],s[1]+a[1]]\n",
    "    if s_[0]<0 or s_[0]>=nx or s_[1]<0 or s_[1]>=ny:\n",
    "        r=-1\n",
    "        s_=s\n",
    "    else:\n",
    "        r=0\n",
    "        \n",
    "    return s_,r\n",
    "\n",
    "V=np.zeros((nx,ny))\n",
    "\n",
    "while True:\n",
    "    V_=np.zeros_like(V)\n",
    "    for x in range(nx):\n",
    "        for y in range(ny):\n",
    "            va=[]\n",
    "            for a in actions:\n",
    "                (x_,y_),r=step([x,y],a)\n",
    "                va.append(pi*(r+gm*V[x_,y_]))\n",
    "            V_[x,y]=np.sum(va)\n",
    "\n",
    "    #print(np.around(V,decimals=2))\n",
    "    if np.sum(np.abs(V-V_))<1e-4:\n",
    "        print(np.around(V,decimals=1))\n",
    "        break\n",
    "    \n",
    "    V=V_"
   ]
  },
  {
   "cell_type": "code",
   "execution_count": 9,
   "id": "e62a6f35-2678-4d0b-85c1-186958f43f30",
   "metadata": {},
   "outputs": [
    {
     "name": "stdout",
     "output_type": "stream",
     "text": [
      "[[22.  24.4 22.  19.4 17.5]\n",
      " [19.8 22.  19.8 17.8 16. ]\n",
      " [17.8 19.8 17.8 16.  14.4]\n",
      " [16.  17.8 16.  14.4 13. ]\n",
      " [14.4 16.  14.4 13.  11.7]]\n"
     ]
    }
   ],
   "source": [
    "V=np.zeros((nx,ny))\n",
    "\n",
    "while True:\n",
    "    V_=np.zeros_like(V)\n",
    "    for x in range(nx):\n",
    "        for y in range(ny):\n",
    "            va=[]\n",
    "            for a in actions:\n",
    "                (x_,y_),r=step([x,y],a)\n",
    "                va.append(r+gm*V[x_,y_])\n",
    "            V_[x,y]=np.max(va)\n",
    "\n",
    "    #print(np.around(V,decimals=2))\n",
    "    if np.sum(np.abs(V-V_))<1e-4:\n",
    "        print(np.around(V,decimals=1))\n",
    "        break\n",
    "    \n",
    "    V=V_"
   ]
  },
  {
   "cell_type": "code",
   "execution_count": null,
   "id": "f6c7ada9-cf5b-44a5-97c4-213d9c80f629",
   "metadata": {},
   "outputs": [],
   "source": []
  }
 ],
 "metadata": {
  "kernelspec": {
   "display_name": "Python 3 (ipykernel)",
   "language": "python",
   "name": "python3"
  },
  "language_info": {
   "codemirror_mode": {
    "name": "ipython",
    "version": 3
   },
   "file_extension": ".py",
   "mimetype": "text/x-python",
   "name": "python",
   "nbconvert_exporter": "python",
   "pygments_lexer": "ipython3",
   "version": "3.9.7"
  }
 },
 "nbformat": 4,
 "nbformat_minor": 5
}
