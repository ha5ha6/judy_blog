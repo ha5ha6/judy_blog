{
 "cells": [
  {
   "cell_type": "markdown",
   "id": "bf04a749-3d7c-4260-9fea-62e895ff36a7",
   "metadata": {},
   "source": [
    "### three ways to do classification\n",
    "\n",
    "1. use discriminant function that directly assigns each data $\\textbf{x}$ to a specific class\n",
    "\n",
    "2. model $p(C_k|\\textbf{x})$\n",
    "\n",
    "2.1 **directly** by representing them as parametric models and then optimizing the parameters using some data\n",
    "\n",
    "2.2 model $p(\\textbf{x}|C_k)$, and together with a prior $p(C_k)$ to compute the posterior $p(C_k|\\textbf{x})$ by Baye's Theorem\n",
    "\n",
    "### problem setup\n",
    "\n",
    "in linear case, we have \n",
    "\n",
    "$h(\\textbf{w})=\\textbf{w}^T\\textbf{x}$\n",
    "\n",
    "in classification case, we use\n",
    "\n",
    "$h(\\textbf{w})=g(\\textbf{w}^T\\textbf{x})$\n",
    "\n",
    "where $g(\\cdot)$ is a nonlinear **activation function**, the above model can also be called **generalized linear models**"
   ]
  },
  {
   "cell_type": "code",
   "execution_count": null,
   "id": "fc1edb08-35aa-4d53-980e-3bc5c42841fc",
   "metadata": {},
   "outputs": [],
   "source": []
  }
 ],
 "metadata": {
  "kernelspec": {
   "display_name": "Python 3 (ipykernel)",
   "language": "python",
   "name": "python3"
  },
  "language_info": {
   "codemirror_mode": {
    "name": "ipython",
    "version": 3
   },
   "file_extension": ".py",
   "mimetype": "text/x-python",
   "name": "python",
   "nbconvert_exporter": "python",
   "pygments_lexer": "ipython3",
   "version": "3.8.12"
  }
 },
 "nbformat": 4,
 "nbformat_minor": 5
}
