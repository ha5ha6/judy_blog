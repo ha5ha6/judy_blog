{
 "cells": [
  {
   "cell_type": "code",
   "execution_count": 1,
   "id": "5d09a423-53cd-4cdf-8ec1-9187a0951709",
   "metadata": {},
   "outputs": [],
   "source": [
    "def sigmoid(x):\n",
    "    return 1./(1.+np.exp(-x))\n",
    "\n",
    "def d_sigmoid(x):\n",
    "    return sigmoid(x)*(1.0-sigmoid(x))\n",
    "\n",
    "#normalized for numerical stability  \n",
    "def softmax(x):\n",
    "    x=x-x.max()\n",
    "    return np.exp(x)/np.sum(np.exp(x),axis=0)\n",
    "\n",
    "def relu(x):\n",
    "    return (x>0)*x\n",
    "\n",
    "def d_relu(x):\n",
    "    return (x>0)*1.0\n",
    "\n",
    "def linear(x):\n",
    "    return x\n",
    "\n",
    "def d_linear(x):\n",
    "    return 1.\n",
    "\n",
    "def d_mse(y_hat,y):\n",
    "    return y_hat-y\n",
    "\n",
    "def d_bce_sigmoid(y_hat,y):\n",
    "    return y_hat-y\n",
    "\n",
    "def d_ce_softmax(y_hat,y):\n",
    "    return y_hat-y\n"
   ]
  },
  {
   "cell_type": "code",
   "execution_count": null,
   "id": "b3038d80-004b-4a72-ae13-1add2999422e",
   "metadata": {},
   "outputs": [],
   "source": []
  }
 ],
 "metadata": {
  "kernelspec": {
   "display_name": "Python 3 (ipykernel)",
   "language": "python",
   "name": "python3"
  },
  "language_info": {
   "codemirror_mode": {
    "name": "ipython",
    "version": 3
   },
   "file_extension": ".py",
   "mimetype": "text/x-python",
   "name": "python",
   "nbconvert_exporter": "python",
   "pygments_lexer": "ipython3",
   "version": "3.8.12"
  }
 },
 "nbformat": 4,
 "nbformat_minor": 5
}
